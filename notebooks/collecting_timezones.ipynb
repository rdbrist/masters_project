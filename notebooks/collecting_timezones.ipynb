{
 "cells": [
  {
   "metadata": {
    "ExecuteTime": {
     "end_time": "2025-05-19T16:28:33.966831Z",
     "start_time": "2025-05-19T16:28:33.883712Z"
    }
   },
   "cell_type": "code",
   "source": [
    "%load_ext autoreload\n",
    "%autoreload 2\n",
    "\n",
    "from src.data_processing.read import read_device_status_from_zip, parse_date_columns\n",
    "from src.configurations import Configuration\n"
   ],
   "id": "42d127b36c7811d0",
   "outputs": [
    {
     "name": "stdout",
     "output_type": "stream",
     "text": [
      "The autoreload extension is already loaded. To reload it, use:\n",
      "  %reload_ext autoreload\n"
     ]
    }
   ],
   "execution_count": 12
  },
  {
   "metadata": {
    "ExecuteTime": {
     "end_time": "2025-05-19T16:26:59.521369Z",
     "start_time": "2025-05-19T16:26:34.587852Z"
    }
   },
   "cell_type": "code",
   "outputs": [
    {
     "name": "stdout",
     "output_type": "stream",
     "text": [
      "The autoreload extension is already loaded. To reload it, use:\n",
      "  %reload_ext autoreload\n",
      "00221634\n"
     ]
    }
   ],
   "execution_count": 8,
   "source": [
    "\n",
    "zip_id = '00221634'\n",
    "config = Configuration()\n",
    "file = config.data_dir + '\\\\' +zip_id + '.zip'\n",
    "read_record = read_device_status_from_zip(file,config)"
   ],
   "id": "1d554f0e1c3dcd6f"
  },
  {
   "metadata": {
    "ExecuteTime": {
     "end_time": "2025-05-19T16:45:42.052233Z",
     "start_time": "2025-05-19T16:45:41.216460Z"
    }
   },
   "cell_type": "code",
   "source": [
    "\n",
    "time_cols = [c for c in config.time_cols() if c in read_record.df.columns]\n",
    "\n",
    "df = read_record.df[time_cols].melt()\n",
    "df['datetime'] = parse_date_columns(df['value'])\n",
    "df['timezone'] = df['datetime'].dt.tz\n",
    "df['timezone'].unique()\n"
   ],
   "id": "6068f1a5c98a456b",
   "outputs": [
    {
     "data": {
      "text/plain": [
       "array([datetime.timezone.utc], dtype=object)"
      ]
     },
     "execution_count": 23,
     "metadata": {},
     "output_type": "execute_result"
    }
   ],
   "execution_count": 23
  }
 ],
 "metadata": {
  "kernelspec": {
   "name": "python3",
   "language": "python",
   "display_name": "Python 3 (ipykernel)"
  }
 },
 "nbformat": 5,
 "nbformat_minor": 9
}
