{
 "cells": [
  {
   "metadata": {},
   "cell_type": "code",
   "outputs": [],
   "execution_count": null,
   "source": [
    "from unicodedata import category\n",
    "%load_ext autoreload\n",
    "%autoreload 2\n",
    "\n",
    "import pandas as pd\n",
    "\n",
    "from src.config import INTERIM_DATA_DIR\n",
    "from src.configurations import Configuration\n",
    "\n",
    "config = Configuration()\n",
    "file_name = '15min_iob_cob_bg.csv'\n",
    "file_path = INTERIM_DATA_DIR / file_name\n",
    "dtypes = {'id': int, 'iob count': int, 'cob count': int, 'bg count': int}\n",
    "df = pd.read_csv(file_path, index_col=0, parse_dates=True, dtype=dtypes).drop(columns='system')"
   ],
   "id": "f5d18a2e475093b3"
  },
  {
   "metadata": {},
   "cell_type": "code",
   "outputs": [],
   "execution_count": null,
   "source": [
    "# How many full days does each individual have? A full day is defined as having at least 96 15-minute intervals.\n",
    "full_days = df.groupby('id', group_keys=False).size() // 96\n",
    "mask_full_days = full_days.sort_values(ascending=False) > 100\n",
    "df = df.reset_index().set_index(['id','datetime']).sort_index(['id', 'datetime'])\n",
    "mask = df.index.get_level_values('id').isin(mask_full_days[mask_full_days].index)\n",
    "df = df[mask]\n",
    "print(f'People with > 100 days in the dataset: {len(df.index.get_level_values(\"id\").unique())}')"
   ],
   "id": "da668033f871b04e"
  },
  {
   "metadata": {},
   "cell_type": "code",
   "outputs": [],
   "execution_count": null,
   "source": [
    "# Now check and remove anyone that is missing all data for any of IOB, COB, BG columns\n",
    "check_cols = ['iob count', 'cob count', 'bg count']\n",
    "ids_with_only_nans_or_zeros = {}\n",
    "for col in check_cols:\n",
    "    mask = (\n",
    "        df.groupby('id')[col]\n",
    "        .apply(lambda x: x.isna().all() or (x.fillna(0) == 0).all())\n",
    "    )\n",
    "    ids_with_only_nans_or_zeros[col] = mask[mask].index.tolist()\n",
    "print(ids_with_only_nans_or_zeros)\n",
    "\n",
    "ids = set()\n",
    "for key, val in ids_with_only_nans_or_zeros.items():\n",
    "    ids.update(set(val))\n",
    "print(ids)\n",
    "df = df[~df.index.get_level_values('id').isin(ids)]"
   ],
   "id": "e531f341369016ad"
  },
  {
   "metadata": {},
   "cell_type": "code",
   "outputs": [],
   "execution_count": null,
   "source": [
    "# Add the weekday/weekend classification to the df\n",
    "df['day_type'] = df.index.get_level_values('datetime').weekday.map(lambda x: 'weekend' if x >= 5 else 'weekday').astype('category')\n",
    "df = pd.get_dummies(df, columns=['day_type'], prefix='day_type')\n",
    "df.head()"
   ],
   "id": "45fe7b5c72d23441"
  },
  {
   "metadata": {},
   "cell_type": "code",
   "outputs": [],
   "execution_count": null,
   "source": [
    "# Add rate of change columns based on iob, cob, bg mean columns\n",
    "# First add a column for the interval between the previous value and the next. The first value for an id will be NaN\n",
    "import numpy as np\n",
    "df['time_diff'] = df.index.get_level_values('datetime').diff()\n",
    "first_idx = ~df.index.get_level_values('id').duplicated()\n",
    "df.loc[first_idx, 'time_diff'] = np.nan\n",
    "df.head()\n",
    "\n",
    "interval = pd.Timedelta('15min')\n",
    "# Then add rate columns\n",
    "for col in ['iob mean', 'cob mean', 'bg mean']:\n",
    "    value_diff = df[col].groupby(df.index.get_level_values('id')).diff()\n",
    "    rate_of_change = value_diff.where(df['time_diff'] == interval)\n",
    "    df[f'{col} rate_of_change'] = rate_of_change"
   ],
   "id": "4fb3246425eae225"
  },
  {
   "metadata": {},
   "cell_type": "code",
   "outputs": [],
   "execution_count": null,
   "source": [
    "\n",
    "\n",
    "for col in ['iob mean', 'cob mean', 'bg mean']:\n",
    "    # Calculate the time difference between consecutive rows per id\n",
    "    time_diff = df.index.get_level_values('datetime').to_series().groupby(df.index.get_level_values('id')).diff()\n",
    "    print(time_diff.head())\n",
    "    # Calculate the difference in the column per id\n",
    "    value_diff = df[col].groupby(df.index.get_level_values('id')).diff()\n",
    "    print(value_diff.head())\n",
    "    # Only keep the rate of change where the time difference is exactly 15 minutes\n",
    "    rate_of_change = value_diff.where(time_diff == interval)\n",
    "    df[f'{col} rate_of_change'] = rate_of_change"
   ],
   "id": "64803dfd8d1e91cf"
  },
  {
   "metadata": {},
   "cell_type": "code",
   "outputs": [],
   "execution_count": null,
   "source": "# Implement minmax scaling",
   "id": "5bf12382e3487206"
  }
 ],
 "metadata": {},
 "nbformat": 5,
 "nbformat_minor": 9
}
