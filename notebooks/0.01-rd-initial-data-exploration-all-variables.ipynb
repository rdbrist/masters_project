{
 "cells": [
  {
   "metadata": {},
   "cell_type": "markdown",
   "source": [
    "# 0.01 - Data Exploration - IOB, COB and BG\n",
    "The notebook 0.01-rd-initial-data-exploration-cob.ipynd was an early attempt to understand COB data, the quality and integrity of it. This notebook will now look at the overall sample of those that we can confidently and easily offset the timestamps (i.e. those that only have only timezone associated), and then drill down to the selected candidates that will be used for the study, based on the criteria set out in 2.01-rd-candidate-selection-analysis.ipynb."
   ],
   "id": "2cde42d7c953d0dc"
  },
  {
   "metadata": {
    "ExecuteTime": {
     "end_time": "2025-08-16T17:34:58.660715Z",
     "start_time": "2025-08-16T17:34:58.579363Z"
    }
   },
   "cell_type": "code",
   "source": [
    "%load_ext autoreload\n",
    "%autoreload 2\n",
    "\n",
    "import pandas as pd\n",
    "import numpy as np\n",
    "import seaborn as sns\n",
    "from datetime import time\n",
    "from typing import List, Tuple\n",
    "from matplotlib import pyplot as plt\n",
    "from IPython.display import display\n",
    "from loguru import logger\n",
    "from collections import defaultdict\n",
    "import sys\n",
    "\n",
    "from src.config import INTERIM_DATA_DIR, FIGURES_DIR\n",
    "from src.sample_filter import SampleFilter\n",
    "from src.configurations import FifteenMinute, ThirtyMinute"
   ],
   "id": "80b89abdeea2e739",
   "outputs": [
    {
     "name": "stdout",
     "output_type": "stream",
     "text": [
      "The autoreload extension is already loaded. To reload it, use:\n",
      "  %reload_ext autoreload\n"
     ]
    }
   ],
   "execution_count": 31
  },
  {
   "metadata": {},
   "cell_type": "markdown",
   "source": [
    "## Raw Data Analysis\n",
    "The raw data is stored in the interim directory, and we will load it to understand the structure and content of the data. This will help us to identify any issues with the data, such as missing values or inconsistencies, and to determine the best approach for cleaning and preprocessing the data."
   ],
   "id": "8d9d937e74917360"
  },
  {
   "metadata": {
    "ExecuteTime": {
     "end_time": "2025-08-16T14:54:32.910664Z",
     "start_time": "2025-08-16T14:54:24.630355Z"
    }
   },
   "cell_type": "code",
   "source": [
    "irregular_df = pd.read_csv(INTERIM_DATA_DIR / 'irregular_iob_cob_bg.csv')\n",
    "irregular_df['datetime'] = pd.to_datetime(irregular_df['datetime'], format='ISO8601')\n",
    "irregular_df['date'] = irregular_df['datetime'].dt.date\n",
    "print(f'Patient count: {irregular_df[\"id\"].nunique()}')\n",
    "print(f'Number of rows: {irregular_df.shape[0]}')\n",
    "print(f'Number of unique patient dates: {irregular_df[[\"id\", \"date\"]].drop_duplicates().shape[0]}')"
   ],
   "id": "1ae3c5b92afabe06",
   "outputs": [
    {
     "name": "stdout",
     "output_type": "stream",
     "text": [
      "Patient count: 114\n",
      "Number of rows: 1056315\n",
      "Number of unique patient dates: 10193\n"
     ]
    }
   ],
   "execution_count": 12
  },
  {
   "metadata": {
    "ExecuteTime": {
     "end_time": "2025-08-16T14:54:34.668445Z",
     "start_time": "2025-08-16T14:54:32.976170Z"
    }
   },
   "cell_type": "code",
   "source": [
    "irreg_stats = irregular_df[['bg', 'iob', 'cob']].describe().T\n",
    "display(irreg_stats)\n",
    "irreg_table = irreg_stats.to_latex(\n",
    "    index=True,\n",
    "    float_format='%.2f',\n",
    "    caption='Descriptive statistics of the irregularly sampled data for BG, IOB, and COB.',\n",
    "    label='tab:irregular_stats',\n",
    "    header=['Count', 'Mean', 'Std Dev', 'Min', '25%', '50%', '75%', 'Max'],\n",
    ")\n",
    "print(irreg_table)"
   ],
   "id": "3a144b29023d2119",
   "outputs": [
    {
     "data": {
      "text/plain": [
       "         count        mean        std    min     25%      50%      75%  \\\n",
       "bg   1028030.0  138.284830  50.466897  29.00  102.00  127.000  164.000   \n",
       "iob  1002671.0    1.611944   2.329427  -8.06    0.14    0.898    2.335   \n",
       "cob   965094.0    8.554868  18.420240   0.00    0.00    0.000    8.000   \n",
       "\n",
       "         max  \n",
       "bg   489.000  \n",
       "iob   47.567  \n",
       "cob  223.000  "
      ],
      "text/html": [
       "<div>\n",
       "<style scoped>\n",
       "    .dataframe tbody tr th:only-of-type {\n",
       "        vertical-align: middle;\n",
       "    }\n",
       "\n",
       "    .dataframe tbody tr th {\n",
       "        vertical-align: top;\n",
       "    }\n",
       "\n",
       "    .dataframe thead th {\n",
       "        text-align: right;\n",
       "    }\n",
       "</style>\n",
       "<table border=\"1\" class=\"dataframe\">\n",
       "  <thead>\n",
       "    <tr style=\"text-align: right;\">\n",
       "      <th></th>\n",
       "      <th>count</th>\n",
       "      <th>mean</th>\n",
       "      <th>std</th>\n",
       "      <th>min</th>\n",
       "      <th>25%</th>\n",
       "      <th>50%</th>\n",
       "      <th>75%</th>\n",
       "      <th>max</th>\n",
       "    </tr>\n",
       "  </thead>\n",
       "  <tbody>\n",
       "    <tr>\n",
       "      <th>bg</th>\n",
       "      <td>1028030.0</td>\n",
       "      <td>138.284830</td>\n",
       "      <td>50.466897</td>\n",
       "      <td>29.00</td>\n",
       "      <td>102.00</td>\n",
       "      <td>127.000</td>\n",
       "      <td>164.000</td>\n",
       "      <td>489.000</td>\n",
       "    </tr>\n",
       "    <tr>\n",
       "      <th>iob</th>\n",
       "      <td>1002671.0</td>\n",
       "      <td>1.611944</td>\n",
       "      <td>2.329427</td>\n",
       "      <td>-8.06</td>\n",
       "      <td>0.14</td>\n",
       "      <td>0.898</td>\n",
       "      <td>2.335</td>\n",
       "      <td>47.567</td>\n",
       "    </tr>\n",
       "    <tr>\n",
       "      <th>cob</th>\n",
       "      <td>965094.0</td>\n",
       "      <td>8.554868</td>\n",
       "      <td>18.420240</td>\n",
       "      <td>0.00</td>\n",
       "      <td>0.00</td>\n",
       "      <td>0.000</td>\n",
       "      <td>8.000</td>\n",
       "      <td>223.000</td>\n",
       "    </tr>\n",
       "  </tbody>\n",
       "</table>\n",
       "</div>"
      ]
     },
     "metadata": {},
     "output_type": "display_data"
    },
    {
     "name": "stdout",
     "output_type": "stream",
     "text": [
      "\\begin{table}\n",
      "\\caption{Descriptive statistics of the irregularly sampled data for BG, IOB, and COB.}\n",
      "\\label{tab:irregular_stats}\n",
      "\\begin{tabular}{lrrrrrrrr}\n",
      "\\toprule\n",
      " & Count & Mean & Std Dev & Min & 25% & 50% & 75% & Max \\\\\n",
      "\\midrule\n",
      "bg & 1028030.00 & 138.28 & 50.47 & 29.00 & 102.00 & 127.00 & 164.00 & 489.00 \\\\\n",
      "iob & 1002671.00 & 1.61 & 2.33 & -8.06 & 0.14 & 0.90 & 2.33 & 47.57 \\\\\n",
      "cob & 965094.00 & 8.55 & 18.42 & 0.00 & 0.00 & 0.00 & 8.00 & 223.00 \\\\\n",
      "\\bottomrule\n",
      "\\end{tabular}\n",
      "\\end{table}\n",
      "\n"
     ]
    }
   ],
   "execution_count": 13
  },
  {
   "metadata": {
    "ExecuteTime": {
     "end_time": "2025-08-16T14:54:36.243662Z",
     "start_time": "2025-08-16T14:54:34.760214Z"
    }
   },
   "cell_type": "code",
   "source": "print(f'Min date: {irregular_df[\"date\"].min()}, Max date: {irregular_df[\"date\"].max()}')",
   "id": "7cd782fa444f05a9",
   "outputs": [
    {
     "name": "stdout",
     "output_type": "stream",
     "text": [
      "Min date: 2000-01-01, Max date: 2021-04-06\n"
     ]
    }
   ],
   "execution_count": 14
  },
  {
   "metadata": {
    "ExecuteTime": {
     "end_time": "2025-08-16T14:55:38.280103Z",
     "start_time": "2025-08-16T14:54:36.329808Z"
    }
   },
   "cell_type": "code",
   "source": [
    "fig = plt.figure(figsize=(6, 3))\n",
    "sns.histplot(irregular_df['date'], kde=True)\n",
    "plt.title('Histogram of Dates in Irregular Data')\n",
    "plt.show()"
   ],
   "id": "8413f4e0c96e7ee2",
   "outputs": [
    {
     "data": {
      "text/plain": [
       "<Figure size 600x300 with 1 Axes>"
      ],
      "image/png": "[encoded data removed]"
     },
     "metadata": {},
     "output_type": "display_data"
    }
   ],
   "execution_count": 15
  },
  {
   "metadata": {
    "ExecuteTime": {
     "end_time": "2025-08-16T14:55:39.095872Z",
     "start_time": "2025-08-16T14:55:38.363795Z"
    }
   },
   "cell_type": "code",
   "source": [
    "odd_dates = irregular_df[irregular_df['datetime'].dt.year < 2016]\n",
    "print('Records with erroneous dates:')\n",
    "odd_dates.groupby(['id', 'date']).size().sort_values(ascending=False)"
   ],
   "id": "98b7df1d620848e0",
   "outputs": [
    {
     "name": "stdout",
     "output_type": "stream",
     "text": [
      "Records with erroneous dates:\n"
     ]
    },
    {
     "data": {
      "text/plain": [
       "id        date      \n",
       "71397255  2000-01-01    2\n",
       "97417885  2000-01-01    2\n",
       "dtype: int64"
      ]
     },
     "execution_count": 16,
     "metadata": {},
     "output_type": "execute_result"
    }
   ],
   "execution_count": 16
  },
  {
   "metadata": {
    "ExecuteTime": {
     "end_time": "2025-08-16T14:55:42.020239Z",
     "start_time": "2025-08-16T14:55:39.361818Z"
    }
   },
   "cell_type": "code",
   "source": "print(f'Earliest date following outlier removal: {irregular_df.drop(index=odd_dates.index)[\"datetime\"].dt.date.min().strftime(\"%Y-%m-%d\")}')",
   "id": "344286ae99b41da2",
   "outputs": [
    {
     "name": "stdout",
     "output_type": "stream",
     "text": [
      "Earliest date following outlier removal: 2016-02-06\n"
     ]
    }
   ],
   "execution_count": 17
  },
  {
   "metadata": {},
   "cell_type": "markdown",
   "source": [
    "\n",
    "## Missingness from resampled data\n",
    "Resampling data from irregular to regular intervals does not initially carry out imputation of missing values, so we will need to check the number of NaNs in the resampled data. This is important because we want to ensure that the data is complete and that there are no missing values that could affect the analysis. This will guide us on the methods used for analysis, the risks involved in introducing bias, and ultimately the methods used for imputation of missing values if this is strategy we choose to take. The following will analyse the level of missingness in the different resampled levels. in the data. The factors that will vary in the analysis are:\n",
    "- The resampling interval (15 minutes, 30 minutes)\n",
    "- The number of consecutive missing intervals (dependent on the resampling interval, e.g. 2 for 30 minutes, 4 for 15 minutes)\n",
    "- The minimum number of nights (20, 3)\n",
    "- The start and end times of the night period (e.g. 17:00 to 11:00, 22:00 to 06:00)\n",
    "- The number of missing intervals (dependent on the resampling interval, e.g. 2 for 30 minutes, 4 for 15 minutes)"
   ],
   "id": "379e9a9e27c0a790"
  },
  {
   "metadata": {
    "ExecuteTime": {
     "end_time": "2025-08-16T19:01:38.358015Z",
     "start_time": "2025-08-16T19:01:38.256568Z"
    }
   },
   "cell_type": "code",
   "source": [
    "def plot_counts(counts: List[Tuple[int, int, int, int]], title, output_file):\n",
    "    print(title)\n",
    "    data = defaultdict(lambda: {'intervals': [], 'c': [], 'n': []})\n",
    "    max_interval = max([i for _, i, _, _ in counts])\n",
    "    max_candidates = max([c for _, _, c, _ in counts])\n",
    "    max_nights = max([n for _, _, _, n in counts])\n",
    "    for max_length, missed_intervals, c, n in counts:\n",
    "        data[max_length]['intervals'].append(missed_intervals)\n",
    "        data[max_length]['c'].append(c)\n",
    "        data[max_length]['n'].append(n)\n",
    "    fig, ax1 = plt.subplots(figsize=(5, 3))\n",
    "    color_map = plt.get_cmap('tab10')\n",
    "    colors = [color_map(i) for i in range(len(data))]\n",
    "\n",
    "    ax2 = ax1.twinx()\n",
    "\n",
    "    for idx, (max_length, vals) in enumerate(sorted(data.items())):\n",
    "        color = colors[idx]\n",
    "        ax1.plot(vals['intervals'], vals['c'], marker='o', linestyle='-', color=color, label=f'Patients (max_length={max_length})')\n",
    "        ax2.plot(vals['intervals'], vals['n'], marker='x', linestyle='--', color=color, label=f'Nights (max_length={max_length})')\n",
    "\n",
    "    ax1.set_xlabel('Threshold of Missing Intervals Allowed')\n",
    "    ax1.set_xticks(np.arange(0, max_interval+1, 1))\n",
    "    ax1.set_ylabel('Count of Patients')\n",
    "    candidate_interval = 2 if max_candidates < 15 else 4\n",
    "    night_interval = 100 if max_nights < 1000 else 200\n",
    "    ax1.set_yticks(np.arange(0, max_candidates+1, candidate_interval))\n",
    "    ax2.set_ylabel('Count of Nights')\n",
    "    ax2.set_yticks(np.arange(0, max_nights+1, night_interval))\n",
    "\n",
    "    lines1, labels1 = ax1.get_legend_handles_labels()\n",
    "    lines2, labels2 = ax2.get_legend_handles_labels()\n",
    "    ax1.legend(lines1 + lines2, labels1 + labels2)\n",
    "\n",
    "    fig.tight_layout()\n",
    "\n",
    "    plt.grid()\n",
    "    plt.savefig(FIGURES_DIR / output_file, dpi=300, bbox_inches='tight')\n",
    "    plt.show()"
   ],
   "id": "578ca494dab9c3c1",
   "outputs": [],
   "execution_count": 53
  },
  {
   "metadata": {
    "ExecuteTime": {
     "end_time": "2025-08-16T17:34:16.019424Z",
     "start_time": "2025-08-16T17:34:15.943023Z"
    }
   },
   "cell_type": "code",
   "source": [
    "def get_counts(sampling, night_start, morning_end, min_nights, interval_range, break_range,):\n",
    "    counts = []\n",
    "    for missed_intervals in interval_range:\n",
    "        for max_length in break_range:\n",
    "            sample = SampleFilter(\n",
    "                    night_start=night_start,\n",
    "                    morning_end=morning_end,\n",
    "                    sampling=sampling,\n",
    "                    missed_intervals=missed_intervals,\n",
    "                    max_break_run=max_length,\n",
    "                    min_nights=min_nights,\n",
    "                )\n",
    "            c, n = sample.return_counts(logging=False)\n",
    "            counts.append((max_length, missed_intervals, c, n))\n",
    "    return counts"
   ],
   "id": "399a1de5e8f9929f",
   "outputs": [],
   "execution_count": 27
  },
  {
   "metadata": {
    "ExecuteTime": {
     "end_time": "2025-08-16T19:13:34.546223Z",
     "start_time": "2025-08-16T19:04:33.599414Z"
    }
   },
   "cell_type": "code",
   "source": [
    "# NOTE: At 15 min sampling this takes 14mins\n",
    "logger.remove()\n",
    "interval_range = range(0,10)\n",
    "break_range = [1,2,3]\n",
    "night_start = time(17, 0)\n",
    "morning_end = time(11, 0)\n",
    "sampling15 = FifteenMinute()\n",
    "min_nights = 30\n",
    "missed_intervals = 12\n",
    "\n",
    "min_counts_a = get_counts(sampling15, night_start, morning_end, min_nights, interval_range, break_range,)"
   ],
   "id": "9fa41450932d6bd9",
   "outputs": [],
   "execution_count": 57
  },
  {
   "metadata": {
    "ExecuteTime": {
     "end_time": "2025-08-16T19:13:34.781879Z",
     "start_time": "2025-08-16T19:13:34.651779Z"
    }
   },
   "cell_type": "code",
   "source": "print(f'Max nights: {max([x[3] for x in min_counts_a])}')",
   "id": "ef71c1eefec64842",
   "outputs": [
    {
     "name": "stdout",
     "output_type": "stream",
     "text": [
      "Max nights: 375\n"
     ]
    }
   ],
   "execution_count": 58
  },
  {
   "metadata": {
    "ExecuteTime": {
     "end_time": "2025-08-16T19:13:35.727048Z",
     "start_time": "2025-08-16T19:13:35.217577Z"
    }
   },
   "cell_type": "code",
   "source": [
    "title = 'Counts of Candidates and Nights vs Missing Intervals\\nGrouped by Max Length of Missing Intervals Allowed\\n15 Minute Sampling, 30 Nights Minimum'\n",
    "plot_counts(min_counts_a, title, output_file='counts_15min_30nights.png')\n",
    "print('Analysis of number of patients and nights returned at 15 minute sampling with 30 nights minimum, in a range of up to 12 missed intervals allowed and 1-3 max consecutive intervals missed.')"
   ],
   "id": "208b5b86aa1b9c2c",
   "outputs": [
    {
     "name": "stdout",
     "output_type": "stream",
     "text": [
      "Counts of Candidates and Nights vs Missing Intervals\n",
      "Grouped by Max Length of Missing Intervals Allowed\n",
      "15 Minute Sampling, 30 Nights Minimum\n"
     ]
    },
    {
     "data": {
      "text/plain": [
       "<Figure size 500x300 with 2 Axes>"
      ],
      "image/png": "[encoded data removed]"
     },
     "metadata": {},
     "output_type": "display_data"
    },
    {
     "name": "stdout",
     "output_type": "stream",
     "text": [
      "Analysis of number of patients and nights returned at 15 minute sampling with 30 nights minimum, in a range of up to 12 missed intervals allowed and 1-3 max consecutive intervals missed.\n"
     ]
    }
   ],
   "execution_count": 59
  },
  {
   "metadata": {
    "ExecuteTime": {
     "end_time": "2025-08-16T19:21:44.682432Z",
     "start_time": "2025-08-16T19:13:35.803828Z"
    }
   },
   "cell_type": "code",
   "source": [
    "# NOTE: At 15 min sampling this takes 12mins\n",
    "interval_range = range(0,10)\n",
    "break_range = [1,2,3]\n",
    "night_start = time(17, 0)\n",
    "morning_end = time(11, 0)\n",
    "sampling15 = FifteenMinute()\n",
    "min_nights = 20\n",
    "\n",
    "min_counts_b = get_counts(sampling15, night_start, morning_end, min_nights, interval_range, break_range,)"
   ],
   "id": "ccba0803375b630d",
   "outputs": [],
   "execution_count": 60
  },
  {
   "metadata": {
    "ExecuteTime": {
     "end_time": "2025-08-16T19:21:45.450048Z",
     "start_time": "2025-08-16T19:21:44.865341Z"
    }
   },
   "cell_type": "code",
   "source": [
    "title = 'Counts of Candidates and Nights vs Missing Intervals\\nGrouped by Max Length of Missing Intervals Allowed\\n15 Minute Sampling, 20 Nights Minimum'\n",
    "plot_counts(min_counts_b, title, output_file='counts_15min_20nights.png')\n",
    "print('Analysis of number of patients and nights returned at 15 minute sampling with 30 nights minimum, and 12 missed intervals allowed.')\n",
    "print(f'Max nights: {max([x[3] for x in min_counts_b])}')"
   ],
   "id": "acfbbeeeeb09488c",
   "outputs": [
    {
     "name": "stdout",
     "output_type": "stream",
     "text": [
      "Counts of Candidates and Nights vs Missing Intervals\n",
      "Grouped by Max Length of Missing Intervals Allowed\n",
      "15 Minute Sampling, 20 Nights Minimum\n"
     ]
    },
    {
     "data": {
      "text/plain": [
       "<Figure size 500x300 with 2 Axes>"
      ],
      "image/png": "[encoded data removed]"
     },
     "metadata": {},
     "output_type": "display_data"
    },
    {
     "name": "stdout",
     "output_type": "stream",
     "text": [
      "Analysis of number of patients and nights returned at 15 minute sampling with 30 nights minimum, and 12 missed intervals allowed.\n",
      "Max nights: 519\n"
     ]
    }
   ],
   "execution_count": 61
  },
  {
   "metadata": {
    "ExecuteTime": {
     "end_time": "2025-08-16T19:21:45.460943Z",
     "start_time": "2025-08-16T19:21:45.453Z"
    }
   },
   "cell_type": "code",
   "source": "",
   "id": "15c38df362119845",
   "outputs": [],
   "execution_count": null
  },
  {
   "metadata": {
    "ExecuteTime": {
     "end_time": "2025-08-16T19:24:04.158255Z",
     "start_time": "2025-08-16T19:21:45.640552Z"
    }
   },
   "cell_type": "code",
   "source": [
    "sampling30 = ThirtyMinute()\n",
    "interval_range = range(0,4)\n",
    "break_range = [1,2]\n",
    "min_nights = 30\n",
    "min_counts_c = get_counts(sampling30, night_start, morning_end, min_nights, interval_range, break_range,)\n",
    "title = 'Counts of Candidates and Nights vs Missing Intervals\\nGrouped by Max Length of Missing Intervals Allowed\\n30 Minute Sampling, 30 Nights Minimum'\n",
    "plot_counts(min_counts_c, title, output_file='counts_30min_30nights.png')"
   ],
   "id": "4e4d8d72405aa1a9",
   "outputs": [
    {
     "name": "stdout",
     "output_type": "stream",
     "text": [
      "Counts of Candidates and Nights vs Missing Intervals\n",
      "Grouped by Max Length of Missing Intervals Allowed\n",
      "30 Minute Sampling, 30 Nights Minimum\n"
     ]
    },
    {
     "data": {
      "text/plain": [
       "<Figure size 500x300 with 2 Axes>"
      ],
      "image/png": "[encoded data removed]"
     },
     "metadata": {},
     "output_type": "display_data"
    }
   ],
   "execution_count": 62
  },
  {
   "metadata": {
    "ExecuteTime": {
     "end_time": "2025-08-16T19:24:04.459815Z",
     "start_time": "2025-08-16T19:24:04.341229Z"
    }
   },
   "cell_type": "code",
   "source": "print(f'Max nights: {max([x[3] for x in min_counts_c])}')",
   "id": "20dd6d05a8d94add",
   "outputs": [
    {
     "name": "stdout",
     "output_type": "stream",
     "text": [
      "Max nights: 1924\n"
     ]
    }
   ],
   "execution_count": 63
  },
  {
   "metadata": {},
   "cell_type": "markdown",
   "source": "It is now also clear that there are individuals with a significant amount of missing data for COB, but not totally missing COB data. This is likely due to the way that COB data is collected and processed, and it is important to note that this may affect the analysis. It will not be possible to cluster these individuals and needs to be another step in the process of selecting candidates. Lets look at the data, and find a criteria to use for selection. First, we can load the data without constraint for the period concerned.",
   "id": "171839e0af555dfc"
  },
  {
   "metadata": {
    "ExecuteTime": {
     "end_time": "2025-08-16T19:24:30.862923Z",
     "start_time": "2025-08-16T19:24:04.472822Z"
    }
   },
   "cell_type": "code",
   "source": [
    "logger.add(sys.stderr, level=\"INFO\")\n",
    "night_start = time(17, 0)\n",
    "morning_end = time(11, 0)\n",
    "sampling = ThirtyMinute()\n",
    "min_nights = 0\n",
    "missed_intervals = 999\n",
    "max_break_run = 999\n",
    "sample = SampleFilter(\n",
    "    night_start=night_start,\n",
    "    morning_end=morning_end,\n",
    "    sampling=sampling,\n",
    "    missed_intervals=missed_intervals,\n",
    "    max_break_run= max_break_run,\n",
    "    min_nights=min_nights,\n",
    ")\n",
    "print(f\"Number of single-timezone patients: {len(sample.stats.index.unique())}\")\n",
    "sample.return_counts()"
   ],
   "id": "d1c6e20dfe6b7de5",
   "outputs": [
    {
     "name": "stderr",
     "output_type": "stream",
     "text": [
      "\u001B[32m2025-08-16 20:24:14.231\u001B[0m | \u001B[1mINFO    \u001B[0m | \u001B[36msrc.nights\u001B[0m:\u001B[36m_calculate_overall_stats\u001B[0m:\u001B[36m163\u001B[0m - \u001B[1mNo stats per night have been calculated for 67167655. Returning no output.\u001B[0m\n",
      "\u001B[32m2025-08-16 20:24:20.929\u001B[0m | \u001B[1mINFO    \u001B[0m | \u001B[36msrc.sample_filter\u001B[0m:\u001B[36m__init__\u001B[0m:\u001B[36m68\u001B[0m - \u001B[1mNumber of nights objects created: 83\u001B[0m\n",
      "\u001B[32m2025-08-16 20:24:26.640\u001B[0m | \u001B[1mINFO    \u001B[0m | \u001B[36msrc.nights\u001B[0m:\u001B[36m_calculate_overall_stats\u001B[0m:\u001B[36m163\u001B[0m - \u001B[1mNo stats per night have been calculated for 67167655. Returning no output.\u001B[0m\n",
      "\u001B[32m2025-08-16 20:24:30.854\u001B[0m | \u001B[1mINFO    \u001B[0m | \u001B[36msrc.sample_filter\u001B[0m:\u001B[36mreturn_counts\u001B[0m:\u001B[36m139\u001B[0m - \u001B[1mFor sample rate of 30 minutes:\n",
      "  min_nights=0\n",
      "  missed_intervals=999\u001B[0m\n",
      "\u001B[32m2025-08-16 20:24:30.857\u001B[0m | \u001B[1mINFO    \u001B[0m | \u001B[36msrc.sample_filter\u001B[0m:\u001B[36mreturn_counts\u001B[0m:\u001B[36m142\u001B[0m - \u001B[1mNumber of candidates: 83\u001B[0m\n",
      "\u001B[32m2025-08-16 20:24:30.857\u001B[0m | \u001B[1mINFO    \u001B[0m | \u001B[36msrc.sample_filter\u001B[0m:\u001B[36mreturn_counts\u001B[0m:\u001B[36m143\u001B[0m - \u001B[1mNumber of nights: 6727\u001B[0m\n"
     ]
    },
    {
     "name": "stdout",
     "output_type": "stream",
     "text": [
      "Number of single-timezone patients: 82\n"
     ]
    },
    {
     "data": {
      "text/plain": [
       "(83, 6727)"
      ]
     },
     "execution_count": 64,
     "metadata": {},
     "output_type": "execute_result"
    }
   ],
   "execution_count": 64
  },
  {
   "metadata": {},
   "cell_type": "markdown",
   "source": "The number of candidates following filtering to a single timezone and then processing statistics for their night reduces patients to n=82. Then we need to look at understanding the proportion of missing data in the sample for individuals and look at acceptable conditions for selection. We need to minimise the number of missing values as it will impact the clustering and ability to find unbiased patterns.",
   "id": "746da429d201470e"
  },
  {
   "metadata": {
    "ExecuteTime": {
     "end_time": "2025-08-16T19:24:31.040898Z",
     "start_time": "2025-08-16T19:24:30.937263Z"
    }
   },
   "cell_type": "code",
   "source": [
    "stats = sample.stats.copy()\n",
    "cob_stats = stats[stats['cob_nan_ratio']>0.0].sort_values(by='cob_nan_ratio', ascending=False)\n",
    "iob_stats = stats[stats['iob_nan_ratio']>0.00].sort_values(by='iob_nan_ratio', ascending=False)\n",
    "bg_stats = stats[stats['bg_nan_ratio']>0.00].sort_values(by='bg_nan_ratio', ascending=False)\n",
    "print(f'Number of patients with COB missing: {len(cob_stats.index.unique())}')\n",
    "display(cob_stats[['count_of_nights', 'cob_nan_ratio']].head())\n",
    "print(f'Number of patients with IOB missing: {len(iob_stats.index.unique())}')\n",
    "display(iob_stats[['count_of_nights', 'iob_nan_ratio']].head())\n",
    "print(f'Number of patients with BG missing: {len(bg_stats.index.unique())}')\n",
    "display(bg_stats[['count_of_nights', 'bg_nan_ratio']].head())"
   ],
   "id": "c3e624da657c255b",
   "outputs": [
    {
     "name": "stdout",
     "output_type": "stream",
     "text": [
      "Number of patients with COB missing: 41\n"
     ]
    },
    {
     "data": {
      "text/plain": [
       "          count_of_nights  cob_nan_ratio\n",
       "id                                      \n",
       "57176789              322       0.509058\n",
       "68267781              291       0.467640\n",
       "99296581               11       0.313131\n",
       "72492570               36       0.266204\n",
       "71397255               25       0.220000"
      ],
      "text/html": [
       "<div>\n",
       "<style scoped>\n",
       "    .dataframe tbody tr th:only-of-type {\n",
       "        vertical-align: middle;\n",
       "    }\n",
       "\n",
       "    .dataframe tbody tr th {\n",
       "        vertical-align: top;\n",
       "    }\n",
       "\n",
       "    .dataframe thead th {\n",
       "        text-align: right;\n",
       "    }\n",
       "</style>\n",
       "<table border=\"1\" class=\"dataframe\">\n",
       "  <thead>\n",
       "    <tr style=\"text-align: right;\">\n",
       "      <th></th>\n",
       "      <th>count_of_nights</th>\n",
       "      <th>cob_nan_ratio</th>\n",
       "    </tr>\n",
       "    <tr>\n",
       "      <th>id</th>\n",
       "      <th></th>\n",
       "      <th></th>\n",
       "    </tr>\n",
       "  </thead>\n",
       "  <tbody>\n",
       "    <tr>\n",
       "      <th>57176789</th>\n",
       "      <td>322</td>\n",
       "      <td>0.509058</td>\n",
       "    </tr>\n",
       "    <tr>\n",
       "      <th>68267781</th>\n",
       "      <td>291</td>\n",
       "      <td>0.467640</td>\n",
       "    </tr>\n",
       "    <tr>\n",
       "      <th>99296581</th>\n",
       "      <td>11</td>\n",
       "      <td>0.313131</td>\n",
       "    </tr>\n",
       "    <tr>\n",
       "      <th>72492570</th>\n",
       "      <td>36</td>\n",
       "      <td>0.266204</td>\n",
       "    </tr>\n",
       "    <tr>\n",
       "      <th>71397255</th>\n",
       "      <td>25</td>\n",
       "      <td>0.220000</td>\n",
       "    </tr>\n",
       "  </tbody>\n",
       "</table>\n",
       "</div>"
      ]
     },
     "metadata": {},
     "output_type": "display_data"
    },
    {
     "name": "stdout",
     "output_type": "stream",
     "text": [
      "Number of patients with IOB missing: 4\n"
     ]
    },
    {
     "data": {
      "text/plain": [
       "          count_of_nights  iob_nan_ratio\n",
       "id                                      \n",
       "68267781              291       0.318251\n",
       "72492570               36       0.191358\n",
       "63725802                2       0.166667\n",
       "90398368                8       0.013889"
      ],
      "text/html": [
       "<div>\n",
       "<style scoped>\n",
       "    .dataframe tbody tr th:only-of-type {\n",
       "        vertical-align: middle;\n",
       "    }\n",
       "\n",
       "    .dataframe tbody tr th {\n",
       "        vertical-align: top;\n",
       "    }\n",
       "\n",
       "    .dataframe thead th {\n",
       "        text-align: right;\n",
       "    }\n",
       "</style>\n",
       "<table border=\"1\" class=\"dataframe\">\n",
       "  <thead>\n",
       "    <tr style=\"text-align: right;\">\n",
       "      <th></th>\n",
       "      <th>count_of_nights</th>\n",
       "      <th>iob_nan_ratio</th>\n",
       "    </tr>\n",
       "    <tr>\n",
       "      <th>id</th>\n",
       "      <th></th>\n",
       "      <th></th>\n",
       "    </tr>\n",
       "  </thead>\n",
       "  <tbody>\n",
       "    <tr>\n",
       "      <th>68267781</th>\n",
       "      <td>291</td>\n",
       "      <td>0.318251</td>\n",
       "    </tr>\n",
       "    <tr>\n",
       "      <th>72492570</th>\n",
       "      <td>36</td>\n",
       "      <td>0.191358</td>\n",
       "    </tr>\n",
       "    <tr>\n",
       "      <th>63725802</th>\n",
       "      <td>2</td>\n",
       "      <td>0.166667</td>\n",
       "    </tr>\n",
       "    <tr>\n",
       "      <th>90398368</th>\n",
       "      <td>8</td>\n",
       "      <td>0.013889</td>\n",
       "    </tr>\n",
       "  </tbody>\n",
       "</table>\n",
       "</div>"
      ]
     },
     "metadata": {},
     "output_type": "display_data"
    },
    {
     "name": "stdout",
     "output_type": "stream",
     "text": [
      "Number of patients with BG missing: 0\n"
     ]
    },
    {
     "data": {
      "text/plain": [
       "Empty DataFrame\n",
       "Columns: [count_of_nights, bg_nan_ratio]\n",
       "Index: []"
      ],
      "text/html": [
       "<div>\n",
       "<style scoped>\n",
       "    .dataframe tbody tr th:only-of-type {\n",
       "        vertical-align: middle;\n",
       "    }\n",
       "\n",
       "    .dataframe tbody tr th {\n",
       "        vertical-align: top;\n",
       "    }\n",
       "\n",
       "    .dataframe thead th {\n",
       "        text-align: right;\n",
       "    }\n",
       "</style>\n",
       "<table border=\"1\" class=\"dataframe\">\n",
       "  <thead>\n",
       "    <tr style=\"text-align: right;\">\n",
       "      <th></th>\n",
       "      <th>count_of_nights</th>\n",
       "      <th>bg_nan_ratio</th>\n",
       "    </tr>\n",
       "    <tr>\n",
       "      <th>id</th>\n",
       "      <th></th>\n",
       "      <th></th>\n",
       "    </tr>\n",
       "  </thead>\n",
       "  <tbody>\n",
       "  </tbody>\n",
       "</table>\n",
       "</div>"
      ]
     },
     "metadata": {},
     "output_type": "display_data"
    }
   ],
   "execution_count": 65
  },
  {
   "metadata": {},
   "cell_type": "markdown",
   "source": [
    "Out of n=82, without constraint put on the data, 41 have missing values from COB of up to 48% per night. 4 patients have IOB missing, and two of those have less than 30 nights so would not be included. There are no patients with BG missing intervals.\n",
    "\n",
    "Now we introduce the constraint of 30 nights minimum and a 30 minute sampling, with a minimum of 1 missing interval in the night period, and then look at the missingness of IOB and COB. This will be the final step in setting the thresholds for data selection."
   ],
   "id": "7f08bd981d75bf0"
  },
  {
   "metadata": {
    "ExecuteTime": {
     "end_time": "2025-08-16T19:24:50.024565Z",
     "start_time": "2025-08-16T19:24:31.165522Z"
    }
   },
   "cell_type": "code",
   "source": [
    "night_start = time(17, 0)\n",
    "morning_end = time(11, 0)\n",
    "sampling = ThirtyMinute()\n",
    "min_nights = 30\n",
    "missed_intervals = 1\n",
    "max_break_run = 1\n",
    "sample = SampleFilter(\n",
    "    night_start=night_start,\n",
    "    morning_end=morning_end,\n",
    "    sampling=sampling,\n",
    "    missed_intervals=missed_intervals,\n",
    "    max_break_run= max_break_run,\n",
    "    min_nights=min_nights,\n",
    ")\n",
    "\n",
    "print(f\"Number of single-timezone patients: {len(sample.stats.index.unique())}\")\n",
    "sample.return_counts()\n",
    "\n",
    "stats = sample.stats.copy()\n",
    "cob_stats = stats[stats['cob_nan_ratio']>0.0].sort_values(by='cob_nan_ratio', ascending=False)\n",
    "iob_stats = stats[stats['iob_nan_ratio']>0.00].sort_values(by='iob_nan_ratio', ascending=False)\n",
    "bg_stats = stats[stats['bg_nan_ratio']>0.00].sort_values(by='bg_nan_ratio', ascending=False)\n",
    "print(f'Number of patients with COB missing: {len(cob_stats.index.unique())}')\n",
    "display(cob_stats[['count_of_nights', 'cob_nan_ratio']].head())\n",
    "print(f'Number of patients with IOB missing: {len(iob_stats.index.unique())}')\n",
    "display(iob_stats[['count_of_nights', 'iob_nan_ratio']].head())\n",
    "print(f'Number of patients with BG missing: {len(bg_stats.index.unique())}')\n",
    "display(bg_stats[['count_of_nights', 'bg_nan_ratio']].head())"
   ],
   "id": "a3d4b02b3fba8b30",
   "outputs": [
    {
     "name": "stderr",
     "output_type": "stream",
     "text": [
      "\u001B[32m2025-08-16 20:24:40.997\u001B[0m | \u001B[1mINFO    \u001B[0m | \u001B[36msrc.nights\u001B[0m:\u001B[36m_calculate_overall_stats\u001B[0m:\u001B[36m163\u001B[0m - \u001B[1mNo stats per night have been calculated for 67167655. Returning no output.\u001B[0m\n",
      "\u001B[32m2025-08-16 20:24:48.378\u001B[0m | \u001B[1mINFO    \u001B[0m | \u001B[36msrc.sample_filter\u001B[0m:\u001B[36m__init__\u001B[0m:\u001B[36m68\u001B[0m - \u001B[1mNumber of nights objects created: 83\u001B[0m\n",
      "\u001B[32m2025-08-16 20:24:49.996\u001B[0m | \u001B[1mINFO    \u001B[0m | \u001B[36msrc.sample_filter\u001B[0m:\u001B[36mreturn_counts\u001B[0m:\u001B[36m139\u001B[0m - \u001B[1mFor sample rate of 30 minutes:\n",
      "  min_nights=30\n",
      "  missed_intervals=1\u001B[0m\n",
      "\u001B[32m2025-08-16 20:24:49.996\u001B[0m | \u001B[1mINFO    \u001B[0m | \u001B[36msrc.sample_filter\u001B[0m:\u001B[36mreturn_counts\u001B[0m:\u001B[36m142\u001B[0m - \u001B[1mNumber of candidates: 17\u001B[0m\n",
      "\u001B[32m2025-08-16 20:24:49.996\u001B[0m | \u001B[1mINFO    \u001B[0m | \u001B[36msrc.sample_filter\u001B[0m:\u001B[36mreturn_counts\u001B[0m:\u001B[36m143\u001B[0m - \u001B[1mNumber of nights: 965\u001B[0m\n"
     ]
    },
    {
     "name": "stdout",
     "output_type": "stream",
     "text": [
      "Number of single-timezone patients: 17\n",
      "Number of patients with COB missing: 10\n"
     ]
    },
    {
     "data": {
      "text/plain": [
       "          count_of_nights  cob_nan_ratio\n",
       "id                                      \n",
       "57176789               40       0.886111\n",
       "97417885               36       0.082562\n",
       "79526193              149       0.002237\n",
       "84589080               47       0.001773\n",
       "86025410               63       0.000882"
      ],
      "text/html": [
       "<div>\n",
       "<style scoped>\n",
       "    .dataframe tbody tr th:only-of-type {\n",
       "        vertical-align: middle;\n",
       "    }\n",
       "\n",
       "    .dataframe tbody tr th {\n",
       "        vertical-align: top;\n",
       "    }\n",
       "\n",
       "    .dataframe thead th {\n",
       "        text-align: right;\n",
       "    }\n",
       "</style>\n",
       "<table border=\"1\" class=\"dataframe\">\n",
       "  <thead>\n",
       "    <tr style=\"text-align: right;\">\n",
       "      <th></th>\n",
       "      <th>count_of_nights</th>\n",
       "      <th>cob_nan_ratio</th>\n",
       "    </tr>\n",
       "    <tr>\n",
       "      <th>id</th>\n",
       "      <th></th>\n",
       "      <th></th>\n",
       "    </tr>\n",
       "  </thead>\n",
       "  <tbody>\n",
       "    <tr>\n",
       "      <th>57176789</th>\n",
       "      <td>40</td>\n",
       "      <td>0.886111</td>\n",
       "    </tr>\n",
       "    <tr>\n",
       "      <th>97417885</th>\n",
       "      <td>36</td>\n",
       "      <td>0.082562</td>\n",
       "    </tr>\n",
       "    <tr>\n",
       "      <th>79526193</th>\n",
       "      <td>149</td>\n",
       "      <td>0.002237</td>\n",
       "    </tr>\n",
       "    <tr>\n",
       "      <th>84589080</th>\n",
       "      <td>47</td>\n",
       "      <td>0.001773</td>\n",
       "    </tr>\n",
       "    <tr>\n",
       "      <th>86025410</th>\n",
       "      <td>63</td>\n",
       "      <td>0.000882</td>\n",
       "    </tr>\n",
       "  </tbody>\n",
       "</table>\n",
       "</div>"
      ]
     },
     "metadata": {},
     "output_type": "display_data"
    },
    {
     "name": "stdout",
     "output_type": "stream",
     "text": [
      "Number of patients with IOB missing: 0\n"
     ]
    },
    {
     "data": {
      "text/plain": [
       "Empty DataFrame\n",
       "Columns: [count_of_nights, iob_nan_ratio]\n",
       "Index: []"
      ],
      "text/html": [
       "<div>\n",
       "<style scoped>\n",
       "    .dataframe tbody tr th:only-of-type {\n",
       "        vertical-align: middle;\n",
       "    }\n",
       "\n",
       "    .dataframe tbody tr th {\n",
       "        vertical-align: top;\n",
       "    }\n",
       "\n",
       "    .dataframe thead th {\n",
       "        text-align: right;\n",
       "    }\n",
       "</style>\n",
       "<table border=\"1\" class=\"dataframe\">\n",
       "  <thead>\n",
       "    <tr style=\"text-align: right;\">\n",
       "      <th></th>\n",
       "      <th>count_of_nights</th>\n",
       "      <th>iob_nan_ratio</th>\n",
       "    </tr>\n",
       "    <tr>\n",
       "      <th>id</th>\n",
       "      <th></th>\n",
       "      <th></th>\n",
       "    </tr>\n",
       "  </thead>\n",
       "  <tbody>\n",
       "  </tbody>\n",
       "</table>\n",
       "</div>"
      ]
     },
     "metadata": {},
     "output_type": "display_data"
    },
    {
     "name": "stdout",
     "output_type": "stream",
     "text": [
      "Number of patients with BG missing: 0\n"
     ]
    },
    {
     "data": {
      "text/plain": [
       "Empty DataFrame\n",
       "Columns: [count_of_nights, bg_nan_ratio]\n",
       "Index: []"
      ],
      "text/html": [
       "<div>\n",
       "<style scoped>\n",
       "    .dataframe tbody tr th:only-of-type {\n",
       "        vertical-align: middle;\n",
       "    }\n",
       "\n",
       "    .dataframe tbody tr th {\n",
       "        vertical-align: top;\n",
       "    }\n",
       "\n",
       "    .dataframe thead th {\n",
       "        text-align: right;\n",
       "    }\n",
       "</style>\n",
       "<table border=\"1\" class=\"dataframe\">\n",
       "  <thead>\n",
       "    <tr style=\"text-align: right;\">\n",
       "      <th></th>\n",
       "      <th>count_of_nights</th>\n",
       "      <th>bg_nan_ratio</th>\n",
       "    </tr>\n",
       "    <tr>\n",
       "      <th>id</th>\n",
       "      <th></th>\n",
       "      <th></th>\n",
       "    </tr>\n",
       "  </thead>\n",
       "  <tbody>\n",
       "  </tbody>\n",
       "</table>\n",
       "</div>"
      ]
     },
     "metadata": {},
     "output_type": "display_data"
    }
   ],
   "execution_count": 66
  },
  {
   "metadata": {},
   "cell_type": "markdown",
   "source": "The ratio of missing COB values is significant for the patient with the highest missingness (87%). Introducing a threshold of 20% missing COB values will throttle this and remove such a concerning number.",
   "id": "9059d337c6419d1e"
  },
  {
   "metadata": {
    "ExecuteTime": {
     "end_time": "2025-08-16T19:24:54.607228Z",
     "start_time": "2025-08-16T19:24:50.096394Z"
    }
   },
   "cell_type": "code",
   "source": [
    "df = sample.get_consolidated_df()\n",
    "nan_counts = df.isna().sum()\n",
    "print(\"Total NaNs per column:\")\n",
    "print(nan_counts)"
   ],
   "id": "3c74df475838038a",
   "outputs": [
    {
     "name": "stdout",
     "output_type": "stream",
     "text": [
      "Total NaNs per column:\n",
      "iob mean               0\n",
      "cob mean            1405\n",
      "bg mean                0\n",
      "iob min                0\n",
      "cob min             1405\n",
      "bg min                 0\n",
      "iob max                0\n",
      "cob max             1405\n",
      "bg max                 0\n",
      "iob std             4367\n",
      "cob std             5548\n",
      "bg std              4367\n",
      "iob count              0\n",
      "cob count              0\n",
      "bg count               0\n",
      "offset                 0\n",
      "day                    0\n",
      "time                   0\n",
      "night_start_date       0\n",
      "dtype: int64\n"
     ]
    }
   ],
   "execution_count": 67
  },
  {
   "metadata": {},
   "cell_type": "markdown",
   "source": "There is significant number of NaNs in the 'cob mean' column, which is likely due to the way that the COB data is collected and processed. This is a good indication that we need to check the data for missing values and handle them appropriately before proceeding with feature extraction. This has now been addressed in the SampleFilter class, which will ensure that we only include candidates with a minimum number of COB and IOB NaNs. Setting the cob_nan_ratio and iob_nan_ratio will ensure that we have a minimum number of COB and IOB values for each candidate, which will minimise the impact of missing values on the feature extraction process. The following will show the number of NaNs in the COB columns for each candidate, which will help us understand the impact of missing values on the feature extraction process.",
   "id": "31ae4ab153513178"
  },
  {
   "metadata": {
    "ExecuteTime": {
     "end_time": "2025-08-16T19:25:00.127386Z",
     "start_time": "2025-08-16T19:24:54.772515Z"
    }
   },
   "cell_type": "code",
   "source": [
    "cob_nan_min = 0.2\n",
    "iob_nan_min = 0.05\n",
    "bg_nan_min = 0.2\n",
    "sample.apply_constraints(missed_intervals=missed_intervals,\n",
    "                         max_break_run=max_break_run,\n",
    "                         min_nights=min_nights,\n",
    "                         cob_nan_min=cob_nan_min,\n",
    "                         iob_nan_min=iob_nan_min,\n",
    "                         bg_nan_min=bg_nan_min)\n",
    "sample.return_counts()\n",
    "df = sample.get_consolidated_df()\n",
    "print('Count of intervals with NaNs for IOB and COB columns')\n",
    "sample.stats[['total_cob_nans', 'total_iob_nans', 'total_bg_nans']].sum()"
   ],
   "id": "d27ffd613d93e5fe",
   "outputs": [
    {
     "name": "stderr",
     "output_type": "stream",
     "text": [
      "\u001B[32m2025-08-16 20:24:56.306\u001B[0m | \u001B[1mINFO    \u001B[0m | \u001B[36msrc.sample_filter\u001B[0m:\u001B[36mreturn_counts\u001B[0m:\u001B[36m139\u001B[0m - \u001B[1mFor sample rate of 30 minutes:\n",
      "  min_nights=30\n",
      "  missed_intervals=1\u001B[0m\n",
      "\u001B[32m2025-08-16 20:24:56.306\u001B[0m | \u001B[1mINFO    \u001B[0m | \u001B[36msrc.sample_filter\u001B[0m:\u001B[36mreturn_counts\u001B[0m:\u001B[36m142\u001B[0m - \u001B[1mNumber of candidates: 16\u001B[0m\n",
      "\u001B[32m2025-08-16 20:24:56.306\u001B[0m | \u001B[1mINFO    \u001B[0m | \u001B[36msrc.sample_filter\u001B[0m:\u001B[36mreturn_counts\u001B[0m:\u001B[36m143\u001B[0m - \u001B[1mNumber of nights: 922\u001B[0m\n"
     ]
    },
    {
     "name": "stdout",
     "output_type": "stream",
     "text": [
      "Count of intervals with NaNs for IOB and COB columns\n"
     ]
    },
    {
     "data": {
      "text/plain": [
       "total_cob_nans    23\n",
       "total_iob_nans     0\n",
       "total_bg_nans      0\n",
       "dtype: int64"
      ]
     },
     "execution_count": 68,
     "metadata": {},
     "output_type": "execute_result"
    }
   ],
   "execution_count": 68
  },
  {
   "metadata": {
    "ExecuteTime": {
     "end_time": "2025-08-16T19:25:00.273991Z",
     "start_time": "2025-08-16T19:25:00.175431Z"
    }
   },
   "cell_type": "code",
   "source": [
    "# Count number of consecutive NaNs in 'cob mean' column\n",
    "df_isna = df[df['cob mean'].isna()].copy()\n",
    "df_reset = df_isna.reset_index().sort_values(['id', 'datetime'])\n",
    "df_reset['time_diff'] = df_reset.groupby('id')['datetime'].diff().dt.total_seconds() / 60\n",
    "diffs = df_reset.groupby('id')['time_diff'].apply(lambda x: (x == 30).sum()).reset_index()\n",
    "diffs[diffs['time_diff']>0]"
   ],
   "id": "9c34747c93626d13",
   "outputs": [
    {
     "data": {
      "text/plain": [
       "         id  time_diff\n",
       "5  79526193          2"
      ],
      "text/html": [
       "<div>\n",
       "<style scoped>\n",
       "    .dataframe tbody tr th:only-of-type {\n",
       "        vertical-align: middle;\n",
       "    }\n",
       "\n",
       "    .dataframe tbody tr th {\n",
       "        vertical-align: top;\n",
       "    }\n",
       "\n",
       "    .dataframe thead th {\n",
       "        text-align: right;\n",
       "    }\n",
       "</style>\n",
       "<table border=\"1\" class=\"dataframe\">\n",
       "  <thead>\n",
       "    <tr style=\"text-align: right;\">\n",
       "      <th></th>\n",
       "      <th>id</th>\n",
       "      <th>time_diff</th>\n",
       "    </tr>\n",
       "  </thead>\n",
       "  <tbody>\n",
       "    <tr>\n",
       "      <th>5</th>\n",
       "      <td>79526193</td>\n",
       "      <td>2</td>\n",
       "    </tr>\n",
       "  </tbody>\n",
       "</table>\n",
       "</div>"
      ]
     },
     "execution_count": 69,
     "metadata": {},
     "output_type": "execute_result"
    }
   ],
   "execution_count": 69
  },
  {
   "metadata": {},
   "cell_type": "markdown",
   "source": "There is only a single instance where these NaNs span greater than 30 minutes, which is the minimum interval between two consecutive COB measurements. This is very minimal and means that we can proceed with imputation of these NaNs in preparation for feature extraction.",
   "id": "5041da904a0ce97f"
  }
 ],
 "metadata": {
  "kernelspec": {
   "display_name": "Python 3",
   "language": "python",
   "name": "python3"
  },
  "language_info": {
   "codemirror_mode": {
    "name": "ipython",
    "version": 2
   },
   "file_extension": ".py",
   "mimetype": "text/x-python",
   "name": "python",
   "nbconvert_exporter": "python",
   "pygments_lexer": "ipython2",
   "version": "2.7.6"
  }
 },
 "nbformat": 4,
 "nbformat_minor": 5
}
