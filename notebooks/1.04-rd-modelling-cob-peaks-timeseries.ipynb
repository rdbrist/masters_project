{
 "cells": [
  {
   "metadata": {},
   "cell_type": "markdown",
   "source": [
    "# 1.04 - Modelling COB Peaks Timeseries\n",
    "Using the peaks to assess the distribution of the data is a helpful approach to understand the distribution of meal intake over time. It has made it easier to assess the correctness of the data mapping to a daily pattern, especially given the issues with datetimes not aligning to the timezones that they are in. We'll now use the peaks to identify the COB values we are interested in modelling. The aim is to be able to assess what a standard day looks like and whether it is possible to identify where days are not standard, which may be due to errors in the data or due to the individual having a different pattern of meal intake. The peaks will be used to identify the COB values that are relevant for modelling, and then the timeseries will be used to assess the distribution and amplitude of those values over time. We will use the 15-minute resampled data here and focus on one of the candidates with the most defined distributions that shows a 3-meal intake clearly."
   ],
   "id": "94b63cf85ae0a231"
  },
  {
   "metadata": {
    "ExecuteTime": {
     "end_time": "2025-06-13T21:31:18.074999Z",
     "start_time": "2025-06-13T21:31:17.925671Z"
    }
   },
   "cell_type": "code",
   "source": [
    "%load_ext autoreload\n",
    "%autoreload 2\n",
    "import pandas as pd\n",
    "from loguru import logger\n",
    "import matplotlib.pyplot as plt\n",
    "import seaborn as sns\n",
    "import numpy as np\n",
    "from statsforecast import StatsForecast\n",
    "from statsforecast.models import CrostonClassic, CrostonSBA, CrostonOptimized, TSB\n",
    "\n",
    "from src.cob_analysis import Cob\n",
    "from src.data_processing.read import read_profile_offsets_csv\n",
    "from src.data_processing.read_preprocessed_df import ReadPreprocessedDataFrame\n",
    "from src.configurations import Configuration, FifteenMinute\n",
    "from src.config import INTERIM_DATA_DIR\n",
    "from src.time_series_analysis import run_adf, p_q_result, ts_dist_plot, ts_plot, split_ts, ts_plot_cfs"
   ],
   "id": "90192c63050ef5b5",
   "outputs": [
    {
     "name": "stdout",
     "output_type": "stream",
     "text": [
      "The autoreload extension is already loaded. To reload it, use:\n",
      "  %reload_ext autoreload\n"
     ]
    }
   ],
   "execution_count": 4
  },
  {
   "metadata": {
    "collapsed": true,
    "ExecuteTime": {
     "end_time": "2025-06-13T21:32:50.522382Z",
     "start_time": "2025-06-13T21:32:00.924059Z"
    }
   },
   "cell_type": "code",
   "source": [
    "logger.remove()\n",
    "\n",
    "candidates = [13029224, 21946407, 27700103, 32407882, 41131654, 42360672, 67208817, 74175219, 79526193, 86025410, 95851255, 96254963, 96805916, 97417885]\n",
    "individual = 41131654\n",
    "args = {'height': 15, 'distance': 5, 'suppress': False}\n",
    "config = Configuration()\n",
    "\n",
    "profile_offsets = read_profile_offsets_csv(config)\n",
    "\n",
    "df = ReadPreprocessedDataFrame(FifteenMinute(), file_path=INTERIM_DATA_DIR / '15min_iob_cob_bg_insulin_need.csv').df\n",
    "cob = Cob(df)\n",
    "#cob.read_interim_data(file_name='15min_iob_cob_bg', sampling_rate=15)\n",
    "df_all = cob.process_one_tz_individuals(profile_offsets, args)"
   ],
   "id": "initial_id",
   "outputs": [
    {
     "name": "stdout",
     "output_type": "stream",
     "text": [
      "Number of records: 599360\n",
      "Number of people: 116\n",
      "Systems used: \t['OpenAPS']\n",
      "Categories (1, object): ['OpenAPS']\n",
      "The following stats are based on parameters h=15 and d=5:\n",
      "\tNumber of records: 2291636\n",
      "\tNumber of days with peaks: 7626\n",
      "\tNumber of peaks: 15951\n"
     ]
    }
   ],
   "execution_count": 6
  },
  {
   "metadata": {},
   "cell_type": "markdown",
   "source": "The data has a 'cob max' column that we need to transform such that it only holds the values that are relevant for modelling. The peaks will be used to identify the COB values that are used for features. That removes any noise from other values. Note, the imputed values are not used and would be irrelevant anyway, given that we are focussing purely on the values that are peaks only. These would always be original values.",
   "id": "74433cdf9f17da9e"
  },
  {
   "metadata": {
    "ExecuteTime": {
     "end_time": "2025-06-13T21:40:12.015066Z",
     "start_time": "2025-06-13T21:40:11.786020Z"
    }
   },
   "cell_type": "code",
   "source": "df_all.columns",
   "id": "8f3c69bdc44feda",
   "outputs": [
    {
     "data": {
      "text/plain": [
       "Index(['cob max', 'day', 'time', 'cob interpolate', 'peak'], dtype='object')"
      ]
     },
     "execution_count": 10,
     "metadata": {},
     "output_type": "execute_result"
    }
   ],
   "execution_count": 10
  },
  {
   "metadata": {
    "ExecuteTime": {
     "end_time": "2025-06-13T21:32:50.843785Z",
     "start_time": "2025-06-13T21:32:50.564895Z"
    }
   },
   "cell_type": "code",
   "source": [
    "df = df_all.loc[individual].copy()\n",
    "df.index.freq = str(cob.sampling_rate) + 'min'  # Avoid FutureWarning"
   ],
   "id": "716a0a2692d29d9b",
   "outputs": [],
   "execution_count": 7
  },
  {
   "metadata": {
    "ExecuteTime": {
     "end_time": "2025-06-13T21:33:17.137276Z",
     "start_time": "2025-06-13T21:32:50.906899Z"
    }
   },
   "cell_type": "code",
   "source": [
    "# Running a quick ADF test to check if the data is stationary\n",
    "run_adf(df['cob max'])"
   ],
   "id": "58ec65de92fb5971",
   "outputs": [
    {
     "name": "stdout",
     "output_type": "stream",
     "text": [
      "ADF Test Results\n",
      "Null Hypothesis: The series has a unit root (non-stationary)\n",
      "ADF-Statistic: -26.97359102321359\n",
      "P-Value: 0.0\n",
      "Number of lags: 53\n",
      "Number of observations: 36363\n",
      "Critical Values: {'1%': np.float64(-3.9590189861090983), '5%': np.float64(-3.4106107449475744), '10%': np.float64(-3.1271211082131924)}\n",
      "Note: If P-Value is smaller than 0.05, we reject the null hypothesis and the series is stationary.\n",
      "A more negative test statistic indicates stronger evidence against the null hypothesis.\n"
     ]
    }
   ],
   "execution_count": 8
  },
  {
   "metadata": {},
   "cell_type": "markdown",
   "source": [
    "This shows that the data is showing stationarity, despite the fact that we can see the clustering of peaks on a over-imposed days. It is unsurprising considering:\n",
    "a) the data is not consistently entered by the individual, and\n",
    "b) we know the data is sparse, which combined will impact immediate lags. Therefore, we need to extend our approach to appreciate the seasonality, and are able to do so with  using the SARIMA model.\n",
    "\n",
    "SARIMA is a seasonal extension of ARIMA, which is a popular time series forecasting method. It is particularly useful for data that exhibits seasonality, as it incorporates both non-seasonal and seasonal components. The SARIMA model can be expressed as:\n",
    "$$\n",
    "SARIMA(p, d, q)(P, D, Q)_s\n",
    "$$\n",
    "where:\n",
    "- p: order of the non-seasonal autoregressive part\n",
    "- d: degree of differencing for the non-seasonal part\n",
    "-  q: order of the non-seasonal moving average part\n",
    "- P: order of the seasonal autoregressive part\n",
    "- D: degree of differencing for the seasonal part\n",
    "- Q: order of the seasonal moving average part\n",
    "- s: length of the seasonal cycle (e.g., 96 for 15-minute intervals over a day)\n",
    "- The SARIMA model can be used to capture both the short-term and long-term patterns in the data, making it suitable for forecasting and understanding the underlying trends.\n",
    "\n",
    "The model is defined by three main parameters: p, d, q (non-seasonal) and P, D, Q (seasonal), along with the seasonal period s. This seasonal period would be a day, considering we expect a person's eating pattern to be diurnal. The parameters would need to respond to the sampling rate. That used for example is 15 minutes, and the period would be 96 (24 hours * 60 minutes / 15 minutes).\n",
    "\n",
    "However, with careful consideration, for this time series we don't witness a decay in the data points we are using as our random variable, therefore we should look to another method for this use. As a baseline, we'll look at Croston's Method (or SBA). `StatsForecast` offers a library of Croston-based (and similar) methods. The classic Croston's formulation is:\n",
    "- $Y_t$ : Carbohydrate intake at time $t$.\n",
    "- $Z_j$ : The $j^{th}$ non-zero carbohydrate intake value.\n",
    "- $X_j$ : The $j^{th}$ inter-arrival time (number of periods between non-zero values).\n",
    "\n",
    "Simple Exponential Smoothing (SES) for $Z_j$ and $X_j$:\n",
    "$$s_j = \\alpha \\cdot Z_j + (1 - \\alpha) \\cdot s_{j-1}$$\n",
    "where $\\alpha$ is the smoothing parameter (0 < $\\alpha$ < 1).\n",
    "$$a_j = \\beta \\cdot X_j + (1 - \\beta) \\cdot a_{j-1}$$\n",
    "\n",
    "The forecast for the next non-zero value is given by:\n",
    "$$\\hat{Y}_{t+h} = \\frac{s_N}{a_N}$$\n",
    "where $h$ is the forecast horizon and $N$ is the total number of non-zero intake events that have occurred in historical data up to the current time $t$. $s_N$ is the latest smoothed demand size, which is the exponentially smoothed average of all N non-zero demand values encountered in the historical data. $a_N$ is the latest smoothed interval, which is the exponentially smoothed average of all $N$ intervals between these non-zero demand occurrences.\n",
    "\n",
    "Let's implement and see what the results look like. We will use the `StatsForecast` library to implement Croston's Method, and then plot the results to see how well it captures the peaks in the data.\n"
   ],
   "id": "2100b4af3ebd48ec"
  },
  {
   "metadata": {
    "ExecuteTime": {
     "end_time": "2025-06-13T21:45:46.807111Z",
     "start_time": "2025-06-13T21:45:46.563755Z"
    }
   },
   "cell_type": "code",
   "source": [
    "# StatsForecast expects a specific DataFrame format or use the parameters. Here, we're aligned the column names to match the expected format: 'unique_id', 'ds' (datetime), 'y' (values)\n",
    "df_croston = df.copy()\n",
    "df_croston['y'] = np.where(df_croston['peak'] == 1, df_croston['cob max'], 0)\n",
    "df_croston = (df_croston.\n",
    "              reset_index().\n",
    "              rename(columns={'datetime': 'ds'}).\n",
    "              drop(columns=['cob max', 'day', 'time', 'cob interpolate', 'peak']))\n",
    "df_croston['unique_id'] = '1'\n",
    "\n",
    "def print_df_characteristics(df_croston):\n",
    "    print(\"Sample Data Head (StatsForecast format):\")\n",
    "    print(df_croston.head(10))\n",
    "    print(\"\\nNumber of non-zero observations:\", (df_croston['y'] > 0).sum())\n",
    "    print(\"Total observations:\", len(df_croston))\n",
    "    print(\"Sparsity (proportion of zeros):\", np.mean(df_croston['y'] == 0))\n",
    "\n",
    "print_df_characteristics(df_croston)"
   ],
   "id": "729b45eac6d628ba",
   "outputs": [
    {
     "name": "stdout",
     "output_type": "stream",
     "text": [
      "Sample Data Head (StatsForecast format):\n",
      "                         ds    y unique_id\n",
      "0 2019-09-12 13:15:00+00:00  0.0         1\n",
      "1 2019-09-12 13:30:00+00:00  0.0         1\n",
      "2 2019-09-12 13:45:00+00:00  0.0         1\n",
      "3 2019-09-12 14:00:00+00:00  0.0         1\n",
      "4 2019-09-12 14:15:00+00:00  0.0         1\n",
      "5 2019-09-12 14:30:00+00:00  0.0         1\n",
      "6 2019-09-12 14:45:00+00:00  0.0         1\n",
      "7 2019-09-12 15:00:00+00:00  0.0         1\n",
      "8 2019-09-12 15:15:00+00:00  0.0         1\n",
      "9 2019-09-12 15:30:00+00:00  0.0         1\n",
      "\n",
      "Number of non-zero observations: 1269\n",
      "Total observations: 36417\n",
      "Sparsity (proportion of zeros): 0.9651536370376472\n"
     ]
    }
   ],
   "execution_count": 11
  },
  {
   "metadata": {},
   "cell_type": "markdown",
   "source": [
    "The result shows our data to be very sparse, as we would expect. Almost 97% zero-values. This can cause issues with the Croston's Method, especially if the smoothing parameters are not set correctly or if the data is too sparse, leading to forecasts that are too low or even zero due to numerical precision issues.\n",
    "\n",
    "Some notes on the implementation using StatsForecast:\n",
    "- For Croston's, you generally don't set alpha/beta directly in `CrostonClassic`/`SBA` as they use default values or optimized values. `CrostonOptimized` allows you to tune alpha and beta, or it can optimize them.\n",
    "- The `TSB` model requires you to specify smoothing parameters (`alpha_d` for demand and `alpha_p` for period), which can be tuned based on your data characteristics."
   ],
   "id": "e4c28cf5c418e588"
  },
  {
   "metadata": {
    "ExecuteTime": {
     "end_time": "2025-06-13T21:46:04.224623Z",
     "start_time": "2025-06-13T21:45:50.482420Z"
    }
   },
   "cell_type": "code",
   "source": [
    "def run_croston_models(df, sampling_rate=15):\n",
    "    \"\"\"\n",
    "    Run Croston's models on the provided DataFrame.\n",
    "    Returns a DataFrame with forecasts for each model.\n",
    "    \"\"\"\n",
    "    intervals_per_day = 24 * 60 // sampling_rate\n",
    "\n",
    "    models = [\n",
    "        CrostonClassic(),  # Classic Croston's with default alpha=0.1 for both\n",
    "        CrostonSBA(),      # Croston's with Syntetos-Boylan Approximation (bias-corrected)\n",
    "        CrostonOptimized(),# Optimized Croston's (finds best alpha/beta within a range)\n",
    "        TSB(alpha_d=0.2, alpha_p=0.2) # TSB model, requires smoothing parameters\n",
    "    ]\n",
    "\n",
    "    sf = StatsForecast(\n",
    "        models=models,\n",
    "        freq=str(sampling_rate)+'min',\n",
    "        n_jobs=-1 # Use all available CPU cores for parallel processing\n",
    "    )\n",
    "\n",
    "    sf.fit(df=df)\n",
    "\n",
    "    return sf.predict(h=intervals_per_day)  # Predict for the next 96 intervals (1 day), returns df\n",
    "\n",
    "def print_croston_forecasts(df, sampling_rate=15):\n",
    "    \"\"\"\n",
    "    Print the forecasts from Croston's models.\n",
    "    \"\"\"\n",
    "    intervals_per_day = 24 * 60 // sampling_rate\n",
    "\n",
    "    print(f\"\\nCrostonClassic Forecast (per 15-min interval): {df['CrostonClassic'].iloc[0]:.4f}\")\n",
    "    print(f\"CrostonSBA Forecast (per 15-min interval): {df['CrostonSBA'].iloc[0]:.4f}\")\n",
    "    print(f\"CrostonOptimized Forecast (per 15-min interval): {df['CrostonOptimized'].iloc[0]:.4f}\")\n",
    "    print(f\"TSB Forecast (per 15-min interval): {df['TSB'].iloc[0]:.4f}\")\n",
    "\n",
    "    # Calculate average daily intake for each model\n",
    "    for model_name in df.columns[2:]: # Skip 'unique_id' and 'ds'\n",
    "        daily_avg = df[model_name].iloc[0] * intervals_per_day\n",
    "        print(f\"Average Daily Forecast ({model_name}): {daily_avg:.2f} units\")\n",
    "\n",
    "forecast_df1 = run_croston_models(df_croston)\n",
    "print_croston_forecasts(forecast_df1)"
   ],
   "id": "1753288a109935d0",
   "outputs": [
    {
     "name": "stdout",
     "output_type": "stream",
     "text": [
      "\n",
      "CrostonClassic Forecast (per 15-min interval): 1.7803\n",
      "CrostonSBA Forecast (per 15-min interval): 1.6912\n",
      "CrostonOptimized Forecast (per 15-min interval): 1.7802\n",
      "TSB Forecast (per 15-min interval): 0.6765\n",
      "Average Daily Forecast (CrostonClassic): 170.90 units\n",
      "Average Daily Forecast (CrostonSBA): 162.36 units\n",
      "Average Daily Forecast (CrostonOptimized): 170.90 units\n",
      "Average Daily Forecast (TSB): 64.95 units\n"
     ]
    }
   ],
   "execution_count": 12
  },
  {
   "metadata": {},
   "cell_type": "markdown",
   "source": [
    "The low forecasts may be for a number of reasons:\n",
    "- The data is too sparse, leading to numerical precision issues.\n",
    "- The smoothing parameters are not set correctly, leading to forecasts that are too low or even zero.\n",
    "- The model is not able to capture the intermittent nature of the data, leading to forecasts that are not representative of the underlying demand.\n",
    "- The model is not able to capture the seasonality of the data, leading to forecasts that are not representative of the underlying demand.\n",
    "- Initialisation of $s_0$ and $a_0$ in Croston's Method can lead to zero forecasts if the initial values are not set correctly.\n",
    "\n",
    "Following previous visual checks, we have noted with this individual that they have a period of days in which they have no peaks, and therefore no data to model. This is likely to be the cause of the low forecasts. We can check this by looking at the number of non-zero observations in the forecast data. We've created a function to remove days with zero intake from the data, so let's apply this and see if that changes the forecasts."
   ],
   "id": "7570e08f1d91a11d"
  },
  {
   "metadata": {
    "ExecuteTime": {
     "end_time": "2025-06-13T21:46:13.673048Z",
     "start_time": "2025-06-13T21:46:13.403437Z"
    }
   },
   "cell_type": "code",
   "source": [
    "from src.time_series_analysis import remove_zero_or_null_days\n",
    "print(f'Before removing zero intake days: {len(df.groupby(\"day\").size())}')\n",
    "df_croston = df_croston.set_index('ds')  # Ensure 'ds' is the index for time series operations\n",
    "df_croston = remove_zero_or_null_days(df=df_croston, value_col='y')\n",
    "print(f'After removing zero intake days: {len(df_croston.groupby(df_croston.index.date).size())}')\n",
    "df_croston = df_croston.reset_index()  # Reset index to keep 'ds' as a column\n",
    "print(df_croston.info())"
   ],
   "id": "91c91fa75878ee26",
   "outputs": [
    {
     "name": "stdout",
     "output_type": "stream",
     "text": [
      "Before removing zero intake days: 380\n",
      "After removing zero intake days: 364\n",
      "<class 'pandas.core.frame.DataFrame'>\n",
      "RangeIndex: 34881 entries, 0 to 34880\n",
      "Data columns (total 3 columns):\n",
      " #   Column     Non-Null Count  Dtype              \n",
      "---  ------     --------------  -----              \n",
      " 0   ds         34881 non-null  datetime64[ns, UTC]\n",
      " 1   y          34881 non-null  float64            \n",
      " 2   unique_id  34881 non-null  object             \n",
      "dtypes: datetime64[ns, UTC](1), float64(1), object(1)\n",
      "memory usage: 817.7+ KB\n",
      "None\n"
     ]
    }
   ],
   "execution_count": 13
  },
  {
   "metadata": {
    "ExecuteTime": {
     "end_time": "2025-06-13T21:46:17.756413Z",
     "start_time": "2025-06-13T21:46:17.508407Z"
    }
   },
   "cell_type": "code",
   "source": [
    "forecast_df2 = run_croston_models(df_croston)\n",
    "print_croston_forecasts(forecast_df2)"
   ],
   "id": "f174ea1bb7cfb54a",
   "outputs": [
    {
     "name": "stdout",
     "output_type": "stream",
     "text": [
      "\n",
      "CrostonClassic Forecast (per 15-min interval): 1.7803\n",
      "CrostonSBA Forecast (per 15-min interval): 1.6912\n",
      "CrostonOptimized Forecast (per 15-min interval): 1.7802\n",
      "TSB Forecast (per 15-min interval): 0.6765\n",
      "Average Daily Forecast (CrostonClassic): 170.90 units\n",
      "Average Daily Forecast (CrostonSBA): 162.36 units\n",
      "Average Daily Forecast (CrostonOptimized): 170.90 units\n",
      "Average Daily Forecast (TSB): 64.95 units\n"
     ]
    }
   ],
   "execution_count": 14
  },
  {
   "metadata": {},
   "cell_type": "markdown",
   "source": "This has not produced the expected results but this can be explained by the fact that - even though the gaps have been effectively removed - Croston's method will still count the gap in its inter-arrival time, drastically inflating the $a_N$ and pushing the prediction down, given it is the denominator (and especially where $\\alpha$ and $\\beta$ are small). A function has been created that splits the dataframe into a list of separate ones based on a threshold of day gaps, set here to 3.",
   "id": "297c768650e2bb3"
  },
  {
   "metadata": {
    "ExecuteTime": {
     "end_time": "2025-06-13T21:46:21.430384Z",
     "start_time": "2025-06-13T21:46:21.183535Z"
    }
   },
   "cell_type": "code",
   "source": [
    "from src.time_series_analysis import split_on_time_gaps\n",
    "\n",
    "split_dfs = split_on_time_gaps(df=df_croston.set_index('ds'), value_col='y', days_threshold=3)\n",
    "\n",
    "print(f'Number of split dfs: {len(split_dfs)}')\n",
    "for i, df in enumerate(split_dfs):\n",
    "    print(f'Split DataFrame {i+1} - Number of days: {len(df.groupby(df.index.date).size())}, Start: {df.index.min()}, End: {df.index.max()}')"
   ],
   "id": "64993ba4b094b596",
   "outputs": [
    {
     "name": "stdout",
     "output_type": "stream",
     "text": [
      "Number of split dfs: 2\n",
      "Split DataFrame 1 - Number of days: 3, Start: 2019-09-12 13:15:00+00:00, End: 2019-09-14 23:45:00+00:00\n",
      "Split DataFrame 2 - Number of days: 361, Start: 2019-09-28 00:00:00+00:00, End: 2020-09-25 21:15:00+00:00\n"
     ]
    }
   ],
   "execution_count": 15
  },
  {
   "metadata": {
    "ExecuteTime": {
     "end_time": "2025-06-13T21:46:24.890838Z",
     "start_time": "2025-06-13T21:46:23.926734Z"
    }
   },
   "cell_type": "code",
   "source": [
    "forecast_df3 = run_croston_models(split_dfs[1].reset_index('ds'))\n",
    "print_croston_forecasts(forecast_df3)"
   ],
   "id": "4eb5987a809fc713",
   "outputs": [
    {
     "name": "stdout",
     "output_type": "stream",
     "text": [
      "\n",
      "CrostonClassic Forecast (per 15-min interval): 1.7803\n",
      "CrostonSBA Forecast (per 15-min interval): 1.6912\n",
      "CrostonOptimized Forecast (per 15-min interval): 1.7802\n",
      "TSB Forecast (per 15-min interval): 0.6765\n",
      "Average Daily Forecast (CrostonClassic): 170.90 units\n",
      "Average Daily Forecast (CrostonSBA): 162.36 units\n",
      "Average Daily Forecast (CrostonOptimized): 170.90 units\n",
      "Average Daily Forecast (TSB): 64.95 units\n"
     ]
    }
   ],
   "execution_count": 16
  },
  {
   "metadata": {
    "ExecuteTime": {
     "end_time": "2025-06-13T21:46:28.951338Z",
     "start_time": "2025-06-13T21:46:27.056837Z"
    }
   },
   "cell_type": "code",
   "source": [
    "# Merge historical data with forecasts for plotting\n",
    "intervals_per_day = 24 * 60 // 15\n",
    "week = 7 * intervals_per_day\n",
    "pred_df = split_dfs[1]\n",
    "pred_df['CrostonPred'] = forecast_df3['CrostonOptimized'].iloc[0]\n",
    "plot_df = pred_df.iloc[:week]\n",
    "plt.figure(figsize=(15, 7))\n",
    "plt.plot(plot_df.index, plot_df['y'], label='Historical Carb Intake', alpha=0.7)\n",
    "plt.plot(plot_df.index, plot_df['CrostonPred'], label='Croston Forecast', color='red', linestyle='--')\n",
    "plt.title('Carbohydrate Intake: Historical Data vs. Intermittent Demand Forecasts')\n",
    "plt.xlabel('Time')\n",
    "plt.ylabel('Carbohydrate Intake (units)')\n",
    "plt.legend()\n",
    "plt.grid(True)\n",
    "plt.show()\n"
   ],
   "id": "634cdd0e6924a983",
   "outputs": [
    {
     "data": {
      "text/plain": [
       "<Figure size 1500x700 with 1 Axes>"
      ],
      "image/png": "[encoded data removed]"
     },
     "metadata": {},
     "output_type": "display_data"
    }
   ],
   "execution_count": 17
  },
  {
   "metadata": {},
   "cell_type": "markdown",
   "source": [
    "We can see the Croston forecast is a very crude method and could only be considered as a baseline. We'll use a general metric to put a metric to the accuracy, Mean Absolute Scaled Error:\n",
    "\n",
    "_Mean Absolute Scaled Error (MASE)_\n",
    "_An error measure that is used for model accuracy. It is the MAE divided by the MAE of the naive model. The naive model is one that predicts the value at time point t as the previous historical value. Scaling by this error means that you can evaluate how good the model is compared to the naive model. If the MASE is greater than 1, then the model is worse than the naive model. The lower the MASE, the better the model is compared to the naive model._ https://www.ibm.com/docs/en/cognos-analytics/11.1.x?topic=forecasting-statistical-details\n",
    "\n"
   ],
   "id": "47ffa4a8ff758c3c"
  },
  {
   "metadata": {
    "ExecuteTime": {
     "end_time": "2025-06-13T21:46:32.371458Z",
     "start_time": "2025-06-13T21:46:32.068150Z"
    }
   },
   "cell_type": "code",
   "source": [
    "import pandas as pd\n",
    "import numpy as np\n",
    "from utilsforecast.losses import mase\n",
    "from utilsforecast.evaluation import evaluate\n",
    "from functools import partial\n",
    "from src.time_series_analysis import split_ts\n",
    "\n",
    "# --- 1. Prepare your data ---\n",
    "# Assume 'df' is your original DataFrame with 'unique_id', 'ds', 'y'\n",
    "# For intermittent data, it's crucial to have a 'unique_id' even if it's just one series.\n",
    "# This structure is expected by utilsforecast.\n",
    "# For MASE, the train set is used to calculate the scaling factor (naive MAE)\n",
    "train_df, test_df = split_ts(pred_df, 0.8)\n",
    "train_df.drop(columns=['CrostonPred'], inplace=True)"
   ],
   "id": "8fd440cfbba30ef2",
   "outputs": [
    {
     "name": "stdout",
     "output_type": "stream",
     "text": [
      "Min date: 2019-09-28 00:00:00+00:00\n",
      "Max date: 2020-09-25 21:15:00+00:00\n",
      "Number of values: 34646\n",
      "Train set size: 27717\n",
      "Test set size: 6929\n"
     ]
    }
   ],
   "execution_count": 18
  },
  {
   "metadata": {},
   "cell_type": "markdown",
   "source": "The following implementation uses the evaluate function which is recommended for structured data, especially useful if you have multiple time series (multiple unique_id's) or if you want to calculate multiple metrics at once, which we may in the future. The `evaluate` function expects a DataFrame with 'unique_id', 'ds', 'y', and columns for your model's predictions. Add the 'y' from the test set back to the test_df for evaluation.",
   "id": "e967214840880d6c"
  },
  {
   "metadata": {
    "ExecuteTime": {
     "end_time": "2025-06-13T21:46:38.619690Z",
     "start_time": "2025-06-13T21:46:37.964997Z"
    }
   },
   "cell_type": "code",
   "source": "train_df.head()",
   "id": "43f2188b9f234f86",
   "outputs": [
    {
     "data": {
      "text/plain": [
       "                             y unique_id\n",
       "ds                                      \n",
       "2019-09-28 00:00:00+00:00  0.0         1\n",
       "2019-09-28 00:15:00+00:00  0.0         1\n",
       "2019-09-28 00:30:00+00:00  0.0         1\n",
       "2019-09-28 00:45:00+00:00  0.0         1\n",
       "2019-09-28 01:00:00+00:00  0.0         1"
      ],
      "text/html": [
       "<div>\n",
       "<style scoped>\n",
       "    .dataframe tbody tr th:only-of-type {\n",
       "        vertical-align: middle;\n",
       "    }\n",
       "\n",
       "    .dataframe tbody tr th {\n",
       "        vertical-align: top;\n",
       "    }\n",
       "\n",
       "    .dataframe thead th {\n",
       "        text-align: right;\n",
       "    }\n",
       "</style>\n",
       "<table border=\"1\" class=\"dataframe\">\n",
       "  <thead>\n",
       "    <tr style=\"text-align: right;\">\n",
       "      <th></th>\n",
       "      <th>y</th>\n",
       "      <th>unique_id</th>\n",
       "    </tr>\n",
       "    <tr>\n",
       "      <th>ds</th>\n",
       "      <th></th>\n",
       "      <th></th>\n",
       "    </tr>\n",
       "  </thead>\n",
       "  <tbody>\n",
       "    <tr>\n",
       "      <th>2019-09-28 00:00:00+00:00</th>\n",
       "      <td>0.0</td>\n",
       "      <td>1</td>\n",
       "    </tr>\n",
       "    <tr>\n",
       "      <th>2019-09-28 00:15:00+00:00</th>\n",
       "      <td>0.0</td>\n",
       "      <td>1</td>\n",
       "    </tr>\n",
       "    <tr>\n",
       "      <th>2019-09-28 00:30:00+00:00</th>\n",
       "      <td>0.0</td>\n",
       "      <td>1</td>\n",
       "    </tr>\n",
       "    <tr>\n",
       "      <th>2019-09-28 00:45:00+00:00</th>\n",
       "      <td>0.0</td>\n",
       "      <td>1</td>\n",
       "    </tr>\n",
       "    <tr>\n",
       "      <th>2019-09-28 01:00:00+00:00</th>\n",
       "      <td>0.0</td>\n",
       "      <td>1</td>\n",
       "    </tr>\n",
       "  </tbody>\n",
       "</table>\n",
       "</div>"
      ]
     },
     "execution_count": 19,
     "metadata": {},
     "output_type": "execute_result"
    }
   ],
   "execution_count": 19
  },
  {
   "metadata": {
    "ExecuteTime": {
     "end_time": "2025-06-13T21:46:41.386892Z",
     "start_time": "2025-06-13T21:46:40.953778Z"
    }
   },
   "cell_type": "code",
   "source": [
    "# Define the MASE metric with optional seasonality\n",
    "# Use functools.partial to pre-set the seasonality argument if needed\n",
    "mase_metric = partial(mase, seasonality=intervals_per_day)\n",
    "\n",
    "# Evaluate the model\n",
    "evaluation_results = evaluate(\n",
    "    df=test_df,\n",
    "    metrics=[mase_metric], # Pass the mase function (or partial)\n",
    "    models=['CrostonPred'], # The column name of your predictions\n",
    "    train_df=train_df, # Crucial for MASE to calculate the scaling factor\n",
    "    id_col='unique_id',\n",
    "    time_col='ds',\n",
    "    target_col='y'\n",
    ")\n",
    "\n",
    "print(\"\\nMASE using utilsforecast.evaluation.evaluate:\")\n",
    "print(evaluation_results)\n",
    "\n",
    "overall_mase = evaluation_results['CrostonPred'].mean()\n",
    "print(f\"\\nOverall MASE: {overall_mase:.4f}\")\n"
   ],
   "id": "81ef74b23ac788e2",
   "outputs": [
    {
     "name": "stdout",
     "output_type": "stream",
     "text": [
      "\n",
      "MASE using utilsforecast.evaluation.evaluate:\n",
      "  unique_id metric  CrostonPred\n",
      "0         1   mase     1.164728\n",
      "\n",
      "Overall MASE: 1.1647\n"
     ]
    }
   ],
   "execution_count": 20
  }
 ],
 "metadata": {
  "kernelspec": {
   "display_name": "Python 3",
   "language": "python",
   "name": "python3"
  },
  "language_info": {
   "codemirror_mode": {
    "name": "ipython",
    "version": 2
   },
   "file_extension": ".py",
   "mimetype": "text/x-python",
   "name": "python",
   "nbconvert_exporter": "python",
   "pygments_lexer": "ipython2",
   "version": "2.7.6"
  }
 },
 "nbformat": 4,
 "nbformat_minor": 5
}
