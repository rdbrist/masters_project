{
 "cells": [
  {
   "metadata": {},
   "cell_type": "markdown",
   "source": [
    "# 2.03d Analysing Glycaemic Variability\n",
    "This notebook looks at blood glucose in terms of glycaemic variability.\n",
    "\n",
    "There are a range of metrics that can be used to assess glycaemic variability, including:\n",
    "- Coefficient of Variation (CV)\n",
    "- Standard Deviation (SD)\n",
    "- Mean Absolute Glucose (MAG)\n",
    "- Mean Absolute Glucose Change (MAGC)\n",
    "- Mean Amplitude of Glycaemic Excursions (MAGE)\n",
    "\n"
   ],
   "id": "9f442716731d1871"
  },
  {
   "metadata": {},
   "cell_type": "code",
   "outputs": [],
   "execution_count": null,
   "source": [
    "night_start = time(17, 0)\n",
    "morning_end = time(11, 0)\n",
    "sampling = ThirtyMinute()\n",
    "min_nights = 30\n",
    "missed_intervals = 1\n",
    "max_break_run = 1\n",
    "cob_nan_min = 0.2\n",
    "iob_nan_min = 0.05\n",
    "bg_nan_min = 0.2\n",
    "sample_long = SampleFilter(\n",
    "    night_start=night_start,\n",
    "    morning_end=morning_end,\n",
    "    sampling=sampling,\n",
    "    missed_intervals=missed_intervals,\n",
    "    max_break_run= max_break_run,\n",
    "    min_nights=min_nights,\n",
    "    cob_nan_min=cob_nan_min,\n",
    "    iob_nan_min=iob_nan_min,\n",
    "    bg_nan_min=bg_nan_min\n",
    ")\n"
   ],
   "id": "6081ae807b6d2b2c"
  }
 ],
 "metadata": {
  "kernelspec": {
   "display_name": "Python 3",
   "language": "python",
   "name": "python3"
  },
  "language_info": {
   "codemirror_mode": {
    "name": "ipython",
    "version": 2
   },
   "file_extension": ".py",
   "mimetype": "text/x-python",
   "name": "python",
   "nbconvert_exporter": "python",
   "pygments_lexer": "ipython2",
   "version": "2.7.6"
  }
 },
 "nbformat": 4,
 "nbformat_minor": 5
}
