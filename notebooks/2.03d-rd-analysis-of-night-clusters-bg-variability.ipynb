{
 "cells": [
  {
   "metadata": {},
   "cell_type": "markdown",
   "source": [
    "# 2.03d Analysing Glycaemic Variability\n",
    "This notebook looks at blood glucose in terms of glycaemic variability.\n",
    "\n",
    "Glycaemic control has traditionally been the measured using HbA1c, a term used for glycated haemoglobin, which is made when the glucose sticks to red blood cells. As blood sugar can't be used properly, more of it binds to blood cells and increases the volume in haemoglobin. Readings are taken quarterly as red blood cells are active for 2-3 months. Thus, a high HbA1c result indicates high blood sugar levels, and with it the various risks and complications that a patient faces. HbA1c will not give an idea of fluctuations in blood sugar levels whereas CGM monitors offer the ability to monitor BG at a much greater resolution. Glycaemic variability can measured more with a range of metrics, including but not limited to:\n",
    "- Time in range (TIR)\n",
    "- Coefficient of Variation (CV)\n",
    "- Standard Deviation (SD)\n",
    "- Mean Amplitude of Glycaemic Excursions (MAGE)\n",
    "- Continuous overall net glycaemic action (CONGA)\n",
    "- High/Low Blood Glucose Index (H/LBGI)\n",
    "\n",
    "This analysis will focus on the SD, CV and MAGE. SD is measured by:\n",
    "\n",
    "$SD = \\sqrt{\\frac{\\sum{(x-\\bar{x})^2}}{n-1}}$\n",
    "\n",
    "where $\\bar{x}$ is the mean of the glucose data.\n",
    "\n",
    "CV is also a statistical metric which focuses on the diversity of glucose data, and is one of the most used metrics for glycaemic variation \\cite{Rodard2018} <NEEDS REFERENCE AS OFFLINE>. CV is calculated as:\n",
    "$CV = \\frac{SD}{\\bar{x}}$\n",
    "\n",
    "CV is a unitless measure, and is often expressed as a percentage.\n",
    "\n",
    "MAGE is a measure of the amplitude of glycaemic excursions originally proposed by Service et al \\cite{Service1970}, and is calculated as the mean of the absolute differences between consecutive peaks and troughs in glucose data. It is a measure of the magnitude of fluctuations in glucose levels, and is often used to assess glycaemic variability in patients with diabetes. MAGE is calculated as:\n",
    "$MAGE = \\frac{1}{n-1} \\sum_{i=1}^{n-1} |x_i - x_{i+1}|$\n",
    "\n",
    "where $x_i$ is the glucose level at time $i$ and $n$ is the number of glucose measurements. The implementation used here is provided in the `cgmquantify` package \\cite{Bent2021).\n",
    "\n"
   ],
   "id": "9f442716731d1871"
  },
  {
   "metadata": {
    "jupyter": {
     "is_executing": true
    }
   },
   "cell_type": "code",
   "source": [
    "from src.sample_filter import SampleFilter\n",
    "from src.configurations import ThirtyMinute\n",
    "from datetime import time\n",
    "from cgmquantify import MAGE\n",
    "\n",
    "night_start = time(17, 0)\n",
    "morning_end = time(11, 0)\n",
    "sampling = ThirtyMinute()\n",
    "min_nights = 30\n",
    "missed_intervals = 1\n",
    "max_break_run = 1\n",
    "cob_nan_min = 0.2\n",
    "iob_nan_min = 0.05\n",
    "bg_nan_min = 0.2\n",
    "sample_long = SampleFilter(\n",
    "    night_start=night_start,\n",
    "    morning_end=morning_end,\n",
    "    sampling=sampling,\n",
    "    missed_intervals=missed_intervals,\n",
    "    max_break_run= max_break_run,\n",
    "    min_nights=min_nights,\n",
    "    cob_nan_min=cob_nan_min,\n",
    "    iob_nan_min=iob_nan_min,\n",
    "    bg_nan_min=bg_nan_min\n",
    ")\n",
    "\n",
    "df = sample_long.get_consolidated_df()\n"
   ],
   "id": "6081ae807b6d2b2c",
   "outputs": [],
   "execution_count": null
  },
  {
   "metadata": {
    "ExecuteTime": {
     "end_time": "2025-07-11T20:41:33.311845Z",
     "start_time": "2025-07-11T20:41:32.862525Z"
    }
   },
   "cell_type": "code",
   "source": "df",
   "id": "596f536beb93a103",
   "outputs": [
    {
     "ename": "NameError",
     "evalue": "name 'df' is not defined",
     "output_type": "error",
     "traceback": [
      "\u001B[31m---------------------------------------------------------------------------\u001B[39m",
      "\u001B[31mNameError\u001B[39m                                 Traceback (most recent call last)",
      "\u001B[36mCell\u001B[39m\u001B[36m \u001B[39m\u001B[32mIn[1]\u001B[39m\u001B[32m, line 1\u001B[39m\n\u001B[32m----> \u001B[39m\u001B[32m1\u001B[39m \u001B[43mdf\u001B[49m\n",
      "\u001B[31mNameError\u001B[39m: name 'df' is not defined"
     ]
    }
   ],
   "execution_count": 1
  },
  {
   "metadata": {
    "ExecuteTime": {
     "end_time": "2025-07-11T21:36:17.531536Z",
     "start_time": "2025-07-11T21:36:17.430827Z"
    }
   },
   "cell_type": "code",
   "source": "\n",
   "id": "397a3e04a554a24f",
   "outputs": [],
   "execution_count": 2
  }
 ],
 "metadata": {
  "kernelspec": {
   "display_name": "Python 3",
   "language": "python",
   "name": "python3"
  },
  "language_info": {
   "codemirror_mode": {
    "name": "ipython",
    "version": 2
   },
   "file_extension": ".py",
   "mimetype": "text/x-python",
   "name": "python",
   "nbconvert_exporter": "python",
   "pygments_lexer": "ipython2",
   "version": "2.7.6"
  }
 },
 "nbformat": 4,
 "nbformat_minor": 5
}
