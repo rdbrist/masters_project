{
 "cells": [
  {
   "metadata": {},
   "cell_type": "markdown",
   "source": [
    "# 2.05: Blood Glucose Analysis\n",
    "This notebook is used to analyse the blood glucose data from the patients. The intention is to understand blood glucose patterns and how they relate to changes in the insulin on board (IOB) and carbohydrates on board (COB). The analysis will focus on the following:\n",
    "1. **Variability**: How much the blood glucose levels vary between nights, between individuals and for an individual.\n",
    "2. **Rate of Change**: How quickly the blood glucose levels change over time.\n",
    "3. **Peaks**: How often the blood glucose levels peak above a certain threshold for certain periods of the night.\n",
    "4. **Correlation**: How the blood glucose levels correlate with the IOB and COB levels.\n",
    "Lets start by loading the data and extracting aggregated data around variability for individuals."
   ],
   "id": "fc72e7488af43830"
  },
  {
   "metadata": {
    "ExecuteTime": {
     "end_time": "2025-06-23T16:35:59.879623Z",
     "start_time": "2025-06-23T16:35:59.787773Z"
    }
   },
   "cell_type": "code",
   "source": [
    "%load_ext autoreload\n",
    "%autoreload 2\n",
    "\n",
    "import pandas as pd\n",
    "import seaborn as sns\n",
    "import matplotlib.pyplot as plt\n",
    "\n",
    "from src.configurations import Configuration\n",
    "from src.data_processing.read_preprocessed_df import ReadPreprocessedDataFrame\n",
    "from src.data_processing.read import read_profile_offsets_csv\n",
    "from src.helper import separate_flat_file\n",
    "from src.candidate_selection import remove_null_variable_individuals, \\\n",
    "    provide_data_statistics\n",
    "from datetime import time\n",
    "from src.data_processing.read_preprocessed_df import apply_and_filter_by_offsets\n",
    "from src.time_series_analysis import return_count_intervals\n",
    "from src.configurations import ThirtyMinute\n",
    "from src.nights import Nights"
   ],
   "id": "53061f0975c82563",
   "outputs": [
    {
     "name": "stdout",
     "output_type": "stream",
     "text": [
      "The autoreload extension is already loaded. To reload it, use:\n",
      "  %reload_ext autoreload\n"
     ]
    }
   ],
   "execution_count": 10
  },
  {
   "metadata": {
    "ExecuteTime": {
     "end_time": "2025-06-23T21:05:30.809085Z",
     "start_time": "2025-06-23T21:05:16.956393Z"
    }
   },
   "cell_type": "code",
   "source": [
    "config = Configuration()\n",
    "\n",
    "df_new_30 = ReadPreprocessedDataFrame(ThirtyMinute(), file_type='parquet').df\n",
    "df_offsets = read_profile_offsets_csv(config)\n",
    "night_start = time(17, 0)\n",
    "morning_end = time(11, 0)\n",
    "sample_rate = 30\n",
    "count_of_intervals = return_count_intervals(night_start, morning_end, minute_interval=sample_rate)\n",
    "df_processed = apply_and_filter_by_offsets(offsets_df=df_offsets,\n",
    "                                           interim_df=df_new_30)\n",
    "df_processed = remove_null_variable_individuals(df_processed)\n",
    "separated = separate_flat_file(df_processed)\n",
    "df_overall_stats = provide_data_statistics(separated, sample_rate=sample_rate, night_start=night_start, morning_end=morning_end)\n"
   ],
   "id": "b49fc71206bc30ef",
   "outputs": [
    {
     "name": "stdout",
     "output_type": "stream",
     "text": [
      "\u001B[32m2025-06-23 22:05:17.202\u001B[0m | \u001B[1mINFO    \u001B[0m | \u001B[36msrc.data_processing.read_preprocessed_df\u001B[0m:\u001B[36mapply_and_filter_by_offsets\u001B[0m:\u001B[36m101\u001B[0m - \u001B[1mIDs missing in offsets_df: {98974339, 35533061, 78420229, 66019205, 68026248, 40997757, 32997134, 1352464, 17161370, 49551394, 37998755, 40237051, 25692073, 74077367, 14092221, 18991425, 35719805, 43589707, 897741, 66937570, 65143138, 60844515, 27819368, 56958831, 80796147, 40634871, 16975609, 20396154, 81099003, 28176124, 86286077}\u001B[0m\n",
      "\u001B[32m2025-06-23 22:05:17.751\u001B[0m | \u001B[1mINFO    \u001B[0m | \u001B[36msrc.candidate_selection\u001B[0m:\u001B[36mremove_null_variable_individuals\u001B[0m:\u001B[36m360\u001B[0m - \u001B[1mFollowing individuals have one or more variables missing: set()\u001B[0m\n",
      "No stats per night have been calculated for 67167655. Returning no output.\n"
     ]
    }
   ],
   "execution_count": 45
  },
  {
   "metadata": {},
   "cell_type": "markdown",
   "source": "The following analysis is based on the constraint (at the point of analysis) that we're putting on 'usable' nights which is that they have only a single 30min interval missing, or are complete, and a candidate must have 30 nights or greater. If these constraints change, then the analysis will only serve to show the process.",
   "id": "a2ab54a879d49535"
  },
  {
   "metadata": {
    "ExecuteTime": {
     "end_time": "2025-06-23T21:14:23.950079Z",
     "start_time": "2025-06-23T21:14:23.866249Z"
    }
   },
   "cell_type": "code",
   "source": [
    "df_overall_stats['useful_nights'] = df_overall_stats['complete_nights'] + df_overall_stats['single_interval_nights']\n",
    "df_stats = df_overall_stats[['count_of_nights', 'useful_nights', 'bg_sd_median', 'bg_range_median', 'bg_iqr_median']]\n",
    "df_stats = df_stats[df_stats['useful_nights'] >= 30]\n",
    "print(f'Total number of individuals with 30 or more useful nights: {len(df_stats)}')\n",
    "print(f'Total number of nights across these individuals: {df_stats[\"useful_nights\"].sum()}')"
   ],
   "id": "fb22c8ed6abd05a7",
   "outputs": [
    {
     "name": "stdout",
     "output_type": "stream",
     "text": [
      "Total number of individuals with 30 or more useful nights: 17\n",
      "Total number of nights across these individuals: 965\n"
     ]
    }
   ],
   "execution_count": 50
  }
 ],
 "metadata": {
  "kernelspec": {
   "display_name": "Python 3",
   "language": "python",
   "name": "python3"
  },
  "language_info": {
   "codemirror_mode": {
    "name": "ipython",
    "version": 2
   },
   "file_extension": ".py",
   "mimetype": "text/x-python",
   "name": "python",
   "nbconvert_exporter": "python",
   "pygments_lexer": "ipython2",
   "version": "2.7.6"
  }
 },
 "nbformat": 4,
 "nbformat_minor": 5
}
