{
 "cells": [
  {
   "metadata": {},
   "cell_type": "markdown",
   "source": [
    "# 2.05: Blood Glucose Analysis\n",
    "This notebook is used to analyse the blood glucose data from the patients. The intention is to understand blood glucose patterns and how they relate to changes in the insulin on board (IOB) and carbohydrates on board (COB). The analysis will focus on the following:\n",
    "1. **Variability**: How much the blood glucose levels vary between nights, between individuals and for an individual.\n",
    "2. **Rate of Change**: How quickly the blood glucose levels change over time.\n",
    "3. **Peaks**: How often the blood glucose levels peak above a certain threshold for certain periods of the night.\n",
    "4. **Correlation**: How the blood glucose levels correlate with the IOB and COB levels.\n",
    "Lets start by loading the data and extracting aggregated data around variability for individuals."
   ],
   "id": "fc72e7488af43830"
  },
  {
   "metadata": {
    "ExecuteTime": {
     "end_time": "2025-06-24T20:37:12.396991Z",
     "start_time": "2025-06-24T20:36:54.922327Z"
    }
   },
   "cell_type": "code",
   "source": [
    "%load_ext autoreload\n",
    "%autoreload 2\n",
    "\n",
    "import pandas as pd\n",
    "import seaborn as sns\n",
    "import matplotlib.pyplot as plt\n",
    "\n",
    "from src.configurations import Configuration\n",
    "from src.data_processing.read_preprocessed_df import ReadPreprocessedDataFrame\n",
    "from src.data_processing.read import read_profile_offsets_csv\n",
    "from src.helper import separate_flat_file\n",
    "from src.candidate_selection import remove_null_variable_individuals, \\\n",
    "    provide_data_statistics\n",
    "from datetime import time\n",
    "from src.data_processing.read_preprocessed_df import apply_and_filter_by_offsets\n",
    "from src.time_series_analysis import return_count_intervals\n",
    "from src.configurations import ThirtyMinute\n",
    "from src.nights import Nights\n",
    "from src.bg_analysis import BGAnalyser"
   ],
   "id": "53061f0975c82563",
   "outputs": [
    {
     "name": "stderr",
     "output_type": "stream",
     "text": [
      "\u001B[32m2025-06-24 21:36:55.716\u001B[0m | \u001B[1mINFO    \u001B[0m | \u001B[36msrc.config\u001B[0m:\u001B[36m<module>\u001B[0m:\u001B[36m11\u001B[0m - \u001B[1mPROJ_ROOT path is: C:\\Users\\ross\\OneDrive\\Documents\\Masters\\Project\\masters_project\u001B[0m\n"
     ]
    }
   ],
   "execution_count": 1
  },
  {
   "metadata": {
    "ExecuteTime": {
     "end_time": "2025-06-24T20:37:40.635574Z",
     "start_time": "2025-06-24T20:37:12.409724Z"
    }
   },
   "cell_type": "code",
   "source": [
    "config = Configuration()\n",
    "\n",
    "df_new_30 = ReadPreprocessedDataFrame(ThirtyMinute(), file_type='parquet').df\n",
    "df_offsets = read_profile_offsets_csv(config)\n",
    "night_start = time(17, 0)\n",
    "morning_end = time(11, 0)\n",
    "sample_rate = 30\n",
    "count_of_intervals = return_count_intervals(night_start, morning_end, minute_interval=sample_rate)\n",
    "df_processed = apply_and_filter_by_offsets(offsets_df=df_offsets,\n",
    "                                           interim_df=df_new_30)\n",
    "df_processed = remove_null_variable_individuals(df_processed)\n",
    "separated = separate_flat_file(df_processed)\n",
    "df_overall_stats = provide_data_statistics(separated, sample_rate=sample_rate, night_start=night_start, morning_end=morning_end)\n"
   ],
   "id": "b49fc71206bc30ef",
   "outputs": [
    {
     "name": "stdout",
     "output_type": "stream",
     "text": [
      "\u001B[32m2025-06-24 21:37:12.996\u001B[0m | \u001B[1mINFO    \u001B[0m | \u001B[36msrc.data_processing.read_preprocessed_df\u001B[0m:\u001B[36mapply_and_filter_by_offsets\u001B[0m:\u001B[36m101\u001B[0m - \u001B[1mIDs missing in offsets_df: {98974339, 35533061, 78420229, 66019205, 68026248, 40997757, 32997134, 1352464, 17161370, 49551394, 37998755, 40237051, 25692073, 74077367, 14092221, 18991425, 35719805, 43589707, 897741, 66937570, 65143138, 60844515, 27819368, 56958831, 80796147, 40634871, 16975609, 20396154, 81099003, 28176124, 86286077}\u001B[0m\n",
      "\u001B[32m2025-06-24 21:37:13.935\u001B[0m | \u001B[1mINFO    \u001B[0m | \u001B[36msrc.candidate_selection\u001B[0m:\u001B[36mremove_null_variable_individuals\u001B[0m:\u001B[36m32\u001B[0m - \u001B[1mFollowing individuals have one or more variables missing: set()\u001B[0m\n",
      "No stats per night have been calculated for 67167655. Returning no output.\n"
     ]
    }
   ],
   "execution_count": 2
  },
  {
   "metadata": {},
   "cell_type": "markdown",
   "source": "The following analysis is based on the constraint (at the point of analysis) that we're putting on 'usable' nights which is that they have only a single 30min interval missing, or are complete, and a candidate must have 30 nights or greater. If these constraints change, then the analysis will only serve to show the process.",
   "id": "a2ab54a879d49535"
  },
  {
   "metadata": {
    "ExecuteTime": {
     "end_time": "2025-06-24T20:37:42.520304Z",
     "start_time": "2025-06-24T20:37:42.368560Z"
    }
   },
   "cell_type": "code",
   "source": [
    "df_overall_stats['useful_nights'] = df_overall_stats['complete_nights'] + df_overall_stats['single_interval_nights']\n",
    "df_stats = df_overall_stats[['count_of_nights', 'useful_nights', 'bg_sd_median', 'bg_range_median', 'bg_iqr_median']]\n",
    "df_stats = df_stats[df_stats['useful_nights'] >= 30]\n",
    "print(f'Total number of individuals with 30 or more useful nights: {len(df_stats)}')\n",
    "print(f'Total number of nights across these individuals: {df_stats[\"useful_nights\"].sum()}')"
   ],
   "id": "fb22c8ed6abd05a7",
   "outputs": [
    {
     "name": "stdout",
     "output_type": "stream",
     "text": [
      "Total number of individuals with 30 or more useful nights: 17\n",
      "Total number of nights across these individuals: 965\n"
     ]
    }
   ],
   "execution_count": 3
  },
  {
   "metadata": {},
   "cell_type": "markdown",
   "source": "We'll now look at the variability of the blood glucose levels across the nights for each individual. The variability is measured by the standard deviation, range and interquartile range (IQR) of the blood glucose levels. This is across all 'useful' nights, i.e. defined as either complete nights or nights with a single 30min interval missing. The median of these values is used to represent the variability for each individual. The median is used to reduce the impact of outliers on the variability measure.",
   "id": "4010dddde67a35aa"
  },
  {
   "metadata": {
    "ExecuteTime": {
     "end_time": "2025-06-24T20:37:43.194269Z",
     "start_time": "2025-06-24T20:37:42.586216Z"
    }
   },
   "cell_type": "code",
   "source": [
    "def plot_bg_variability(df_stats):\n",
    "    \"\"\"\n",
    "    Plot the blood glucose variability measures (SD, IQR, Range) for each individual.\n",
    "    :param df_stats: (DataFrame) DataFrame containing the blood glucose variability statistics.\n",
    "    \"\"\"\n",
    "    melted = df_stats.melt(value_vars=['bg_sd_median', 'bg_range_median', 'bg_iqr_median'],\n",
    "                           var_name='Variability Measure', value_name='Value')\n",
    "\n",
    "    # Create a figure with two y-axes\n",
    "    fig, ax1 = plt.subplots(figsize=(10, 6))\n",
    "\n",
    "    # Boxplot for bg_sd_median and bg_iqr_median on ax1\n",
    "    sns.boxplot(x='Variability Measure', y='Value', data=melted[melted['Variability Measure'].isin(['bg_sd_median', 'bg_iqr_median'])], ax=ax1)\n",
    "    ax1.set_ylabel('SD / IQR (mg/dL)')\n",
    "    ax1.set_xlabel('Variability Measure')\n",
    "    ax1.set_title('Distribution of Blood Glucose Variability Measures (Median per Individual)')\n",
    "\n",
    "    # Create a second y-axis sharing the same x-axis\n",
    "    ax2 = ax1.twinx()\n",
    "    # Boxplot for bg_range_median on ax2\n",
    "    sns.boxplot(x='Variability Measure', y='Value', data=melted[melted['Variability Measure']=='bg_range_median'], ax=ax2, boxprops=dict(facecolor='lightcoral', alpha=0.5))\n",
    "    ax2.set_ylabel('Range (mg/dL)')\n",
    "\n",
    "    # Adjust x-tick labels to show all three categories\n",
    "    ax1.set_xticks([0, 1, 2])\n",
    "    ax1.set_xticklabels(['SD', 'IQR', 'Range'])\n",
    "    plt.tight_layout()\n",
    "    plt.show()\n",
    "\n",
    "plot_bg_variability(df_stats)"
   ],
   "id": "d9f5d0a9078123e1",
   "outputs": [
    {
     "data": {
      "text/plain": [
       "<Figure size 1000x600 with 2 Axes>"
      ],
      "image/png": "[encoded data removed]"
     },
     "metadata": {},
     "output_type": "display_data"
    }
   ],
   "execution_count": 4
  },
  {
   "metadata": {
    "ExecuteTime": {
     "end_time": "2025-06-24T20:40:41.564606Z",
     "start_time": "2025-06-24T20:40:41.434006Z"
    }
   },
   "cell_type": "code",
   "source": [
    "# Skew and kurtosis of the distributions\n",
    "from scipy.stats import skew, kurtosis\n",
    "cols = ['bg_sd_median', 'bg_range_median', 'bg_iqr_median']\n",
    "def calculate_skew_kurtosis(df: pd.DataFrame, variables: list = None) -> pd.DataFrame:\n",
    "    \"\"\"\n",
    "    Calculate skewness and kurtosis for the variables included.\n",
    "    :param df: (DataFrame) DataFrame containing the variables.\n",
    "    :param variables: (list) List of variables to calculate skewness and kurtosis for.\n",
    "    :return: (DataFrame) DataFrame with skewness and kurtosis values.\n",
    "    \"\"\"\n",
    "    skewness = df[variables].apply(skew)\n",
    "    kurt = df[variables].apply(kurtosis)\n",
    "\n",
    "    return pd.DataFrame({'Skewness': skewness, 'Kurtosis': kurt})\n",
    "\n",
    "calculate_skew_kurtosis(df_stats, cols)"
   ],
   "id": "779489dbd77d6971",
   "outputs": [
    {
     "data": {
      "text/plain": [
       "                 Skewness  Kurtosis\n",
       "bg_sd_median     0.354790 -0.589486\n",
       "bg_range_median  0.182933 -0.356620\n",
       "bg_iqr_median    0.450384 -0.550974"
      ],
      "text/html": [
       "<div>\n",
       "<style scoped>\n",
       "    .dataframe tbody tr th:only-of-type {\n",
       "        vertical-align: middle;\n",
       "    }\n",
       "\n",
       "    .dataframe tbody tr th {\n",
       "        vertical-align: top;\n",
       "    }\n",
       "\n",
       "    .dataframe thead th {\n",
       "        text-align: right;\n",
       "    }\n",
       "</style>\n",
       "<table border=\"1\" class=\"dataframe\">\n",
       "  <thead>\n",
       "    <tr style=\"text-align: right;\">\n",
       "      <th></th>\n",
       "      <th>Skewness</th>\n",
       "      <th>Kurtosis</th>\n",
       "    </tr>\n",
       "  </thead>\n",
       "  <tbody>\n",
       "    <tr>\n",
       "      <th>bg_sd_median</th>\n",
       "      <td>0.354790</td>\n",
       "      <td>-0.589486</td>\n",
       "    </tr>\n",
       "    <tr>\n",
       "      <th>bg_range_median</th>\n",
       "      <td>0.182933</td>\n",
       "      <td>-0.356620</td>\n",
       "    </tr>\n",
       "    <tr>\n",
       "      <th>bg_iqr_median</th>\n",
       "      <td>0.450384</td>\n",
       "      <td>-0.550974</td>\n",
       "    </tr>\n",
       "  </tbody>\n",
       "</table>\n",
       "</div>"
      ]
     },
     "execution_count": 10,
     "metadata": {},
     "output_type": "execute_result"
    }
   ],
   "execution_count": 10
  },
  {
   "metadata": {},
   "cell_type": "markdown",
   "source": [
    "All negative valuess for kurtosis indicate that the distributions are platykurtic, meaning they have lighter tails than a normal distribution. The skewness values are all close to zero, indicating that the distributions are fairly symmetric. This suggests that the variability measures are not heavily influenced by extreme values and are relatively consistent across individuals.\n",
    "\n",
    "Note that this is across the whole timeframe of the period. This will take into account the last meal and BG spike following this. If we limit the hours to between 22:00 and 06:00, this will focus better on the variability during the sleep period, even though the times are arbitrary and do not take into account the individual sleep patterns or chronotype. Lets look at this data and distribution.\n"
   ],
   "id": "176f0f7936a8ea8f"
  },
  {
   "metadata": {
    "ExecuteTime": {
     "end_time": "2025-06-24T20:38:09.418949Z",
     "start_time": "2025-06-24T20:37:43.739275Z"
    }
   },
   "cell_type": "code",
   "source": [
    "night_start = time(22, 0)\n",
    "morning_end = time(6, 0)\n",
    "\n",
    "df_overall_stats = provide_data_statistics(separated, sample_rate=sample_rate, night_start=night_start, morning_end=morning_end)"
   ],
   "id": "d957dc0b617524e4",
   "outputs": [
    {
     "name": "stdout",
     "output_type": "stream",
     "text": [
      "No stats per night have been calculated for 15634563. Returning no output.\n",
      "No stats per night have been calculated for 49796612. Returning no output.\n",
      "No stats per night have been calculated for 67167655. Returning no output.\n"
     ]
    }
   ],
   "execution_count": 6
  },
  {
   "metadata": {
    "ExecuteTime": {
     "end_time": "2025-06-24T20:41:06.773434Z",
     "start_time": "2025-06-24T20:41:05.966073Z"
    }
   },
   "cell_type": "code",
   "source": [
    "print('Single interval missing constraint applied, i.e. complete nights and single interval missing')\n",
    "df_overall_stats['useful_nights'] = df_overall_stats['complete_nights'] + df_overall_stats['single_interval_nights']\n",
    "df_stats = df_overall_stats[['count_of_nights', 'useful_nights']+cols]\n",
    "df_stats = df_stats[df_stats['useful_nights'] >= 30]\n",
    "print(f'Total number of individuals with 30 or more useful nights: {len(df_stats)}')\n",
    "print(f'Total number of nights across these individuals: {df_stats[\"useful_nights\"].sum()}')"
   ],
   "id": "edbf7713e69f37f8",
   "outputs": [
    {
     "name": "stdout",
     "output_type": "stream",
     "text": [
      "Single interval missing constraint applied, i.e. complete nights and single interval missing\n",
      "Total number of individuals with 30 or more useful nights: 40\n",
      "Total number of nights across these individuals: 3087\n"
     ]
    }
   ],
   "execution_count": 11
  },
  {
   "metadata": {
    "ExecuteTime": {
     "end_time": "2025-06-24T20:38:10.124151Z",
     "start_time": "2025-06-24T20:38:09.884098Z"
    }
   },
   "cell_type": "code",
   "source": [
    "print('\\nComplete nights constraint applied, i.e. not single interval missing')\n",
    "df_stats = df_overall_stats[['count_of_nights', 'complete_nights']+cols]\n",
    "df_stats = df_stats[df_stats['complete_nights'] >= 30]\n",
    "print(f'Total number of individuals with 30 or more useful nights: {len(df_stats)}')\n",
    "print(f'Total number of nights across these individuals: {df_stats[\"complete_nights\"].sum()}')"
   ],
   "id": "a664342e5f4a8ab0",
   "outputs": [
    {
     "name": "stdout",
     "output_type": "stream",
     "text": [
      "\n",
      "Complete nights constraint applied, i.e. not single interval missing\n",
      "Total number of individuals with 30 or more useful nights: 28\n",
      "Total number of nights across these individuals: 1795\n"
     ]
    }
   ],
   "execution_count": 8
  },
  {
   "metadata": {},
   "cell_type": "markdown",
   "source": "Without limiting to the existing candidates - i.e. using only the constaint of 30 or more nights and allowing for a single_interval_missed as well as complete nights - we can see that the number of individuals and nights and periods is much higher. This is because the constraints of the candidates are not applied, so we can see the variability across all individuals. If we do the same but limiting to complete nights...",
   "id": "b59dd7541e67d3eb"
  },
  {
   "metadata": {
    "ExecuteTime": {
     "end_time": "2025-06-24T20:41:27.522543Z",
     "start_time": "2025-06-24T20:41:27.119465Z"
    }
   },
   "cell_type": "code",
   "source": [
    "plot_bg_variability(df_stats)\n",
    "calculate_skew_kurtosis(df_stats, cols)"
   ],
   "id": "c1d93af620376df1",
   "outputs": [
    {
     "data": {
      "text/plain": [
       "<Figure size 1000x600 with 2 Axes>"
      ],
      "image/png": "[encoded data removed]"
     },
     "metadata": {},
     "output_type": "display_data"
    },
    {
     "data": {
      "text/plain": [
       "                 Skewness  Kurtosis\n",
       "bg_sd_median     0.454197 -0.148656\n",
       "bg_range_median  0.349992 -0.046687\n",
       "bg_iqr_median    0.408826 -0.237742"
      ],
      "text/html": [
       "<div>\n",
       "<style scoped>\n",
       "    .dataframe tbody tr th:only-of-type {\n",
       "        vertical-align: middle;\n",
       "    }\n",
       "\n",
       "    .dataframe tbody tr th {\n",
       "        vertical-align: top;\n",
       "    }\n",
       "\n",
       "    .dataframe thead th {\n",
       "        text-align: right;\n",
       "    }\n",
       "</style>\n",
       "<table border=\"1\" class=\"dataframe\">\n",
       "  <thead>\n",
       "    <tr style=\"text-align: right;\">\n",
       "      <th></th>\n",
       "      <th>Skewness</th>\n",
       "      <th>Kurtosis</th>\n",
       "    </tr>\n",
       "  </thead>\n",
       "  <tbody>\n",
       "    <tr>\n",
       "      <th>bg_sd_median</th>\n",
       "      <td>0.454197</td>\n",
       "      <td>-0.148656</td>\n",
       "    </tr>\n",
       "    <tr>\n",
       "      <th>bg_range_median</th>\n",
       "      <td>0.349992</td>\n",
       "      <td>-0.046687</td>\n",
       "    </tr>\n",
       "    <tr>\n",
       "      <th>bg_iqr_median</th>\n",
       "      <td>0.408826</td>\n",
       "      <td>-0.237742</td>\n",
       "    </tr>\n",
       "  </tbody>\n",
       "</table>\n",
       "</div>"
      ]
     },
     "execution_count": 12,
     "metadata": {},
     "output_type": "execute_result"
    }
   ],
   "execution_count": 12
  },
  {
   "metadata": {},
   "cell_type": "code",
   "outputs": [],
   "execution_count": null,
   "source": "",
   "id": "23a899b264679c32"
  },
  {
   "metadata": {},
   "cell_type": "markdown",
   "source": [
    "These show more skew to the lower to the minimal values, with the IQR and SD being more platykurtic. The range is more normal, but still has a slight skew to the lower values. This suggests that the variability measures are more consistent over this more bound time period. The variance is more muted than the 17:00-11:00 period as expected, given the lack of meals and the more stable blood glucose levels during the night. We now want to take a different perspective on the variability, considering how we might identify groups of nights that appear anomalous for an individual. To do this, we will use the z-score to identify nights that are more than 2 standard deviations away from the mean for an individual. This will help us identify nights that are significantly different from the individual's normal blood glucose patterns. The z-score allows us to standardise the blood glucose levels for each individual, making it easier to compare nights across individuals. We will then plot the z-scores for each individual and possibly compare them to other individuals with different distributions, to see if there are any patterns or similarities in the blood glucose levels across them. The z-score is calculated as follows:\n",
    "$$ z = \\frac{(x - \\mu)}{\\sigma} $$\n",
    "\n",
    "where:\n",
    "- \\( x \\) is the blood glucose level for a specific night\n",
    "- \\( \\mu \\) is the mean blood glucose level for the individual\n",
    "- \\( \\sigma \\) is the standard deviation of the blood glucose levels for the individual\n",
    "- \\( z \\) is the z-score for the blood glucose level\n"
   ],
   "id": "699e306510181703"
  }
 ],
 "metadata": {
  "kernelspec": {
   "display_name": "Python 3",
   "language": "python",
   "name": "python3"
  },
  "language_info": {
   "codemirror_mode": {
    "name": "ipython",
    "version": 2
   },
   "file_extension": ".py",
   "mimetype": "text/x-python",
   "name": "python",
   "nbconvert_exporter": "python",
   "pygments_lexer": "ipython2",
   "version": "2.7.6"
  }
 },
 "nbformat": 4,
 "nbformat_minor": 5
}
