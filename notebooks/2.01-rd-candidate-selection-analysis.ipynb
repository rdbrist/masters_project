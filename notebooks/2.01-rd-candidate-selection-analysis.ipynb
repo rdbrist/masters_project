{
 "cells": [
  {
   "metadata": {},
   "cell_type": "markdown",
   "source": [
    "# Candidate Selection\n",
    "The candidate selection process follows the logic below, find people that meet these criteria:\n",
    "1. That have a single timezone such that there are no shifts in the time series, which will distort modelling and comparison.\n",
    "2. That aren't missing any of the variables used, IOB, COB, IG across the dataset.\n",
    "2. That have continuous data over a broad window that can capture overnight fasting, we will set arbitrarily to 19:00-12:00.\n",
    "3. Periods will then be excluded if they lack IG for an hour or later, given this may impact analysis.\n",
    "4. Following this, the minimum number of nights with such data for a candidate will be set arbitrarily to 100, providing a threshold for sufficient data.\n"
   ],
   "id": "8d503337b13857d1"
  },
  {
   "metadata": {},
   "cell_type": "code",
   "outputs": [],
   "execution_count": null,
   "source": [
    "from unicodedata import category\n",
    "%load_ext autoreload\n",
    "%autoreload 2\n",
    "\n",
    "import pandas as pd\n",
    "\n",
    "from src.config import INTERIM_DATA_DIR\n",
    "from src.configurations import Configuration\n",
    "\n",
    "config = Configuration()\n",
    "file_name = '15min_iob_cob_bg.csv'\n",
    "file_path = INTERIM_DATA_DIR / file_name\n",
    "dtypes = {'id': int, 'iob count': int, 'cob count': int, 'bg count': int}\n",
    "df = pd.read_csv(file_path, index_col=0, parse_dates=True, dtype=dtypes).drop(columns='system')"
   ],
   "id": "93056e4f00166c50"
  },
  {
   "metadata": {},
   "cell_type": "code",
   "outputs": [],
   "execution_count": null,
   "source": [
    "# How many full days does each individual have? A full day is defined as having at least 96 15-minute intervals.\n",
    "full_days = df.groupby('id', group_keys=False).size() // 96\n",
    "mask_full_days = full_days.sort_values(ascending=False) > 100\n",
    "df = df.reset_index().set_index(['id','datetime']).sort_index(['id', 'datetime'])\n",
    "mask = df.index.get_level_values('id').isin(mask_full_days[mask_full_days].index)\n",
    "df = df[mask]\n",
    "print(f'People with > 100 days in the dataset: {len(df.index.get_level_values(\"id\").unique())}')"
   ],
   "id": "919b96e032e5fbae"
  },
  {
   "metadata": {},
   "cell_type": "code",
   "outputs": [],
   "execution_count": null,
   "source": [
    "# Now check and remove anyone that is missing all data for any of IOB, COB, BG columns\n",
    "check_cols = ['iob count', 'cob count', 'bg count']\n",
    "ids_with_only_nans_or_zeros = {}\n",
    "for col in check_cols:\n",
    "    mask = (\n",
    "        df.groupby('id')[col]\n",
    "        .apply(lambda x: x.isna().all() or (x.fillna(0) == 0).all())\n",
    "    )\n",
    "    ids_with_only_nans_or_zeros[col] = mask[mask].index.tolist()\n",
    "print(ids_with_only_nans_or_zeros)\n",
    "\n",
    "ids = set()\n",
    "for key, val in ids_with_only_nans_or_zeros.items():\n",
    "    ids.update(set(val))\n",
    "print(ids)\n",
    "df = df[~df.index.get_level_values('id').isin(ids)]"
   ],
   "id": "6c8f3f4238360b56"
  }
 ],
 "metadata": {
  "kernelspec": {
   "display_name": "Python 3",
   "language": "python",
   "name": "python3"
  },
  "language_info": {
   "codemirror_mode": {
    "name": "ipython",
    "version": 2
   },
   "file_extension": ".py",
   "mimetype": "text/x-python",
   "name": "python",
   "nbconvert_exporter": "python",
   "pygments_lexer": "ipython2",
   "version": "2.7.6"
  }
 },
 "nbformat": 4,
 "nbformat_minor": 5
}
