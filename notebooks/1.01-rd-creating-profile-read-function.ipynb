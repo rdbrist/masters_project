{
 "cells": [
  {
   "metadata": {},
   "cell_type": "markdown",
   "source": [
    "# Creating a function to read timezone from profile\n",
    "The following builds on the read.py functions to create one that reads from the profile files in the zip files to read in the timezone, to validate against timestamp timezone."
   ],
   "id": "76848f58f934bcf2"
  },
  {
   "metadata": {
    "ExecuteTime": {
     "end_time": "2025-03-11T16:21:09.925432Z",
     "start_time": "2025-03-11T16:21:04.514040Z"
    }
   },
   "cell_type": "code",
   "source": [
    "import pandas as pd\n",
    "from io import TextIOWrapper\n",
    "import re\n",
    "from pathlib import Path\n",
    "\n",
    "from src.data_processing.read import ReadRecord, read_all, read_zip_file, headers_in_file\n",
    "from src.configurations import Configuration\n",
    "\n",
    "def read_all_profile(config: Configuration):\n",
    "    return read_all(config, read_profile_from_zip)\n",
    "\n",
    "def read_profile_from_zip(file_name, config):\n",
    "    return read_zip_file(config,\n",
    "                         file_name,\n",
    "                         is_a_profile_csv_file,\n",
    "                         read_profile_file_to_df)\n",
    "\n",
    "def read_profile_file_to_df(archive, file, read_record):\n",
    "    with archive.open(file, mode=\"r\") as header_context:\n",
    "        text_io_wrapper = TextIOWrapper(header_context, encoding=\"utf-8\")\n",
    "        header_cols = headers_in_file(text_io_wrapper)\n",
    "        tz_cols = timezone_columns(header_cols)\n",
    "    with archive.open(file, mode='r') as profile_file:\n",
    "        file_name = TextIOWrapper(profile_file, encoding='utf-8')\n",
    "        # read the file into a DataFrame\n",
    "        df = pd.read_csv(file_name, usecols='defaultProfile'+tz_cols)\n",
    "        df = df.melt(id_vars=['defaultProfile'], var_name='timezone', value_name='value')\n",
    "\n",
    "def is_a_profile_csv_file(config, patient_id, file_path):\n",
    "    # file starts with patient id and _entries\n",
    "    start_string = patient_id + config.profile_csv_file_start\n",
    "    startswith = Path(file_path).name.startswith(start_string)\n",
    "\n",
    "    # has right file ending\n",
    "    endswith = file_path.endswith(config.csv_extension)\n",
    "    return startswith and endswith\n",
    "\n",
    "def timezone_columns(columns):\n",
    "    timezone_cols = [col for col in columns if re.search(r\"timezone\", col)]\n",
    "    return timezone_cols\n",
    "\n",
    "config = Configuration()\n",
    "config.data_folder = Path(\"/data/raw\")\n",
    "\n",
    "read_records = read_all_profile(config)\n",
    "\n"
   ],
   "id": "8371b77edc8112a",
   "outputs": [
    {
     "ename": "ModuleNotFoundError",
     "evalue": "No module named 'seaborn'",
     "output_type": "error",
     "traceback": [
      "\u001B[1;31m---------------------------------------------------------------------------\u001B[0m",
      "\u001B[1;31mModuleNotFoundError\u001B[0m                       Traceback (most recent call last)",
      "Cell \u001B[1;32mIn[1], line 1\u001B[0m\n\u001B[1;32m----> 1\u001B[0m \u001B[38;5;28;01mfrom\u001B[39;00m \u001B[38;5;21;01mspectroscopy\u001B[39;00m \u001B[38;5;28;01mimport\u001B[39;00m PLSEstimator\n\u001B[0;32m      3\u001B[0m pls \u001B[38;5;241m=\u001B[39m PLSEstimator()\n\u001B[0;32m      4\u001B[0m pls\u001B[38;5;241m.\u001B[39mload_dataset()\n",
      "File \u001B[1;32m~\\OneDrive\\Documents\\Masters\\Group Mini Project\\Code - Mini-Project\\dsmp-2024-groupo2\\spectroscopy\\__init__.py:2\u001B[0m\n\u001B[0;32m      1\u001B[0m \u001B[38;5;28;01mfrom\u001B[39;00m \u001B[38;5;21;01mspectroscopy\u001B[39;00m\u001B[38;5;21;01m.\u001B[39;00m\u001B[38;5;21;01msrc\u001B[39;00m\u001B[38;5;21;01m.\u001B[39;00m\u001B[38;5;21;01mpreprocessing\u001B[39;00m\u001B[38;5;21;01m.\u001B[39;00m\u001B[38;5;21;01mleaf_sample_reader\u001B[39;00m \u001B[38;5;28;01mimport\u001B[39;00m LeafSampleReader\n\u001B[1;32m----> 2\u001B[0m \u001B[38;5;28;01mfrom\u001B[39;00m \u001B[38;5;21;01mspectroscopy\u001B[39;00m\u001B[38;5;21;01m.\u001B[39;00m\u001B[38;5;21;01msrc\u001B[39;00m\u001B[38;5;21;01m.\u001B[39;00m\u001B[38;5;21;01mpreprocessing\u001B[39;00m\u001B[38;5;21;01m.\u001B[39;00m\u001B[38;5;21;01mdata_summariser\u001B[39;00m \u001B[38;5;28;01mimport\u001B[39;00m DataSummariser\n\u001B[0;32m      3\u001B[0m \u001B[38;5;28;01mfrom\u001B[39;00m \u001B[38;5;21;01mspectroscopy\u001B[39;00m\u001B[38;5;21;01m.\u001B[39;00m\u001B[38;5;21;01msrc\u001B[39;00m\u001B[38;5;21;01m.\u001B[39;00m\u001B[38;5;21;01mpreprocessing\u001B[39;00m\u001B[38;5;21;01m.\u001B[39;00m\u001B[38;5;21;01mreference_spectra_reader\u001B[39;00m \u001B[38;5;28;01mimport\u001B[39;00m ReferenceSpectraReader\n\u001B[0;32m      4\u001B[0m \u001B[38;5;28;01mfrom\u001B[39;00m \u001B[38;5;21;01mspectroscopy\u001B[39;00m\u001B[38;5;21;01m.\u001B[39;00m\u001B[38;5;21;01msrc\u001B[39;00m\u001B[38;5;21;01m.\u001B[39;00m\u001B[38;5;21;01mpreprocessing\u001B[39;00m\u001B[38;5;21;01m.\u001B[39;00m\u001B[38;5;21;01mdata_cleaner\u001B[39;00m \u001B[38;5;28;01mimport\u001B[39;00m DataCleaner\n",
      "File \u001B[1;32m~\\OneDrive\\Documents\\Masters\\Group Mini Project\\Code - Mini-Project\\dsmp-2024-groupo2\\spectroscopy\\src\\preprocessing\\data_summariser.py:4\u001B[0m\n\u001B[0;32m      2\u001B[0m \u001B[38;5;28;01mimport\u001B[39;00m \u001B[38;5;21;01mpandas\u001B[39;00m \u001B[38;5;28;01mas\u001B[39;00m \u001B[38;5;21;01mpd\u001B[39;00m\n\u001B[0;32m      3\u001B[0m \u001B[38;5;28;01mimport\u001B[39;00m \u001B[38;5;21;01mnumpy\u001B[39;00m \u001B[38;5;28;01mas\u001B[39;00m \u001B[38;5;21;01mnp\u001B[39;00m\n\u001B[1;32m----> 4\u001B[0m \u001B[38;5;28;01mimport\u001B[39;00m \u001B[38;5;21;01mseaborn\u001B[39;00m \u001B[38;5;28;01mas\u001B[39;00m \u001B[38;5;21;01msns\u001B[39;00m\n\u001B[0;32m      5\u001B[0m \u001B[38;5;28;01mimport\u001B[39;00m \u001B[38;5;21;01mmatplotlib\u001B[39;00m\u001B[38;5;21;01m.\u001B[39;00m\u001B[38;5;21;01mpyplot\u001B[39;00m \u001B[38;5;28;01mas\u001B[39;00m \u001B[38;5;21;01mplt\u001B[39;00m\n\u001B[0;32m      6\u001B[0m \u001B[38;5;28;01mfrom\u001B[39;00m \u001B[38;5;21;01msklearn\u001B[39;00m\u001B[38;5;21;01m.\u001B[39;00m\u001B[38;5;21;01mpreprocessing\u001B[39;00m \u001B[38;5;28;01mimport\u001B[39;00m MinMaxScaler\n",
      "\u001B[1;31mModuleNotFoundError\u001B[0m: No module named 'seaborn'"
     ]
    }
   ],
   "execution_count": 1
  }
 ],
 "metadata": {
  "kernelspec": {
   "name": "python3",
   "language": "python",
   "display_name": "Python 3 (ipykernel)"
  }
 },
 "nbformat": 5,
 "nbformat_minor": 9
}
