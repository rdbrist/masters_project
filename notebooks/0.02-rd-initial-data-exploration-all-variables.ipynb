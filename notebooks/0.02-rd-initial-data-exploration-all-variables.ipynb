{
 "cells": [
  {
   "metadata": {},
   "cell_type": "markdown",
   "source": [
    "# Data Exploration - IOB, COB and BG\n",
    "The notebook 0.01-rd-initial-data-exploration-cob.ipynd was an early attempt to understand COB data, the quality and integrity of it. This notebook will now look at the overall sample of those that we can confidently and easily offset the timestamps (i.e. those that only have only timezone associated), and then drill down to the selected candidates that will be used for the study, based on the criteria set out in 2.01-rd-candidate-selection-analysis.ipynb."
   ],
   "id": "379e9a9e27c0a790"
  },
  {
   "metadata": {},
   "cell_type": "code",
   "outputs": [],
   "execution_count": null,
   "source": "# The code expects that",
   "id": "caf5b300f695e9ed"
  }
 ],
 "metadata": {
  "kernelspec": {
   "display_name": "Python 3",
   "language": "python",
   "name": "python3"
  },
  "language_info": {
   "codemirror_mode": {
    "name": "ipython",
    "version": 2
   },
   "file_extension": ".py",
   "mimetype": "text/x-python",
   "name": "python",
   "nbconvert_exporter": "python",
   "pygments_lexer": "ipython2",
   "version": "2.7.6"
  }
 },
 "nbformat": 4,
 "nbformat_minor": 5
}
