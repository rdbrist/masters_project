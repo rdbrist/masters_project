{
 "cells": [
  {
   "metadata": {},
   "cell_type": "markdown",
   "source": [
    "# 2.03 - Non-Linear Model Parameter Search\n",
    "This notebook performs a parameter search for nonlinear models to predict the relationship between the COB mean and BG mean values at lag 0. The goal is to find the best hyperparameters for models such as Support Vector Regression (SVR), Decision Tree Regressor, and Random Forest Regressor."
   ],
   "id": "5c5ee383815b51e0"
  },
  {
   "metadata": {
    "ExecuteTime": {
     "end_time": "2025-08-16T14:31:57.202405Z",
     "start_time": "2025-08-16T14:31:48.650215Z"
    }
   },
   "cell_type": "code",
   "source": [
    "%load_ext autoreload\n",
    "%autoreload 2\n",
    "\n",
    "import pickle\n",
    "import numpy as np\n",
    "\n",
    "from sklearn.model_selection import train_test_split, RandomizedSearchCV\n",
    "from sklearn.metrics import mean_squared_error\n",
    "from sklearn.tree import DecisionTreeRegressor\n",
    "from sklearn.ensemble import RandomForestRegressor\n",
    "from sklearn.svm import SVR\n",
    "from sklearn.preprocessing import StandardScaler\n",
    "\n",
    "from src.reliationship_modelling import AnalyseRelationships\n",
    "from src.config import PROCESSED_DATA_DIR"
   ],
   "id": "4bb432e71513ec9e",
   "outputs": [
    {
     "name": "stderr",
     "output_type": "stream",
     "text": [
      "\u001B[32m2025-08-16 15:31:54.836\u001B[0m | \u001B[1mINFO    \u001B[0m | \u001B[36msrc.config\u001B[0m:\u001B[36m<module>\u001B[0m:\u001B[36m11\u001B[0m - \u001B[1mPROJ_ROOT path is: C:\\Users\\ross\\OneDrive\\Documents\\Masters\\Project\\masters_project\u001B[0m\n"
     ]
    }
   ],
   "execution_count": 1
  },
  {
   "metadata": {
    "ExecuteTime": {
     "end_time": "2025-08-16T14:32:36.460573Z",
     "start_time": "2025-08-16T14:31:57.202405Z"
    }
   },
   "cell_type": "code",
   "source": [
    "with open(PROCESSED_DATA_DIR / 'cust_analyser.pkl', 'rb') as file:\n",
    "    analyser = pickle.load(file)\n",
    "\n",
    "df_to_compare = analyser.return_dataset_with_clusters()\n",
    "variables = ['cob mean', 'iob mean', 'bg mean']\n",
    "scaled_cols = ['cob_mean_scaled', 'iob_mean_scaled', 'bg_mean_scaled']\n",
    "scaler = StandardScaler()\n",
    "df_to_compare[scaled_cols] = scaler.fit_transform(df_to_compare[variables])\n",
    "rel = AnalyseRelationships(\n",
    "    df_to_compare.rename(columns={'cluster_label': 'cluster'}))\n",
    "\n",
    "X = df_to_compare[['cob_mean_scaled']].values\n",
    "y = df_to_compare['bg_mean_scaled'].to_list()\n",
    "X_train, X_test, y_train, y_test = train_test_split(X, y, test_size=0.2, random_state=42)\n",
    "\n",
    "def find_scores(search, X_train, y_train, X_test, y_test):\n",
    "    search.fit(X_train, y_train)\n",
    "    best_params = search.best_params_\n",
    "    best_score = search.best_score_ # This is the R^2 score from cross-validation\n",
    "    print(\"Best Parameters:\", best_params)\n",
    "    print(\"Best R^2 Score from Cross-Validation:\", best_score)\n",
    "\n",
    "    best_regressor = search.best_estimator_\n",
    "    y_pred = best_regressor.predict(X_test)\n",
    "    final_mse = mean_squared_error(y_test, y_pred)\n",
    "    print(\"Final Mean Squared Error on Test Data:\", final_mse)"
   ],
   "id": "8593662851073ba",
   "outputs": [],
   "execution_count": 2
  },
  {
   "metadata": {
    "ExecuteTime": {
     "end_time": "2025-08-16T15:34:58.497385Z",
     "start_time": "2025-08-16T14:32:36.593403Z"
    }
   },
   "cell_type": "code",
   "source": [
    "svr = SVR()\n",
    "param_distributions = {\n",
    "    'kernel': ['rbf'],\n",
    "    'C': np.logspace(-3, 3, 7),  # e.g., 0.001, 0.01, 0.1, 1, 10, 100, 1000\n",
    "    'gamma': np.logspace(-3, 3, 7),\n",
    "    'epsilon': [0.1, 0.2, 0.5]\n",
    "}\n",
    "\n",
    "search = RandomizedSearchCV(svr, param_distributions, n_iter=40, cv=5, verbose=3, random_state=42, n_jobs=-1)\n",
    "find_scores(search, X_train, y_train, X_test, y_test)"
   ],
   "id": "e1f424934cc3b518",
   "outputs": [
    {
     "name": "stdout",
     "output_type": "stream",
     "text": [
      "Fitting 5 folds for each of 40 candidates, totalling 200 fits\n",
      "Best Parameters: {'kernel': 'rbf', 'gamma': np.float64(1.0), 'epsilon': 0.5, 'C': np.float64(1000.0)}\n",
      "Best R^2 Score from Cross-Validation: -0.011772264440382285\n",
      "Final Mean Squared Error on Test Data: 1.005549743254307\n",
      "Fitting 5 folds for each of 40 candidates, totalling 200 fits\n",
      "Best Parameters: {'kernel': 'rbf', 'gamma': np.float64(1.0), 'epsilon': 0.5, 'C': np.float64(1000.0)}\n",
      "Best R^2 Score from Cross-Validation: -0.011772264440382285\n",
      "Final Mean Squared Error on Test Data: 1.005549743254307\n",
      "Fitting 5 folds for each of 40 candidates, totalling 200 fits\n",
      "Best Parameters: {'kernel': 'rbf', 'gamma': np.float64(1.0), 'epsilon': 0.5, 'C': np.float64(1000.0)}\n",
      "Best R^2 Score from Cross-Validation: -0.011772264440382285\n",
      "Final Mean Squared Error on Test Data: 1.005549743254307\n"
     ]
    }
   ],
   "execution_count": 3
  },
  {
   "metadata": {
    "ExecuteTime": {
     "end_time": "2025-08-16T15:35:00.514322Z",
     "start_time": "2025-08-16T15:34:58.681633Z"
    }
   },
   "cell_type": "code",
   "source": [
    "dt_regressor = DecisionTreeRegressor(random_state=42)\n",
    "param_distributions = {\n",
    "    'max_depth': [3, 5, 7, 10, None], # None means no limit\n",
    "    'min_samples_split': [2, 5, 10, 20],\n",
    "    'min_samples_leaf': [1, 5, 10],\n",
    "    'max_features': [1.0, 'sqrt', 'log2', 0.5]\n",
    "}\n",
    "\n",
    "search = RandomizedSearchCV(dt_regressor, param_distributions, n_iter=50, cv=5, verbose=2, random_state=42, n_jobs=-1)\n",
    "find_scores(search, X_train, y_train, X_test, y_test)"
   ],
   "id": "10994951b856d28d",
   "outputs": [
    {
     "name": "stdout",
     "output_type": "stream",
     "text": [
      "Fitting 5 folds for each of 50 candidates, totalling 250 fits\n",
      "Best Parameters: {'min_samples_split': 2, 'min_samples_leaf': 1, 'max_features': 'sqrt', 'max_depth': 5}\n",
      "Best R^2 Score from Cross-Validation: 0.005487279853269267\n",
      "Final Mean Squared Error on Test Data: 0.9900844009955123\n"
     ]
    }
   ],
   "execution_count": 4
  },
  {
   "metadata": {
    "ExecuteTime": {
     "end_time": "2025-08-16T15:36:30.044453Z",
     "start_time": "2025-08-16T15:35:00.527521Z"
    }
   },
   "cell_type": "code",
   "source": [
    "rf_regressor = RandomForestRegressor(random_state=42)\n",
    "param_distributions = {\n",
    "    'n_estimators': [100, 200, 300, 400, 500],\n",
    "    'max_depth': [3, 5, 7, 10, None],\n",
    "    'min_samples_split': [2, 5, 10],\n",
    "    'min_samples_leaf': [1, 2, 4],\n",
    "    'max_features': ['sqrt', 'log2', None] # None means all features\n",
    "}\n",
    "\n",
    "search = RandomizedSearchCV(rf_regressor, param_distributions, n_iter=50, cv=5, verbose=2, random_state=42, n_jobs=-1)\n",
    "find_scores(search, X_train, y_train, X_test, y_test)"
   ],
   "id": "232cd594ac83596a",
   "outputs": [
    {
     "name": "stdout",
     "output_type": "stream",
     "text": [
      "Fitting 5 folds for each of 50 candidates, totalling 250 fits\n",
      "Best Parameters: {'n_estimators': 300, 'min_samples_split': 10, 'min_samples_leaf': 1, 'max_features': 'log2', 'max_depth': 5}\n",
      "Best R^2 Score from Cross-Validation: 0.005932272814757389\n",
      "Final Mean Squared Error on Test Data: 0.9900803899204302\n"
     ]
    }
   ],
   "execution_count": 5
  }
 ],
 "metadata": {
  "kernelspec": {
   "name": "python3",
   "language": "python",
   "display_name": "Python 3 (ipykernel)"
  }
 },
 "nbformat": 5,
 "nbformat_minor": 9
}
