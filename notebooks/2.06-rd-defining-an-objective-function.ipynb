{
 "cells": [
  {
   "metadata": {},
   "cell_type": "markdown",
   "source": [
    "# 2.06 - Defining an Objective Function\n",
    "This workbook takes us through the formulation of an objective function to help indicate the 'goodness' of a night, in terms of glycaemic control, where the night is defined as the period between 22:00 and 06:00 the following day. To recap, the following measures have been studied and will contribute as components to the objective function. These are recorded at each 30 minutes interval in our dataset:\n",
    "- Blood Glucose Mean\n",
    "- Blood Glucose Standard Deviation\n",
    "- Coefficient of Variation\n",
    "- Intervals Outside Level 1 Target Range\n",
    "- Intervals Outside Level 2 Target Range\n",
    "- Amplitude of Glycaemic Variability (absolute value above 1 SD from the mean)\n",
    "- Peaks of Carbohydrate Intake\n",
    "\n",
    "The goal is still to produce a continuous variable where the score indicates the quality of the night, encompassing the physiological impact observed through glycaemic metrics and carbohydrate intake, with a higher score indicating greater disturbance.\n",
    "\n",
    "For each night (22:00 to 06:00), the 30-minutes intervals are aggregated data for the following metrics:\n",
    "- Blood Glucose Mean (BG_Mean_Night): The average of all 30-minute BG means throughout the night. A higher average BG suggests potential discomfort or dysregulation.\n",
    "- Blood Glucose Standard Deviation (BG_SD_Night): The average of all 30-minute BG standard deviations (or the overall standard deviation of all BG readings during the night). High variability can indicate instability and potential physiological stress.\n",
    "- NOTE: The Law of Total Variance for Aggregated Data (for which we have at the 30 minute intervals, from the original irregular time series provides a more statistically robust measure of variability than the simple average of standard deviations):\n",
    "  - $\\text{Var}(X) = E[\\text{Var}(X|Y)] + \\text{Var}(E[X|Y])$\n",
    "  - This means that the variance of the aggregated data is the sum of the expected variance within each group and the variance of the group means. The theoretical formula for the overall standard deviation of the aggregated data is as follows:\n",
    "Let $X$ be the original, high-frequency blood glucose readings.\n",
    "Let $Y$ represent the 30-minute time intervals (or groups).\n",
    "Let $g_i$ be the blood glucose mean for interval $i$.\n",
    "Let $s_i$ be the blood glucose for interval $i$.\n",
    "Let $s_i^2$ be the variance within interval $i$ (which is $s_i$ squared).\n",
    "Let $n_i$ be the number of original readings that were aggregated into interval $i$.\n",
    "Leading to the formula for variance:\n",
    "\n",
    "$\\text{Var}_{overall} = \\frac{\\sum_{i=1}^K n_i \\cdot s_i^2}{\\sum_{i=1}^K} + \\frac{\\sum_{i=1}^K n_i \\cdot (g_i-\\bar G)^2}{\\sum_{i=1}^K n_i}$\n",
    "\n",
    "Where:\n",
    "- $K$ is the total number of 30-minute intervals in the night.\n",
    "- $\\bar G$ is the overall mean of all blood glucose readings during the night.\n",
    "\n",
    "- Coefficient of Variation (CV_Night): The average of the 30-minute Coefficient of Variation values. This normalizes variability to the mean, providing a robust measure of relative glucose fluctuations, which can be disturbing.\n",
    "- Intervals Outside Level 1 Target Range (L1_Excursions_Night): The sum or count of 30-minute intervals where a Level 1 (clinically defined) excursion occurred. These indicate deviations from a generally acceptable range, potentially causing discomfort or impacting restorative processes.\n",
    "- Intervals Outside Level 2 Target Range (L2_Excursions_Night): The sum or count of 30-minute intervals where a Level 2 (more severe) excursion occurred. These represent more significant deviations, very likely disruptive.\n",
    "- Mean Amplitude of Glycaemic Variability (MAGE): The sum or average of the absolute amplitude values (above 1 SD from the mean). These capture significant, rapid swings in glucose, which are often associated with physiological stress or symptoms that could disturb sleep, even if within clinical thresholds. If the dataset is very sparse for this, consider summing non-zero amplitudes or taking the maximum amplitude for the night to highlight the presence of any large swings.\n",
    "- Peaks of Carbohydrate Intake (COB_Peaks): The count of peaks of COB for the night.\n",
    "\n",
    "- $G_t$:Blood glucose reading at time t.\n",
    "- $T$: Total number of time intervals in the observed period.\n",
    "- $N$: The set of all glucose readings during the nocturnal period, ${{G_1, G_2, ..., G_T}}$.\n",
    "- $G_{L1\\_lower}$: Lower threshold for Level 1 excursion.\n",
    "- $G_{L1\\_upper}$: Upper threshold for Level 1 excursion.\n",
    "- $G_{L2\\_lower}$: Lower threshold for Level 2 excursion.\n",
    "- $G_{L2\\_upper}$: Upper threshold for Level 2 excursion.\n",
    "\n",
    "All features are scaled using `Standard Scaler` to ensure they contribute equally to the objective function. The scaling is done using the mean and standard deviation of each feature across all nights:\n",
    "\n",
    "$X_{scaled} = \\frac{X - \\mu_X}{\\sigma_X}$\n",
    "\n",
    "where $X$ is the original feature value, $\\mu_X$ is the mean of the feature across all nights, and $\\sigma_X$ is the standard deviation of the feature across all nights.\n",
    "\n",
    "1. Minimising Variance Using Standard Deviation\n",
    "\n",
    "$\\mu_G = \\frac{1}{T} \\sum_{t=1}^{T} G_t$ is the mean of the glucose readings during the nocturnal period, thus the standard deviation is calculated as $\\sigma_G = \\sqrt{\\frac{1}{T} \\sum_{t=1}^{T} (G_t - \\mu_G)^2}$.\n",
    "\n",
    "3. Minimising Glycaemic Variability Using Coefficient of Variation\n",
    "\n",
    "Standard deviation is a measure of variability, but it does not account for the mean level of glucose. The Coefficient of Variation (CV) is defined as $CV = \\frac{\\sigma_G}{\\mu_G}$, which normalises the standard deviation by the mean glucose level, providing a relative measure of variability.\n",
    "\n",
    "4. Minimising Excursions Outside Target Ranges\n",
    "\n",
    "The ranges used here provide a clinically relevant context for evaluating glucose levels. The Level 1 excursion is defined as $G_{L1\\_lower} \\leq G_t \\leq G_{L1\\_upper}$, and the Level 2 excursion is defined as $G_{L2\\_lower} \\leq G_t \\leq G_{L2\\_upper}$. The number of intervals outside these ranges can be counted as follows:\n",
    "- $L1\\_Excursions = \\sum_{t=1}^{T} \\mathbb{1}_{G_t < G_{L1\\_lower} \\lor G_t > G_{L1\\_upper}}$\n",
    "- $L2\\_Excursions = \\sum_{t=1}^{T} \\mathbb{1}_{G_t < G_{L2\\_lower} \\lor G_t > G_{L2\\_upper}}$\n",
    "\n",
    "5. Minimising Amplitude of Glycaemic Variability\n",
    "\n",
    "....\n",
    "\n",
    "6. Minimising Peaks of Carbohydrate Intake\n",
    "\n",
    "Carbohydrate intake is a significant factor in glucose regulation. Peaks of carbohydrate intake can be counted as the number of times the carbohydrate intake exceeds a certain threshold during the nocturnal period. This can be defined as:\n",
    "- $COB\\_Peaks = \\sum_{t=1}^{T} \\mathbb{1}_{COB_t > COB\\_threshold}$, where $COB_t$ is the carbohydrate intake at time t.\n",
    "No carbohydrate height parameter is set as any peak is considered an indicator that the person is awake and eating, which is not ideal for a good night.\n",
    "\n",
    "The objective function $J$ can be defined as a weighted sum of these components:\n",
    "\n",
    "$J = \\frac{w_1 \\cdot BG\\_Mean\\_Night + w_2 \\cdot BG\\_SD\\_Night + w_3 \\cdot CV\\_Night + w_4 \\cdot L1\\_Excursions\\_Night + w_5 \\cdot L2\\_Excursions\\_Night + w_6 \\cdot MAGE + w_7 \\cdot COB\\_Peaks}$\n"
   ],
   "id": "86d0c4ec991dab16"
  },
  {
   "metadata": {
    "ExecuteTime": {
     "end_time": "2025-07-16T20:38:40.147709Z",
     "start_time": "2025-07-16T20:38:14.892280Z"
    }
   },
   "cell_type": "code",
   "source": [
    "%load_ext autoreload\n",
    "%autoreload 2\n",
    "\n",
    "from src.nights import Nights, consolidate_df_from_nights\n",
    "from datetime import time\n",
    "import pandas as pd\n",
    "from src.config import PROCESSED_DATA_DIR\n",
    "from src.features import FeatureSet"
   ],
   "id": "431fa4376e5c2b1e",
   "outputs": [
    {
     "name": "stderr",
     "output_type": "stream",
     "text": [
      "\u001B[32m2025-07-16 21:38:15.561\u001B[0m | \u001B[1mINFO    \u001B[0m | \u001B[36msrc.config\u001B[0m:\u001B[36m<module>\u001B[0m:\u001B[36m11\u001B[0m - \u001B[1mPROJ_ROOT path is: C:\\Users\\ross\\OneDrive\\Documents\\Masters\\Project\\masters_project\u001B[0m\n"
     ]
    }
   ],
   "execution_count": 1
  },
  {
   "metadata": {
    "ExecuteTime": {
     "end_time": "2025-07-16T20:38:50.727840Z",
     "start_time": "2025-07-16T20:38:40.154519Z"
    }
   },
   "cell_type": "code",
   "source": [
    "df_all = pd.read_parquet(PROCESSED_DATA_DIR / 'night_clusters.parquet')\n",
    "df_all['time'] = df_all.index.get_level_values('datetime').time\n",
    "\n",
    "sample_rate = 30\n",
    "nights_objects = []\n",
    "\n",
    "night_start = time(22, 0)\n",
    "morning_end = time(6, 0)\n",
    "\n",
    "for zip_id, df_ind in df_all.groupby('id'):\n",
    "    df_ind_reset = df_ind.reset_index(level='id', drop=True)\n",
    "    nights_objects.append(\n",
    "        Nights(df=df_ind_reset, zip_id=zip_id, night_start=night_start,\n",
    "               morning_end=morning_end, sample_rate=sample_rate))\n",
    "\n",
    "df_overnight = consolidate_df_from_nights(nights_objects)"
   ],
   "id": "1dd46a92662387ba",
   "outputs": [],
   "execution_count": 2
  },
  {
   "metadata": {
    "ExecuteTime": {
     "end_time": "2025-07-16T20:38:55.409523Z",
     "start_time": "2025-07-16T20:38:52.780911Z"
    }
   },
   "cell_type": "code",
   "source": [
    "features = FeatureSet(df_overnight, sample_rate=sample_rate)\n",
    "df_features = features.get_all_features(scale=False)"
   ],
   "id": "1a389b2145321883",
   "outputs": [
    {
     "name": "stdout",
     "output_type": "stream",
     "text": [
      "bg min    float64\n",
      "bg max    float64\n",
      "dtype: object\n"
     ]
    }
   ],
   "execution_count": 3
  },
  {
   "metadata": {
    "ExecuteTime": {
     "end_time": "2025-07-16T20:40:30.411283Z",
     "start_time": "2025-07-16T20:40:27.550132Z"
    }
   },
   "cell_type": "code",
   "source": [
    "features_scaled = FeatureSet(df_overnight, sample_rate=sample_rate)\n",
    "df_scaled = features_scaled.get_all_features(scale=True)"
   ],
   "id": "53ece8f16f0380df",
   "outputs": [
    {
     "name": "stdout",
     "output_type": "stream",
     "text": [
      "bg min    float64\n",
      "bg max    float64\n",
      "dtype: object\n",
      "Scaling ['iob mean', 'cob mean', 'bg mean', 'bg min', 'iob max', 'cob max', 'bg max', 'day_type_weekday', 'day_type_weekend', 'iob mean_rate_of_change', 'cob mean_rate_of_change', 'bg mean_rate_of_change', 'iob mean hourly_mean', 'cob mean hourly_mean', 'bg mean hourly_mean', 'bg max_peaks_above_mean', 'iob max_peaks_above_mean', 'cob max_peaks_above_mean', 'hour_of_day', 'hour_sin', 'hour_cos', 'l1_hypo', 'l1_hyper', 'l2_hypo', 'l2_hyper', 'excursion_amplitude', 'excursion_flag', 'cob_peaks'] columns\n"
     ]
    }
   ],
   "execution_count": 5
  },
  {
   "metadata": {
    "ExecuteTime": {
     "end_time": "2025-07-16T20:38:59.446108100Z",
     "start_time": "2025-07-16T20:15:25.534565Z"
    }
   },
   "cell_type": "code",
   "source": "feature_cols = ['bg mean', 'l1_hypo', 'l1_hyper', 'l2_hypo', 'l2_hyper', 'excursion_amplitude', 'excursion_flag', 'cob_peaks']",
   "id": "a515c2f91c70ff1",
   "outputs": [],
   "execution_count": 24
  },
  {
   "metadata": {
    "ExecuteTime": {
     "end_time": "2025-07-16T20:38:59.446906400Z",
     "start_time": "2025-07-16T20:15:25.655184Z"
    }
   },
   "cell_type": "code",
   "source": "df_scaled.columns",
   "id": "74e27a722dcf5d7",
   "outputs": [
    {
     "data": {
      "text/plain": [
       "Index(['iob mean', 'cob mean', 'bg mean', 'bg min', 'iob max', 'cob max',\n",
       "       'bg max', 'day_type_weekday', 'day_type_weekend',\n",
       "       'iob mean_rate_of_change', 'cob mean_rate_of_change',\n",
       "       'bg mean_rate_of_change', 'iob mean hourly_mean',\n",
       "       'cob mean hourly_mean', 'bg mean hourly_mean',\n",
       "       'bg max_peaks_above_mean', 'iob max_peaks_above_mean',\n",
       "       'cob max_peaks_above_mean', 'hour_of_day', 'hour_sin', 'hour_cos',\n",
       "       'l1_hypo', 'l1_hyper', 'l2_hypo', 'l2_hyper', 'excursion_amplitude',\n",
       "       'excursion_flag', 'cob_peaks'],\n",
       "      dtype='object')"
      ]
     },
     "execution_count": 25,
     "metadata": {},
     "output_type": "execute_result"
    }
   ],
   "execution_count": 25
  }
 ],
 "metadata": {
  "kernelspec": {
   "display_name": "Python 3",
   "language": "python",
   "name": "python3"
  },
  "language_info": {
   "codemirror_mode": {
    "name": "ipython",
    "version": 2
   },
   "file_extension": ".py",
   "mimetype": "text/x-python",
   "name": "python",
   "nbconvert_exporter": "python",
   "pygments_lexer": "ipython2",
   "version": "2.7.6"
  }
 },
 "nbformat": 4,
 "nbformat_minor": 5
}
