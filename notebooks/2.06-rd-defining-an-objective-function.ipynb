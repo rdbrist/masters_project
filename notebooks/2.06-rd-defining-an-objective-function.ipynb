{
 "cells": [
  {
   "metadata": {},
   "cell_type": "markdown",
   "source": [
    "# 2.06 - Defining an Objective Function\n",
    "This workbook takes us through the formulation of an objective function to help indicate the 'goodness' of a night, in terms of glycaemic control, where the night is defined as the period between 22:00 and 06:00 the following day. To recap, the following measures have been studied and will contribute as components to the objective function. These are recorded at each 30 minutes interval in our dataset:\n",
    "- Blood Glucose Mean\n",
    "- Blood Glucose Standard Deviation\n",
    "- Coefficient of Variation\n",
    "- Intervals Outside Level 1 Target Range\n",
    "- Intervals Outside Level 2 Target Range\n",
    "- Amplitude of Glycaemic Variability (absolute value above 1 SD from the mean)\n",
    "- Peaks of Carbohydrate Intake\n",
    "\n",
    "The goal is still to produce a continuous variable where the score indicates the quality of the night, encompassing the physiological impact observed through glycaemic metrics and carbohydrate intake, with a higher score indicating greater disturbance.\n",
    "\n",
    "## Method - Overview of Objective Function Components\n",
    "\n",
    "For each night (22:00 to 06:00), the 30-minutes intervals are aggregated data for the following metrics:\n",
    "- Blood Glucose Mean (BG_Mean_Night): The average of all 30-minute BG means throughout the night. A higher average BG suggests potential discomfort or dysregulation.\n",
    "- Blood Glucose Standard Deviation (BG_SD_Night): The average of all 30-minute BG standard deviations (or the overall standard deviation of all BG readings during the night). High variability can indicate instability and potential physiological stress.\n",
    "- NOTE: The Law of Total Variance for Aggregated Data (for which we have at the 30 minute intervals, from the original irregular time series provides a more statistically robust measure of variability than the simple average of standard deviations):\n",
    "  - $\\text{Var}(X) = E[\\text{Var}(X|Y)] + \\text{Var}(E[X|Y])$\n",
    "  - This means that the variance of the aggregated data is the sum of the expected variance within each group and the variance of the group means. The theoretical formula for the overall standard deviation of the aggregated data is as follows:\n",
    "Let $X$ be the original, high-frequency blood glucose readings.\n",
    "Let $Y$ represent the 30-minute time intervals (or groups).\n",
    "Let $g_i$ be the blood glucose mean for interval $i$.\n",
    "Let $s_i$ be the blood glucose for interval $i$.\n",
    "Let $s_i^2$ be the variance within interval $i$ (which is $s_i$ squared).\n",
    "Let $n_i$ be the number of original readings that were aggregated into interval $i$.\n",
    "Leading to the formula for variance:\n",
    "\n",
    "$\\text{Var}_{overall} = \\frac{\\sum_{i=1}^K n_i \\cdot s_i^2}{\\sum_{i=1}^K} + \\frac{\\sum_{i=1}^K n_i \\cdot (g_i-\\bar G)^2}{\\sum_{i=1}^K n_i}$\n",
    "\n",
    "And standard deviation:\n",
    "$\\sigma_{overall} = \\sqrt{\\text{Var}_{overall}}$\n",
    "\n",
    "Where:\n",
    "- $K$ is the total number of 30-minute intervals in the night.\n",
    "- $\\bar G$ is the overall mean of all blood glucose readings during the night.\n",
    "\n",
    "- Coefficient of Variation (CV_Night): The average of the 30-minute Coefficient of Variation values. This normalizes variability to the mean, providing a robust measure of relative glucose fluctuations, which can be disturbing.\n",
    "- Intervals Outside Level 1 Target Range (L1_Excursions_Night): The sum or count of 30-minute intervals where a Level 1 (clinically defined) excursion occurred. These indicate deviations from a generally acceptable range, potentially causing discomfort or impacting restorative processes.\n",
    "- Intervals Outside Level 2 Target Range (L2_Excursions_Night): The sum or count of 30-minute intervals where a Level 2 (more severe) excursion occurred. These represent more significant deviations, very likely disruptive.\n",
    "- Mean Amplitude of Glycaemic Variability (MAGE): The sum or average of the absolute amplitude values (above 1 SD from the mean). These capture significant, rapid swings in glucose, which are often associated with physiological stress or symptoms that could disturb sleep, even if within clinical thresholds. If the dataset is very sparse for this, consider summing non-zero amplitudes or taking the maximum amplitude for the night to highlight the presence of any large swings.\n",
    "- Peaks of Carbohydrate Intake (COB_Peaks): The count of peaks of COB for the night.\n",
    "\n",
    "## Objective Function Definition\n",
    "Let the following notation be used:\n",
    "- $G_t$:Blood glucose reading at time t.\n",
    "- $T$: Total number of time intervals in the observed period.\n",
    "- $N$: The set of all glucose readings during the nocturnal period, $\\{G_1, G_2, ..., G_T\\}$.\n",
    "- $G_{L1\\_lower}$: Lower threshold for Level 1 excursion.\n",
    "- $G_{L1\\_upper}$: Upper threshold for Level 1 excursion.\n",
    "- $G_{L2\\_lower}$: Lower threshold for Level 2 excursion.\n",
    "- $G_{L2\\_upper}$: Upper threshold for Level 2 excursion.\n",
    "\n",
    "All features are scaled using `Standard Scaler` to ensure they contribute equally to the objective function. The scaling is done using the mean and standard deviation of each feature across all nights:\n",
    "\n",
    "$X_{scaled} = \\frac{X - \\mu_X}{\\sigma_X}$\n",
    "\n",
    "Where $X$ is the original feature value, $\\mu_X$ is the mean of the feature across all nights, and $\\sigma_X$ is the standard deviation of the feature across all nights.\n",
    "\n",
    "1. Minimising Variance Using Standard Deviation\n",
    "\n",
    "$\\mu_G = \\frac{1}{T} \\sum_{t=1}^{T} G_t$ is the mean of the glucose readings during the nocturnal period, thus the standard deviation is calculated as $\\sigma_G = \\sqrt{\\frac{1}{T} \\sum_{t=1}^{T} (G_t - \\mu_G)^2}$.\n",
    "\n",
    "3. Minimising Glycaemic Variability Using Coefficient of Variation\n",
    "\n",
    "Standard deviation is a measure of variability, but it does not account for the mean level of glucose. The Coefficient of Variation (CV) is defined as $CV = \\frac{\\sigma_G}{\\mu_G}$, which normalises the standard deviation by the mean glucose level, providing a relative measure of variability.\n",
    "\n",
    "4. Minimising Excursions Outside Target Ranges\n",
    "\n",
    "The ranges used here provide a clinically relevant context for evaluating glucose levels. The Level 1 excursion is defined as $G_{L1\\_lower} \\leq G_t \\leq G_{L1\\_upper}$, and the Level 2 excursion is defined as $G_{L2\\_lower} \\leq G_t \\leq G_{L2\\_upper}$. The number of intervals outside these ranges can be counted as follows:\n",
    "- $L1\\_Excursions = \\sum_{t=1}^{T} \\mathbb{1}_{G_t < G_{L1\\_lower} \\lor G_t > G_{L1\\_upper}}$\n",
    "- $L2\\_Excursions = \\sum_{t=1}^{T} \\mathbb{1}_{G_t < G_{L2\\_lower} \\lor G_t > G_{L2\\_upper}}$\n",
    "\n",
    "5. Minimising Amplitude of Glycaemic Variability\n",
    "\n",
    "....\n",
    "\n",
    "6. Minimising Peaks of Carbohydrate Intake\n",
    "\n",
    "Carbohydrate intake is a significant factor in glucose regulation. Peaks of carbohydrate intake can be counted as the number of times the carbohydrate intake exceeds a certain threshold during the nocturnal period. This can be defined as:\n",
    "- $COB\\_Peaks = \\sum_{t=1}^{T} \\mathbb{1}_{COB_t > COB\\_threshold}$, where $COB_t$ is the carbohydrate intake at time t.\n",
    "No carbohydrate height parameter is set as any peak is considered an indicator that the person is awake and eating, which is not ideal for a good night.\n",
    "\n",
    "The objective function $J$ can be defined as a weighted sum of these components, $f$ be a features used in the objective function from the set $\\{f_1, f_2, \\dots , f_k\\}$ and $w_k$ be a weight applied to the feature:\n",
    "\n",
    "$J = \\frac{\\sum_{k=1}^K w_k \\cdot f_k}{K}$\n"
   ],
   "id": "86d0c4ec991dab16"
  },
  {
   "metadata": {
    "ExecuteTime": {
     "end_time": "2025-07-17T21:43:01.677592Z",
     "start_time": "2025-07-17T21:43:01.597290Z"
    }
   },
   "cell_type": "code",
   "source": [
    "%load_ext autoreload\n",
    "%autoreload 2\n",
    "\n",
    "from src.nights import Nights, consolidate_df_from_nights\n",
    "from datetime import time\n",
    "import pandas as pd\n",
    "from src.config import PROCESSED_DATA_DIR\n",
    "from src.features import FeatureSet"
   ],
   "id": "431fa4376e5c2b1e",
   "outputs": [
    {
     "name": "stdout",
     "output_type": "stream",
     "text": [
      "The autoreload extension is already loaded. To reload it, use:\n",
      "  %reload_ext autoreload\n"
     ]
    }
   ],
   "execution_count": 12
  },
  {
   "metadata": {
    "ExecuteTime": {
     "end_time": "2025-07-17T21:43:06.340456Z",
     "start_time": "2025-07-17T21:43:01.685077Z"
    }
   },
   "cell_type": "code",
   "source": [
    "df_all = pd.read_parquet(PROCESSED_DATA_DIR / 'night_clusters.parquet')\n",
    "df_all['time'] = df_all.index.get_level_values('datetime').time\n",
    "\n",
    "sample_rate = 30\n",
    "nights_objects = []\n",
    "\n",
    "night_start = time(22, 0)\n",
    "morning_end = time(6, 0)\n",
    "\n",
    "for zip_id, df_ind in df_all.groupby('id'):\n",
    "    df_ind_reset = df_ind.reset_index(level='id', drop=True)\n",
    "    nights_objects.append(\n",
    "        Nights(df=df_ind_reset, zip_id=zip_id, night_start=night_start,\n",
    "               morning_end=morning_end, sample_rate=sample_rate))\n",
    "\n",
    "df_overnight = consolidate_df_from_nights(nights_objects)"
   ],
   "id": "1dd46a92662387ba",
   "outputs": [],
   "execution_count": 13
  },
  {
   "metadata": {
    "ExecuteTime": {
     "end_time": "2025-07-17T21:43:08.585148Z",
     "start_time": "2025-07-17T21:43:06.376477Z"
    }
   },
   "cell_type": "code",
   "source": [
    "features = FeatureSet(df_overnight, sample_rate=sample_rate)\n",
    "df_features = features.get_all_features(scale=False)"
   ],
   "id": "1a389b2145321883",
   "outputs": [],
   "execution_count": 14
  },
  {
   "metadata": {
    "ExecuteTime": {
     "end_time": "2025-07-17T21:43:10.399480Z",
     "start_time": "2025-07-17T21:43:08.644801Z"
    }
   },
   "cell_type": "code",
   "source": [
    "features_scaled = FeatureSet(df_overnight, sample_rate=sample_rate)\n",
    "df_scaled = features_scaled.get_all_features(scale=True)"
   ],
   "id": "53ece8f16f0380df",
   "outputs": [
    {
     "name": "stdout",
     "output_type": "stream",
     "text": [
      "Scaling ['iob mean', 'cob mean', 'bg mean', 'bg min', 'iob max', 'cob max', 'bg max', 'bg std', 'bg count', 'day_type_weekday', 'day_type_weekend', 'iob mean_rate_of_change', 'cob mean_rate_of_change', 'bg mean_rate_of_change', 'iob mean hourly_mean', 'cob mean hourly_mean', 'bg mean hourly_mean', 'bg max_peaks_above_mean', 'iob max_peaks_above_mean', 'cob max_peaks_above_mean', 'hour_of_day', 'hour_sin', 'hour_cos', 'l1_hypo', 'l1_hyper', 'l2_hypo', 'l2_hyper', 'excursion_amplitude', 'excursion_flag', 'cob_peaks'] columns\n"
     ]
    }
   ],
   "execution_count": 15
  },
  {
   "metadata": {
    "ExecuteTime": {
     "end_time": "2025-07-17T21:43:10.505012Z",
     "start_time": "2025-07-17T21:43:10.430629Z"
    }
   },
   "cell_type": "code",
   "source": "feature_cols = ['bg mean', 'l1_hypo', 'l1_hyper', 'l2_hypo', 'l2_hyper', 'excursion_amplitude', 'excursion_flag', 'cob_peaks']",
   "id": "a515c2f91c70ff1",
   "outputs": [],
   "execution_count": 16
  },
  {
   "metadata": {
    "ExecuteTime": {
     "end_time": "2025-07-17T21:43:10.656167Z",
     "start_time": "2025-07-17T21:43:10.575795Z"
    }
   },
   "cell_type": "code",
   "source": "df_scaled.columns",
   "id": "74e27a722dcf5d7",
   "outputs": [
    {
     "data": {
      "text/plain": [
       "Index(['iob mean', 'cob mean', 'bg mean', 'bg min', 'iob max', 'cob max',\n",
       "       'bg max', 'bg std', 'bg count', 'day_type_weekday', 'day_type_weekend',\n",
       "       'iob mean_rate_of_change', 'cob mean_rate_of_change',\n",
       "       'bg mean_rate_of_change', 'iob mean hourly_mean',\n",
       "       'cob mean hourly_mean', 'bg mean hourly_mean',\n",
       "       'bg max_peaks_above_mean', 'iob max_peaks_above_mean',\n",
       "       'cob max_peaks_above_mean', 'hour_of_day', 'hour_sin', 'hour_cos',\n",
       "       'l1_hypo', 'l1_hyper', 'l2_hypo', 'l2_hyper', 'excursion_amplitude',\n",
       "       'excursion_flag', 'cob_peaks', 'night_start_date', 'cluster'],\n",
       "      dtype='object')"
      ]
     },
     "execution_count": 17,
     "metadata": {},
     "output_type": "execute_result"
    }
   ],
   "execution_count": 17
  },
  {
   "metadata": {},
   "cell_type": "markdown",
   "source": "Now we have the set of features at a time interval level, we need to aggregate them at a night level, which is",
   "id": "6f2fa2ece62f0f45"
  },
  {
   "metadata": {
    "ExecuteTime": {
     "end_time": "2025-07-17T21:45:16.432227Z",
     "start_time": "2025-07-17T21:45:14.384737Z"
    }
   },
   "cell_type": "code",
   "source": [
    "from src.objective_function import ObjectiveFunction\n",
    "obj_func = ObjectiveFunction(df_overnight, sample_rate=sample_rate)"
   ],
   "id": "cf5df19a2a22ec36",
   "outputs": [],
   "execution_count": 22
  },
  {
   "metadata": {
    "ExecuteTime": {
     "end_time": "2025-07-17T21:45:20.125781Z",
     "start_time": "2025-07-17T21:45:16.984918Z"
    }
   },
   "cell_type": "code",
   "source": "features = obj_func.aggregate_features()",
   "id": "7ec392e4ba27e1a0",
   "outputs": [],
   "execution_count": 23
  },
  {
   "metadata": {
    "ExecuteTime": {
     "end_time": "2025-07-17T21:45:20.920744Z",
     "start_time": "2025-07-17T21:45:20.840761Z"
    }
   },
   "cell_type": "code",
   "source": "scaled = obj_func.scale_features()",
   "id": "1251297595fe220a",
   "outputs": [],
   "execution_count": 24
  },
  {
   "metadata": {
    "ExecuteTime": {
     "end_time": "2025-07-17T21:45:27.176577Z",
     "start_time": "2025-07-17T21:45:27.060591Z"
    }
   },
   "cell_type": "code",
   "source": "scaled",
   "id": "495a188e11f98cec",
   "outputs": [
    {
     "data": {
      "text/plain": [
       "array([[ 0.21609028,  0.11886728,  0.23464814, ..., -0.36806778,\n",
       "        -0.00430508, -0.52547966],\n",
       "       [-0.59204031, -0.44178981, -0.52318083, ..., -0.36806778,\n",
       "        -1.94420737, -0.52547966],\n",
       "       [ 0.16815308, -0.01530752,  0.25980251, ..., -0.36806778,\n",
       "        -0.05726763, -0.52547966],\n",
       "       ...,\n",
       "       [-0.22878275,  1.19611346, -0.72003578, ..., -0.36806778,\n",
       "        -0.47613622, -0.52547966],\n",
       "       [ 1.1211605 ,  2.01343765,  0.19340405, ...,  1.80382655,\n",
       "         2.31159563,  2.86257802],\n",
       "       [-0.07100272,  2.31402789, -0.86468816, ...,  0.17490581,\n",
       "         0.15540244, -0.52547966]], shape=(922, 7))"
      ]
     },
     "execution_count": 25,
     "metadata": {},
     "output_type": "execute_result"
    }
   ],
   "execution_count": 25
  },
  {
   "metadata": {
    "ExecuteTime": {
     "end_time": "2025-07-17T21:51:31.678176Z",
     "start_time": "2025-07-17T21:51:31.544582Z"
    }
   },
   "cell_type": "code",
   "source": "obj_func.get_objective_function_scores()",
   "id": "234127a99eabb443",
   "outputs": [
    {
     "data": {
      "text/plain": [
       "                                  0\n",
       "id       night_start_date          \n",
       "15558575 2018-04-17       -0.094272\n",
       "         2018-04-21       -0.750455\n",
       "         2018-04-22       -0.199512\n",
       "         2018-04-27        0.351134\n",
       "         2018-04-30        0.287384\n",
       "...                             ...\n",
       "97417885 2018-02-09        1.539295\n",
       "         2018-02-10        0.141781\n",
       "         2018-02-11       -0.170095\n",
       "         2018-02-16        1.688289\n",
       "         2018-02-17        0.610782\n",
       "\n",
       "[922 rows x 1 columns]"
      ],
      "text/html": [
       "<div>\n",
       "<style scoped>\n",
       "    .dataframe tbody tr th:only-of-type {\n",
       "        vertical-align: middle;\n",
       "    }\n",
       "\n",
       "    .dataframe tbody tr th {\n",
       "        vertical-align: top;\n",
       "    }\n",
       "\n",
       "    .dataframe thead th {\n",
       "        text-align: right;\n",
       "    }\n",
       "</style>\n",
       "<table border=\"1\" class=\"dataframe\">\n",
       "  <thead>\n",
       "    <tr style=\"text-align: right;\">\n",
       "      <th></th>\n",
       "      <th></th>\n",
       "      <th>0</th>\n",
       "    </tr>\n",
       "    <tr>\n",
       "      <th>id</th>\n",
       "      <th>night_start_date</th>\n",
       "      <th></th>\n",
       "    </tr>\n",
       "  </thead>\n",
       "  <tbody>\n",
       "    <tr>\n",
       "      <th rowspan=\"5\" valign=\"top\">15558575</th>\n",
       "      <th>2018-04-17</th>\n",
       "      <td>-0.094272</td>\n",
       "    </tr>\n",
       "    <tr>\n",
       "      <th>2018-04-21</th>\n",
       "      <td>-0.750455</td>\n",
       "    </tr>\n",
       "    <tr>\n",
       "      <th>2018-04-22</th>\n",
       "      <td>-0.199512</td>\n",
       "    </tr>\n",
       "    <tr>\n",
       "      <th>2018-04-27</th>\n",
       "      <td>0.351134</td>\n",
       "    </tr>\n",
       "    <tr>\n",
       "      <th>2018-04-30</th>\n",
       "      <td>0.287384</td>\n",
       "    </tr>\n",
       "    <tr>\n",
       "      <th>...</th>\n",
       "      <th>...</th>\n",
       "      <td>...</td>\n",
       "    </tr>\n",
       "    <tr>\n",
       "      <th rowspan=\"5\" valign=\"top\">97417885</th>\n",
       "      <th>2018-02-09</th>\n",
       "      <td>1.539295</td>\n",
       "    </tr>\n",
       "    <tr>\n",
       "      <th>2018-02-10</th>\n",
       "      <td>0.141781</td>\n",
       "    </tr>\n",
       "    <tr>\n",
       "      <th>2018-02-11</th>\n",
       "      <td>-0.170095</td>\n",
       "    </tr>\n",
       "    <tr>\n",
       "      <th>2018-02-16</th>\n",
       "      <td>1.688289</td>\n",
       "    </tr>\n",
       "    <tr>\n",
       "      <th>2018-02-17</th>\n",
       "      <td>0.610782</td>\n",
       "    </tr>\n",
       "  </tbody>\n",
       "</table>\n",
       "<p>922 rows × 1 columns</p>\n",
       "</div>"
      ]
     },
     "execution_count": 26,
     "metadata": {},
     "output_type": "execute_result"
    }
   ],
   "execution_count": 26
  }
 ],
 "metadata": {
  "kernelspec": {
   "display_name": "Python 3",
   "language": "python",
   "name": "python3"
  },
  "language_info": {
   "codemirror_mode": {
    "name": "ipython",
    "version": 2
   },
   "file_extension": ".py",
   "mimetype": "text/x-python",
   "name": "python",
   "nbconvert_exporter": "python",
   "pygments_lexer": "ipython2",
   "version": "2.7.6"
  }
 },
 "nbformat": 4,
 "nbformat_minor": 5
}
