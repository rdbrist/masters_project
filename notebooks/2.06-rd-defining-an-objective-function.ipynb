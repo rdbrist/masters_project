{
 "cells": [
  {
   "metadata": {},
   "cell_type": "markdown",
   "source": [
    "# 2.06 - Defining an Objective Function\n",
    "This workbook takes us through the formulation of an objective function to help indicate the 'goodness' of a night, in terms of glycaemic control, where the night is defined as the period between 22:00 and 06:00 the following day. To recap, the following measures have been studied and will contribute as components to the objective function. These are recorded at each 30 minutes interval in our dataset:\n",
    "- Blood Glucose Mean\n",
    "- Blood Glucose Standard Deviation\n",
    "- Coefficient of Variation\n",
    "- Intervals Outside Level 1 Target Range\n",
    "- Intervals Outside Level 2 Target Range\n",
    "- Amplitude of Glycaemic Variability (absolute value above 1 SD from the mean)\n",
    "- Peaks of Carbohydrate Intake"
   ],
   "id": "86d0c4ec991dab16"
  },
  {
   "metadata": {},
   "cell_type": "code",
   "outputs": [],
   "execution_count": null,
   "source": "",
   "id": "431fa4376e5c2b1e"
  }
 ],
 "metadata": {
  "kernelspec": {
   "display_name": "Python 3",
   "language": "python",
   "name": "python3"
  },
  "language_info": {
   "codemirror_mode": {
    "name": "ipython",
    "version": 2
   },
   "file_extension": ".py",
   "mimetype": "text/x-python",
   "name": "python",
   "nbconvert_exporter": "python",
   "pygments_lexer": "ipython2",
   "version": "2.7.6"
  }
 },
 "nbformat": 4,
 "nbformat_minor": 5
}
