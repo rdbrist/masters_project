{
 "cells": [
  {
   "metadata": {},
   "cell_type": "markdown",
   "source": [
    "# Latest dataset exploration - n=131\n",
    "This notebook focuses on the implementation of the Cob class, which encompasses the analysis developed as part of the initial exploration of 15min sampled data as the output of Isabella Dagen's insulin-need project preprocessing. It uses the Cob class from cob_analysis.py to analyse the data and create peak features to investigate the existence of diurnal patterns in the data."
   ],
   "id": "fbccc4ff6f7e9a9e"
  },
  {
   "metadata": {
    "ExecuteTime": {
     "end_time": "2025-05-12T19:36:46.576590Z",
     "start_time": "2025-05-12T19:36:46.423056Z"
    }
   },
   "cell_type": "code",
   "source": [
    "%load_ext autoreload\n",
    "%autoreload 2\n",
    "\n",
    "import pandas as pd\n",
    "import numpy as np\n",
    "from src.cob_analysis import Cob\n",
    "from src.config import INTERIM_DATA_DIR"
   ],
   "id": "6d3f0dc63e6ae581",
   "outputs": [
    {
     "name": "stdout",
     "output_type": "stream",
     "text": [
      "The autoreload extension is already loaded. To reload it, use:\n",
      "  %reload_ext autoreload\n"
     ]
    }
   ],
   "execution_count": 15
  },
  {
   "metadata": {
    "ExecuteTime": {
     "end_time": "2025-05-12T10:08:03.422588Z",
     "start_time": "2025-05-12T10:07:58.748534Z"
    }
   },
   "cell_type": "code",
   "source": [
    "# Previous preprocessing - 15 min sampled data based on earlier limited dataset\n",
    "cob = Cob()\n",
    "cob.read_interim_data(file_name='15min_iob_cob_bg',\n",
    "                      file_type='csv',\n",
    "                      sampling_rate=15)"
   ],
   "id": "3df49e5d4a441822",
   "outputs": [
    {
     "name": "stdout",
     "output_type": "stream",
     "text": [
      "Number of records: 599360\n",
      "Number of people: 116\n",
      "Systems used: ['OpenAPS']\n",
      "Categories (1, object): ['OpenAPS']\n"
     ]
    }
   ],
   "execution_count": 12
  },
  {
   "metadata": {
    "ExecuteTime": {
     "end_time": "2025-05-12T19:37:09.967099Z",
     "start_time": "2025-05-12T19:36:49.897462Z"
    }
   },
   "cell_type": "code",
   "source": [
    "# Produce a similar 15min resampled dataset from the new interim consolidated data\n",
    "\n",
    "df = pd.read_parquet(INTERIM_DATA_DIR / 'device_status_tz_naive_df.parquet')\n",
    "df.info()"
   ],
   "id": "35e6b87b55e37e44",
   "outputs": [
    {
     "name": "stdout",
     "output_type": "stream",
     "text": [
      "<class 'pandas.core.frame.DataFrame'>\n",
      "RangeIndex: 14845706 entries, 0 to 14845705\n",
      "Data columns (total 33 columns):\n",
      " #   Column                            Dtype         \n",
      "---  ------                            -----         \n",
      " 0   system                            object        \n",
      " 1   id                                string        \n",
      " 2   created_at                        datetime64[ns]\n",
      " 3   openaps/iob/iob                   Float32       \n",
      " 4   openaps/iob/activity              object        \n",
      " 5   openaps/iob/basaliob              object        \n",
      " 6   pump/clock                        datetime64[ns]\n",
      " 7   pump/status/timestamp             datetime64[ns]\n",
      " 8   pump/status/status                object        \n",
      " 9   device                            object        \n",
      " 10  bg                                Float32       \n",
      " 11  openaps/enacted/reason            object        \n",
      " 12  iob                               Float32       \n",
      " 13  openaps/enacted/rate              Float32       \n",
      " 14  cob                               Float32       \n",
      " 15  datetime                          datetime64[ns]\n",
      " 16  openaps/enacted/eventualBG        Float32       \n",
      " 17  openaps/enacted/duration          Float32       \n",
      " 18  openaps/enacted/sensitivityRatio  Float32       \n",
      " 19  openaps/enacted/insulinReq        object        \n",
      " 20  openaps/enacted/deliverAt         datetime64[ns]\n",
      " 21  openaps/enacted/units             object        \n",
      " 22  openaps/iob/timestamp             datetime64[ns]\n",
      " 23  openaps/iob/netbasalinsulin       Float32       \n",
      " 24  pump/status/bolusing              object        \n",
      " 25  pump/status/suspended             object        \n",
      " 26  openaps/iob/bolusinsulin          Float64       \n",
      " 27  openaps/iob/lastBolusTime         datetime64[ns]\n",
      " 28  openaps/iob/lastTemp/rate         Float32       \n",
      " 29  pump/iob/timestamp                datetime64[ns]\n",
      " 30  openaps/iob/microBolusInsulin     Float32       \n",
      " 31  openaps/enacted/minPredBG         Float32       \n",
      " 32  pump/iob/iob                      object        \n",
      "dtypes: Float32(12), Float64(1), datetime64[ns](8), object(11), string(1)\n",
      "memory usage: 3.2+ GB\n"
     ]
    }
   ],
   "execution_count": 16
  }
 ],
 "metadata": {
  "kernelspec": {
   "name": "python3",
   "language": "python",
   "display_name": "Python 3 (ipykernel)"
  }
 },
 "nbformat": 5,
 "nbformat_minor": 9
}
