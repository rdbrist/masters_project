{
 "cells": [
  {
   "metadata": {},
   "cell_type": "markdown",
   "source": [
    "# Latest dataset exploration - n=131\n",
    "This notebook focuses on the implementation of the Cob class, which encompasses the analysis developed as part of the initial exploration of 15min sampled data as the output of Isabella Dagen's insulin-need project preprocessing. It uses the Cob class from cob_analysis.py to analyse the data and create peak features to investigate the existence of diurnal patterns in the data."
   ],
   "id": "fbccc4ff6f7e9a9e"
  },
  {
   "metadata": {
    "ExecuteTime": {
     "end_time": "2025-05-11T20:41:01.250847Z",
     "start_time": "2025-05-11T20:40:55.971912Z"
    }
   },
   "cell_type": "code",
   "source": [
    "%load_ext autoreload\n",
    "%autoreload 2\n",
    "\n",
    "import pandas as pd\n",
    "import numpy as np\n",
    "from src.cob_analysis import Cob\n",
    "\n"
   ],
   "id": "6d3f0dc63e6ae581",
   "outputs": [
    {
     "name": "stderr",
     "output_type": "stream",
     "text": [
      "\u001B[32m2025-05-11 21:40:57.817\u001B[0m | \u001B[1mINFO    \u001B[0m | \u001B[36msrc.config\u001B[0m:\u001B[36m<module>\u001B[0m:\u001B[36m11\u001B[0m - \u001B[1mPROJ_ROOT path is: C:\\Users\\ross\\OneDrive\\Documents\\Masters\\Project\\masters_project\u001B[0m\n"
     ]
    }
   ],
   "execution_count": 1
  },
  {
   "metadata": {
    "ExecuteTime": {
     "end_time": "2025-05-12T10:08:03.422588Z",
     "start_time": "2025-05-12T10:07:58.748534Z"
    }
   },
   "cell_type": "code",
   "source": [
    "# Previous preprocessing - 15 min sampled data based on earlier limited dataset\n",
    "cob = Cob()\n",
    "cob.read_interim_data(file_name='15min_iob_cob_bg',\n",
    "                      file_type='csv',\n",
    "                      sampling_rate=15)"
   ],
   "id": "3df49e5d4a441822",
   "outputs": [
    {
     "name": "stdout",
     "output_type": "stream",
     "text": [
      "Number of records: 599360\n",
      "Number of people: 116\n",
      "Systems used: ['OpenAPS']\n",
      "Categories (1, object): ['OpenAPS']\n"
     ]
    }
   ],
   "execution_count": 12
  }
 ],
 "metadata": {
  "kernelspec": {
   "name": "python3",
   "language": "python",
   "display_name": "Python 3 (ipykernel)"
  }
 },
 "nbformat": 5,
 "nbformat_minor": 9
}
