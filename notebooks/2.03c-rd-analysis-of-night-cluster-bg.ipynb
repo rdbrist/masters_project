{
 "cells": [
  {
   "metadata": {},
   "cell_type": "markdown",
   "source": [
    "# 2.03c - Analysis of Night Clusters and BG\n",
    "This notebook is used to analyse the night clusters and look for indications of BG control during the night.\n"
   ],
   "id": "fa51df5ed324f747"
  },
  {
   "cell_type": "code",
   "id": "initial_id",
   "metadata": {
    "collapsed": true,
    "ExecuteTime": {
     "end_time": "2025-07-06T19:32:35.696093Z",
     "start_time": "2025-07-06T19:32:17.325311Z"
    }
   },
   "source": [
    "from IPython.core.pylabtools import figsize\n",
    "%load_ext autoreload\n",
    "%autoreload 2\n",
    "\n",
    "import pandas as pd\n",
    "import seaborn as sns\n",
    "import matplotlib.pyplot as plt\n",
    "import numpy as np\n",
    "from dtw import dtw\n",
    "from datetime import time\n",
    "from scipy.stats import ttest_ind\n",
    "\n",
    "from src.nights import Nights, consolidate_df_from_nights\n",
    "from src.sample_filter import SampleFilter\n",
    "from src.configurations import ThirtyMinute\n",
    "from src.night_clustering import NightClustering\n",
    "from src.dba import get_dba_and_variance\n",
    "from src.reliationship_modelling import AnalyseRelationships"
   ],
   "outputs": [
    {
     "name": "stderr",
     "output_type": "stream",
     "text": [
      "\u001B[32m2025-07-06 20:32:19.203\u001B[0m | \u001B[1mINFO    \u001B[0m | \u001B[36msrc.config\u001B[0m:\u001B[36m<module>\u001B[0m:\u001B[36m11\u001B[0m - \u001B[1mPROJ_ROOT path is: C:\\Users\\ross\\OneDrive\\Documents\\Masters\\Project\\masters_project\u001B[0m\n"
     ]
    }
   ],
   "execution_count": 1
  },
  {
   "metadata": {
    "ExecuteTime": {
     "end_time": "2025-07-06T21:15:52.173436Z",
     "start_time": "2025-07-06T21:13:58.728541Z"
    }
   },
   "cell_type": "code",
   "source": [
    "night_start = time(17, 0)\n",
    "morning_end = time(11, 0)\n",
    "sampling = ThirtyMinute()\n",
    "min_nights = 30\n",
    "missed_intervals = 1\n",
    "max_break_run = 1\n",
    "cob_nan_min = 0.2\n",
    "iob_nan_min = 0.05\n",
    "bg_nan_min = 0.2\n",
    "sample_long = SampleFilter(\n",
    "    night_start=night_start,\n",
    "    morning_end=morning_end,\n",
    "    sampling=sampling,\n",
    "    missed_intervals=missed_intervals,\n",
    "    max_break_run= max_break_run,\n",
    "    min_nights=min_nights,\n",
    "    cob_nan_min=cob_nan_min,\n",
    "    iob_nan_min=iob_nan_min,\n",
    "    bg_nan_min=bg_nan_min\n",
    ")\n",
    "\n",
    "df = sample_long.get_consolidated_df()\n",
    "df[['cob mean', 'cob min', 'cob max']] = df.groupby('id')[['cob mean', 'cob min', 'cob max']].transform(lambda x: x.interpolate(method='linear'))\n",
    "df_variables = df[['bg mean', 'bg min', 'bg max', 'iob mean', 'iob max', 'cob mean', 'cob max']].copy().astype(float)\n",
    "analyser = NightClustering(df=df_variables, feature_settings='custom', night_start_hour=night_start.hour)\n",
    "analyser.extract_night_level_features(multi_threaded=False)\n",
    "analyser.preprocess_night_features(n_components=2)\n",
    "cluster_range = range(2,8)\n",
    "kwargs = {'perplexity': 10, 'max_iter': 80000}\n",
    "analyser.fit_tsne(**kwargs)\n",
    "analyser.clustering_tsne(n_clusters=4)\n",
    "\n",
    "df_all = analyser.return_dataset_with_clusters()\n",
    "df_all = df_all[['night_start_date', 'bg mean', 'bg min', 'bg max', 'iob mean', 'iob max', 'cob mean', 'cob max', 'tsne_cluster_label']].rename(columns={'tsne_cluster_label': 'cluster'})\n",
    "df_all['bg_min_excursion'] = df_all['bg min'].apply(lambda x: (x - bg_min) if x < bg_min else np.nan)\n",
    "df_all['bg_max_excursion'] = df_all['bg max'].apply(lambda x: (x - bg_max) if x > bg_max else np.nan)\n",
    "df_all['bg_excursion'] = df_all[['bg_min_excursion', 'bg_max_excursion']].apply(lambda x: x['bg_min_excursion'] if pd.notna(x['bg_min_excursion']) else x['bg_max_excursion'], axis=1)\n",
    "df_all['bg_excursion_type'] = df_all['bg_excursion'].apply(lambda x: 'IBR' if x < 0 else 'IAR' if x > 0 else np.nan)\n",
    "\n",
    "night_start = time(22, 0)\n",
    "morning_end = time(6, 0)\n",
    "sample_rate = 30\n",
    "nights_objects = []\n",
    "for zip_id, df_ind in df_all.groupby('id'):\n",
    "    df_ind_reset = df_ind.reset_index(level='id', drop=True)\n",
    "    nights_objects.append(\n",
    "        Nights(df=df_ind_reset, zip_id=zip_id, night_start=night_start,\n",
    "               morning_end=morning_end, sample_rate=sample_rate))\n",
    "\n",
    "df_overnight = consolidate_df_from_nights(nights_objects)"
   ],
   "id": "8e144848d0286b23",
   "outputs": [
    {
     "name": "stdout",
     "output_type": "stream",
     "text": [
      "\u001B[32m2025-07-06 22:14:16.033\u001B[0m | \u001B[1mINFO    \u001B[0m | \u001B[36msrc.nights\u001B[0m:\u001B[36m_calculate_overall_stats\u001B[0m:\u001B[36m158\u001B[0m - \u001B[1mNo stats per night have been calculated for 67167655. Returning no output.\u001B[0m\n",
      "Number of nights objects created: 83\n"
     ]
    },
    {
     "name": "stderr",
     "output_type": "stream",
     "text": [
      "Feature Extraction:   1%|          | 38/6454 [00:00<00:16, 379.63it/s]C:\\.env\\master_project\\Lib\\site-packages\\tsfresh\\feature_extraction\\feature_calculators.py:1753: RuntimeWarning: divide by zero encountered in log\n",
      "  return -np.log(A / B)\n",
      "Feature Extraction:  10%|▉         | 620/6454 [00:00<00:08, 712.80it/s]C:\\.env\\master_project\\Lib\\site-packages\\tsfresh\\feature_extraction\\feature_calculators.py:1753: RuntimeWarning: divide by zero encountered in log\n",
      "  return -np.log(A / B)\n",
      "C:\\.env\\master_project\\Lib\\site-packages\\tsfresh\\feature_extraction\\feature_calculators.py:1753: RuntimeWarning: divide by zero encountered in log\n",
      "  return -np.log(A / B)\n",
      "Feature Extraction:  11%|█         | 695/6454 [00:01<00:08, 718.93it/s]C:\\.env\\master_project\\Lib\\site-packages\\tsfresh\\feature_extraction\\feature_calculators.py:1753: RuntimeWarning: divide by zero encountered in log\n",
      "  return -np.log(A / B)\n",
      "C:\\.env\\master_project\\Lib\\site-packages\\tsfresh\\feature_extraction\\feature_calculators.py:1753: RuntimeWarning: divide by zero encountered in log\n",
      "  return -np.log(A / B)\n",
      "Feature Extraction:  12%|█▏        | 767/6454 [00:01<00:08, 686.95it/s]C:\\.env\\master_project\\Lib\\site-packages\\tsfresh\\feature_extraction\\feature_calculators.py:1753: RuntimeWarning: divide by zero encountered in log\n",
      "  return -np.log(A / B)\n",
      "Feature Extraction:  13%|█▎        | 836/6454 [00:01<00:08, 658.37it/s]C:\\.env\\master_project\\Lib\\site-packages\\tsfresh\\feature_extraction\\feature_calculators.py:1753: RuntimeWarning: divide by zero encountered in log\n",
      "  return -np.log(A / B)\n",
      "Feature Extraction:  22%|██▏       | 1424/6454 [00:01<00:05, 841.01it/s]C:\\.env\\master_project\\Lib\\site-packages\\tsfresh\\feature_extraction\\feature_calculators.py:1753: RuntimeWarning: divide by zero encountered in log\n",
      "  return -np.log(A / B)\n",
      "Feature Extraction:  23%|██▎       | 1509/6454 [00:02<00:06, 819.14it/s]C:\\.env\\master_project\\Lib\\site-packages\\tsfresh\\feature_extraction\\feature_calculators.py:1753: RuntimeWarning: divide by zero encountered in log\n",
      "  return -np.log(A / B)\n",
      "Feature Extraction:  26%|██▌       | 1677/6454 [00:02<00:05, 798.42it/s]C:\\.env\\master_project\\Lib\\site-packages\\tsfresh\\feature_extraction\\feature_calculators.py:1753: RuntimeWarning: divide by zero encountered in log\n",
      "  return -np.log(A / B)\n",
      "Feature Extraction:  29%|██▊       | 1848/6454 [00:02<00:05, 824.70it/s]C:\\.env\\master_project\\Lib\\site-packages\\tsfresh\\feature_extraction\\feature_calculators.py:1753: RuntimeWarning: divide by zero encountered in log\n",
      "  return -np.log(A / B)\n",
      "C:\\.env\\master_project\\Lib\\site-packages\\tsfresh\\feature_extraction\\feature_calculators.py:1753: RuntimeWarning: divide by zero encountered in log\n",
      "  return -np.log(A / B)\n",
      "Feature Extraction:  31%|███▏      | 2022/6454 [00:02<00:05, 810.98it/s]C:\\.env\\master_project\\Lib\\site-packages\\tsfresh\\feature_extraction\\feature_calculators.py:1753: RuntimeWarning: divide by zero encountered in log\n",
      "  return -np.log(A / B)\n",
      "C:\\.env\\master_project\\Lib\\site-packages\\tsfresh\\feature_extraction\\feature_calculators.py:1753: RuntimeWarning: divide by zero encountered in log\n",
      "  return -np.log(A / B)\n",
      "Feature Extraction:  33%|███▎      | 2108/6454 [00:02<00:05, 824.91it/s]C:\\.env\\master_project\\Lib\\site-packages\\tsfresh\\feature_extraction\\feature_calculators.py:1753: RuntimeWarning: divide by zero encountered in log\n",
      "  return -np.log(A / B)\n",
      "C:\\.env\\master_project\\Lib\\site-packages\\tsfresh\\feature_extraction\\feature_calculators.py:1753: RuntimeWarning: divide by zero encountered in log\n",
      "  return -np.log(A / B)\n",
      "Feature Extraction:  34%|███▍      | 2191/6454 [00:02<00:05, 810.94it/s]C:\\.env\\master_project\\Lib\\site-packages\\tsfresh\\feature_extraction\\feature_calculators.py:1753: RuntimeWarning: divide by zero encountered in log\n",
      "  return -np.log(A / B)\n",
      "C:\\.env\\master_project\\Lib\\site-packages\\tsfresh\\feature_extraction\\feature_calculators.py:1753: RuntimeWarning: divide by zero encountered in log\n",
      "  return -np.log(A / B)\n",
      "C:\\.env\\master_project\\Lib\\site-packages\\tsfresh\\feature_extraction\\feature_calculators.py:1753: RuntimeWarning: divide by zero encountered in log\n",
      "  return -np.log(A / B)\n",
      "Feature Extraction:  35%|███▌      | 2273/6454 [00:03<00:06, 690.98it/s]C:\\.env\\master_project\\Lib\\site-packages\\tsfresh\\feature_extraction\\feature_calculators.py:1753: RuntimeWarning: divide by zero encountered in log\n",
      "  return -np.log(A / B)\n",
      "Feature Extraction:  36%|███▋      | 2346/6454 [00:03<00:06, 660.24it/s]C:\\.env\\master_project\\Lib\\site-packages\\tsfresh\\feature_extraction\\feature_calculators.py:1753: RuntimeWarning: divide by zero encountered in log\n",
      "  return -np.log(A / B)\n",
      "C:\\.env\\master_project\\Lib\\site-packages\\tsfresh\\feature_extraction\\feature_calculators.py:1753: RuntimeWarning: divide by zero encountered in log\n",
      "  return -np.log(A / B)\n",
      "C:\\.env\\master_project\\Lib\\site-packages\\tsfresh\\feature_extraction\\feature_calculators.py:1753: RuntimeWarning: divide by zero encountered in log\n",
      "  return -np.log(A / B)\n",
      "Feature Extraction:  38%|███▊      | 2482/6454 [00:03<00:07, 565.01it/s]C:\\.env\\master_project\\Lib\\site-packages\\tsfresh\\feature_extraction\\feature_calculators.py:1753: RuntimeWarning: divide by zero encountered in log\n",
      "  return -np.log(A / B)\n",
      "Feature Extraction:  40%|████      | 2596/6454 [00:03<00:08, 452.79it/s]C:\\.env\\master_project\\Lib\\site-packages\\tsfresh\\feature_extraction\\feature_calculators.py:1753: RuntimeWarning: divide by zero encountered in log\n",
      "  return -np.log(A / B)\n",
      "Feature Extraction:  41%|████      | 2644/6454 [00:03<00:09, 413.41it/s]C:\\.env\\master_project\\Lib\\site-packages\\tsfresh\\feature_extraction\\feature_calculators.py:1753: RuntimeWarning: divide by zero encountered in log\n",
      "  return -np.log(A / B)\n",
      "Feature Extraction:  42%|████▏     | 2687/6454 [00:04<00:09, 407.06it/s]C:\\.env\\master_project\\Lib\\site-packages\\tsfresh\\feature_extraction\\feature_calculators.py:1753: RuntimeWarning: divide by zero encountered in log\n",
      "  return -np.log(A / B)\n",
      "Feature Extraction:  42%|████▏     | 2729/6454 [00:04<00:09, 384.25it/s]C:\\.env\\master_project\\Lib\\site-packages\\tsfresh\\feature_extraction\\feature_calculators.py:1753: RuntimeWarning: divide by zero encountered in log\n",
      "  return -np.log(A / B)\n",
      "Feature Extraction:  43%|████▎     | 2769/6454 [00:04<00:09, 369.27it/s]C:\\.env\\master_project\\Lib\\site-packages\\tsfresh\\feature_extraction\\feature_calculators.py:1753: RuntimeWarning: divide by zero encountered in log\n",
      "  return -np.log(A / B)\n",
      "Feature Extraction:  46%|████▌     | 2956/6454 [00:04<00:09, 356.19it/s]C:\\.env\\master_project\\Lib\\site-packages\\tsfresh\\feature_extraction\\feature_calculators.py:1753: RuntimeWarning: divide by zero encountered in log\n",
      "  return -np.log(A / B)\n",
      "Feature Extraction:  50%|█████     | 3236/6454 [00:05<00:06, 505.12it/s]C:\\.env\\master_project\\Lib\\site-packages\\tsfresh\\feature_extraction\\feature_calculators.py:1753: RuntimeWarning: divide by zero encountered in log\n",
      "  return -np.log(A / B)\n",
      "Feature Extraction:  51%|█████▏    | 3311/6454 [00:05<00:05, 576.30it/s]C:\\.env\\master_project\\Lib\\site-packages\\tsfresh\\feature_extraction\\feature_calculators.py:1753: RuntimeWarning: divide by zero encountered in log\n",
      "  return -np.log(A / B)\n",
      "Feature Extraction:  54%|█████▎    | 3453/6454 [00:05<00:04, 640.33it/s]C:\\.env\\master_project\\Lib\\site-packages\\tsfresh\\feature_extraction\\feature_calculators.py:1753: RuntimeWarning: divide by zero encountered in log\n",
      "  return -np.log(A / B)\n",
      "Feature Extraction:  60%|██████    | 3890/6454 [00:06<00:03, 829.64it/s]C:\\.env\\master_project\\Lib\\site-packages\\tsfresh\\feature_extraction\\feature_calculators.py:1753: RuntimeWarning: divide by zero encountered in log\n",
      "  return -np.log(A / B)\n",
      "Feature Extraction:  63%|██████▎   | 4069/6454 [00:06<00:02, 852.38it/s]C:\\.env\\master_project\\Lib\\site-packages\\tsfresh\\feature_extraction\\feature_calculators.py:1753: RuntimeWarning: divide by zero encountered in log\n",
      "  return -np.log(A / B)\n",
      "Feature Extraction:  66%|██████▌   | 4240/6454 [00:06<00:02, 828.22it/s]C:\\.env\\master_project\\Lib\\site-packages\\tsfresh\\feature_extraction\\feature_calculators.py:1753: RuntimeWarning: divide by zero encountered in log\n",
      "  return -np.log(A / B)\n",
      "C:\\.env\\master_project\\Lib\\site-packages\\tsfresh\\feature_extraction\\feature_calculators.py:1753: RuntimeWarning: divide by zero encountered in log\n",
      "  return -np.log(A / B)\n",
      "Feature Extraction:  76%|███████▌  | 4894/6454 [00:07<00:01, 784.41it/s]C:\\.env\\master_project\\Lib\\site-packages\\tsfresh\\feature_extraction\\feature_calculators.py:1753: RuntimeWarning: divide by zero encountered in log\n",
      "  return -np.log(A / B)\n",
      "Feature Extraction:  77%|███████▋  | 4973/6454 [00:07<00:01, 775.34it/s]C:\\.env\\master_project\\Lib\\site-packages\\tsfresh\\feature_extraction\\feature_calculators.py:1753: RuntimeWarning: divide by zero encountered in log\n",
      "  return -np.log(A / B)\n",
      "C:\\.env\\master_project\\Lib\\site-packages\\tsfresh\\feature_extraction\\feature_calculators.py:1753: RuntimeWarning: divide by zero encountered in log\n",
      "  return -np.log(A / B)\n",
      "C:\\.env\\master_project\\Lib\\site-packages\\tsfresh\\feature_extraction\\feature_calculators.py:1753: RuntimeWarning: divide by zero encountered in log\n",
      "  return -np.log(A / B)\n",
      "Feature Extraction:  78%|███████▊  | 5051/6454 [00:07<00:01, 759.13it/s]C:\\.env\\master_project\\Lib\\site-packages\\tsfresh\\feature_extraction\\feature_calculators.py:1753: RuntimeWarning: divide by zero encountered in log\n",
      "  return -np.log(A / B)\n",
      "C:\\.env\\master_project\\Lib\\site-packages\\tsfresh\\feature_extraction\\feature_calculators.py:1753: RuntimeWarning: divide by zero encountered in log\n",
      "  return -np.log(A / B)\n",
      "Feature Extraction:  79%|███████▉  | 5129/6454 [00:07<00:01, 761.20it/s]C:\\.env\\master_project\\Lib\\site-packages\\tsfresh\\feature_extraction\\feature_calculators.py:1753: RuntimeWarning: divide by zero encountered in log\n",
      "  return -np.log(A / B)\n",
      "C:\\.env\\master_project\\Lib\\site-packages\\tsfresh\\feature_extraction\\feature_calculators.py:1753: RuntimeWarning: divide by zero encountered in log\n",
      "  return -np.log(A / B)\n",
      "Feature Extraction:  81%|████████  | 5206/6454 [00:07<00:01, 715.49it/s]C:\\.env\\master_project\\Lib\\site-packages\\tsfresh\\feature_extraction\\feature_calculators.py:1753: RuntimeWarning: divide by zero encountered in log\n",
      "  return -np.log(A / B)\n",
      "Feature Extraction:  86%|████████▋ | 5581/6454 [00:08<00:01, 732.75it/s]C:\\.env\\master_project\\Lib\\site-packages\\tsfresh\\feature_extraction\\feature_calculators.py:1753: RuntimeWarning: divide by zero encountered in log\n",
      "  return -np.log(A / B)\n",
      "C:\\.env\\master_project\\Lib\\site-packages\\tsfresh\\feature_extraction\\feature_calculators.py:1753: RuntimeWarning: divide by zero encountered in log\n",
      "  return -np.log(A / B)\n",
      "Feature Extraction:  88%|████████▊ | 5655/6454 [00:08<00:01, 718.66it/s]C:\\.env\\master_project\\Lib\\site-packages\\tsfresh\\feature_extraction\\feature_calculators.py:1753: RuntimeWarning: divide by zero encountered in log\n",
      "  return -np.log(A / B)\n",
      "Feature Extraction:  89%|████████▉ | 5728/6454 [00:08<00:01, 713.21it/s]C:\\.env\\master_project\\Lib\\site-packages\\tsfresh\\feature_extraction\\feature_calculators.py:1753: RuntimeWarning: divide by zero encountered in log\n",
      "  return -np.log(A / B)\n",
      "Feature Extraction:  90%|████████▉ | 5805/6454 [00:08<00:00, 714.51it/s]C:\\.env\\master_project\\Lib\\site-packages\\tsfresh\\feature_extraction\\feature_calculators.py:1753: RuntimeWarning: divide by zero encountered in log\n",
      "  return -np.log(A / B)\n",
      "Feature Extraction:  91%|█████████▏| 5894/6454 [00:08<00:00, 764.75it/s]C:\\.env\\master_project\\Lib\\site-packages\\tsfresh\\feature_extraction\\feature_calculators.py:1753: RuntimeWarning: divide by zero encountered in log\n",
      "  return -np.log(A / B)\n",
      "Feature Extraction:  94%|█████████▎| 6041/6454 [00:09<00:00, 654.95it/s]C:\\.env\\master_project\\Lib\\site-packages\\tsfresh\\feature_extraction\\feature_calculators.py:1753: RuntimeWarning: divide by zero encountered in log\n",
      "  return -np.log(A / B)\n",
      "C:\\.env\\master_project\\Lib\\site-packages\\tsfresh\\feature_extraction\\feature_calculators.py:1753: RuntimeWarning: divide by zero encountered in log\n",
      "  return -np.log(A / B)\n",
      "C:\\.env\\master_project\\Lib\\site-packages\\tsfresh\\feature_extraction\\feature_calculators.py:1753: RuntimeWarning: divide by zero encountered in log\n",
      "  return -np.log(A / B)\n",
      "C:\\.env\\master_project\\Lib\\site-packages\\tsfresh\\feature_extraction\\feature_calculators.py:1753: RuntimeWarning: divide by zero encountered in log\n",
      "  return -np.log(A / B)\n",
      "C:\\.env\\master_project\\Lib\\site-packages\\tsfresh\\feature_extraction\\feature_calculators.py:1753: RuntimeWarning: divide by zero encountered in log\n",
      "  return -np.log(A / B)\n",
      "C:\\.env\\master_project\\Lib\\site-packages\\tsfresh\\feature_extraction\\feature_calculators.py:1753: RuntimeWarning: divide by zero encountered in log\n",
      "  return -np.log(A / B)\n",
      "Feature Extraction:  95%|█████████▍| 6113/6454 [00:09<00:00, 671.89it/s]C:\\.env\\master_project\\Lib\\site-packages\\tsfresh\\feature_extraction\\feature_calculators.py:1753: RuntimeWarning: divide by zero encountered in log\n",
      "  return -np.log(A / B)\n",
      "Feature Extraction:  96%|█████████▌| 6183/6454 [00:09<00:00, 676.91it/s]C:\\.env\\master_project\\Lib\\site-packages\\tsfresh\\feature_extraction\\feature_calculators.py:1753: RuntimeWarning: divide by zero encountered in log\n",
      "  return -np.log(A / B)\n",
      "Feature Extraction: 100%|██████████| 6454/6454 [00:09<00:00, 666.19it/s]\n"
     ]
    },
    {
     "name": "stdout",
     "output_type": "stream",
     "text": [
      "Extracted 78 features for 922 nights.\n",
      "Preprocessing night-level features (scaling and PCA)...\n",
      "Dropped features from scaling: {'iob max__count_above__t_100', 'cob mean__minimum', 'cob max__minimum'}\n",
      "PCA reduced dimensions from 75 to 2.\n"
     ]
    }
   ],
   "execution_count": 27
  },
  {
   "metadata": {},
   "cell_type": "markdown",
   "source": [
    "We'll first look to see if there is any prevalence of BG excursions in the night clusters. Sleep is considered key to maintaining optimal cardiovascular and metabolic health. The relationship between sleep and glyaecemic control is complex and bi-directional. The effects of disrupted sleep on glucose control \\cite{Farabi2016} and - conversely - impact of diabetes treatment on sleep \\cite{Brod2013} have been studied but require more research. For instance, studies have associated the rapid decline in blood glucose over short periods with awakenings from sleep \\cite{Pillar2003}, but little is known about causation.\n",
    "\n",
    "By studying the amount of excursions outside a target glucose range, we can get an idea as to the frequency and extent of these excursions. Based on the assumptions given by other research, such excursions may infer - by association - some form of disturbance of sleep. Setting accurate thresholds is not possible when generalising over individuals. Time in range is a good indicator of BG control, but the definition of the ideal range is highly individual. For adults in the UK for a target range is between 3.9–10 mmol/l (or 3.5–7.8 mmol/l during pregnancy). We do not have data on whether our patients are in gestation to adjust the target accordingly and therefore assume a consistent 3.9-10 mmol/l (70-180 mg/dL) concentration range as a general guideline, but this would normally be adjusted for individual needs.\n",
    "\n",
    "The period we will consider studying once more is the 22:00-06:00 period as defining an arbitrary 'nocturnal' period. This is a period where we would expect the patient to be asleep and therefore not consuming food or taking insulin. Given our intervals are at 30 minutes we cannot accurately measure TOR, but we can look at intervals outside the target range, as well as the level of excursion above or below the target. At each interval we can focus on the BG min and max values at each interval which will have captured the peaks and troughs without smoothing these values, especially if short-lived. We know the OpenAPS system effectively manages BG in patients, so we would expect to see a lower number of excursions in the night clusters compared to the day clusters."
   ],
   "id": "5e23852b6aaad112"
  },
  {
   "metadata": {
    "ExecuteTime": {
     "end_time": "2025-07-06T21:24:07.372075Z",
     "start_time": "2025-07-06T21:24:05.848408Z"
    }
   },
   "cell_type": "code",
   "source": [
    "bg_min = 70\n",
    "bg_max = 180\n",
    "\n",
    "\n",
    "fig, axes = plt.subplots(figsize=(10, 4), ncols=2)\n",
    "fig.suptitle('BG Excursion Counts by Cluster', fontsize=16)\n",
    "df_all_excursion_summary = df_all.groupby(['cluster', 'bg_excursion_type'])['bg_excursion'].count().reset_index()\n",
    "df_overnight_excursion_summary = df_overnight.groupby(['cluster', 'bg_excursion_type'])['bg_excursion'].count().reset_index()\n",
    "y_max = df_all_excursion_summary['bg_excursion'].max()\n",
    "sns.barplot(df_all_excursion_summary, x='cluster', y='bg_excursion', hue='bg_excursion_type', dodge=False, ax=axes[0], legend=False)\n",
    "axes[0].set_title('Between 17:00 and 11:00')\n",
    "axes[0].set_xlabel('Cluster')\n",
    "axes[0].set_ylabel('Count of Excursions')\n",
    "axes[0].set_ylim(0, y_max * 1.1)\n",
    "\n",
    "sns.barplot(df_overnight_excursion_summary, x='cluster', y='bg_excursion', hue='bg_excursion_type', dodge=False, ax=axes[1])\n",
    "axes[1].set_title('Between 22:00 and 06:00')\n",
    "axes[1].set_xlabel('Cluster')\n",
    "axes[1].set_ylabel(None)\n",
    "axes[1].set_ylim(0, y_max * 1.1)\n",
    "\n",
    "axes[1].legend(title='Excursion Type')\n",
    "plt.show()\n"
   ],
   "id": "5a7773f58fcb900e",
   "outputs": [
    {
     "data": {
      "text/plain": [
       "<Figure size 1000x400 with 2 Axes>"
      ],
      "image/png": "[encoded data removed]"
     },
     "metadata": {},
     "output_type": "display_data"
    }
   ],
   "execution_count": 39
  },
  {
   "metadata": {
    "ExecuteTime": {
     "end_time": "2025-07-06T21:06:39.674826Z",
     "start_time": "2025-07-06T21:06:39.374334Z"
    }
   },
   "cell_type": "code",
   "source": "df_excursion_summary",
   "id": "26d60d4b3577519e",
   "outputs": [
    {
     "data": {
      "text/plain": [
       "cluster  bg_excursion_type\n",
       "0        IAR                   823\n",
       "         IBR                   338\n",
       "1        IAR                  3035\n",
       "         IBR                   156\n",
       "2        IAR                  1003\n",
       "         IBR                   202\n",
       "3        IAR                  1149\n",
       "         IBR                   490\n",
       "Name: bg_excursion, dtype: int64"
      ]
     },
     "execution_count": 21,
     "metadata": {},
     "output_type": "execute_result"
    }
   ],
   "execution_count": 21
  }
 ],
 "metadata": {
  "kernelspec": {
   "display_name": "Python 3",
   "language": "python",
   "name": "python3"
  },
  "language_info": {
   "codemirror_mode": {
    "name": "ipython",
    "version": 2
   },
   "file_extension": ".py",
   "mimetype": "text/x-python",
   "name": "python",
   "nbconvert_exporter": "python",
   "pygments_lexer": "ipython2",
   "version": "2.7.6"
  }
 },
 "nbformat": 4,
 "nbformat_minor": 5
}
