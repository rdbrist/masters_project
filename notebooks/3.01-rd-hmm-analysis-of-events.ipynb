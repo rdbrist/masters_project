{
 "cells": [
  {
   "metadata": {},
   "cell_type": "markdown",
   "source": "",
   "id": "c76f42db847b48de"
  },
  {
   "metadata": {
    "ExecuteTime": {
     "end_time": "2025-06-20T13:43:45.499510Z",
     "start_time": "2025-06-20T13:43:04.602098Z"
    }
   },
   "cell_type": "code",
   "source": [
    "%load_ext autoreload\n",
    "%autoreload 2\n",
    "\n",
    "import pandas as pd\n",
    "from src.configurations import Configuration\n",
    "from src.hmm import HMMEventDetector\n",
    "from src.features import FeatureSet\n",
    "from src.helper import load_final_filtered_csv\n",
    "from src.night_analysis import NightAnalyser"
   ],
   "id": "2de3ebde2273d3ea",
   "outputs": [
    {
     "name": "stderr",
     "output_type": "stream",
     "text": [
      "\u001B[32m2025-06-20 14:43:12.237\u001B[0m | \u001B[1mINFO    \u001B[0m | \u001B[36msrc.config\u001B[0m:\u001B[36m<module>\u001B[0m:\u001B[36m11\u001B[0m - \u001B[1mPROJ_ROOT path is: C:\\Users\\ross\\OneDrive\\Documents\\Masters\\Project\\masters_project\u001B[0m\n"
     ]
    }
   ],
   "execution_count": 1
  },
  {
   "cell_type": "code",
   "id": "75bc56ec5b113a91",
   "metadata": {
    "ExecuteTime": {
     "end_time": "2025-06-20T13:43:55.087190Z",
     "start_time": "2025-06-20T13:43:45.506079Z"
    }
   },
   "source": [
    "config = Configuration()\n",
    "df = load_final_filtered_csv(config, interpolate_cob=True)\n",
    "night_level_features = ['iob mean', 'cob mean', 'bg mean',\n",
    "                        'iob max', 'cob max']\n",
    "analyser = NightAnalyser(df=df[night_level_features],\n",
    "                         feature_settings='custom')\n",
    "analyser.extract_night_level_features(night_start_hour=17)\n",
    "analyser.preprocess_night_features(n_components=2)\n",
    "analyser.cluster_nights(print_clusters=False, plot_2d=False)"
   ],
   "outputs": [
    {
     "name": "stdout",
     "output_type": "stream",
     "text": [
      "['iob mean', 'cob mean', 'bg mean', 'iob max', 'cob max']\n",
      "Extracting night-level features using NoneType settings...\n"
     ]
    },
    {
     "name": "stderr",
     "output_type": "stream",
     "text": [
      "C:\\Users\\ross\\OneDrive\\Documents\\Masters\\Project\\masters_project\\src\\night_analysis.py:148: PerformanceWarning: Adding/subtracting object-dtype array to TimedeltaArray not vectorized.\n",
      "  night_start_date = temp_df['datetime'].dt.date - pd.to_timedelta((hour < night_start_hour).astype(int), unit='D')\n",
      "Feature Extraction: 100%|██████████| 30/30 [00:05<00:00,  5.89it/s]\n"
     ]
    },
    {
     "name": "stdout",
     "output_type": "stream",
     "text": [
      "Extracted 68 features for 236 nights.\n",
      "Preprocessing night-level features (scaling and PCA)...\n",
      "PCA reduced dimensions from 65 to 2.\n",
      "Clustering nights into 3 clusters...\n"
     ]
    },
    {
     "data": {
      "text/plain": [
       "array([0, 1, 1, 1, 2, 1, 2, 2, 2, 2, 2, 2, 1, 2, 1, 1, 1, 1, 1, 2, 2, 2,\n",
       "       1, 2, 2, 2, 2, 2, 2, 2, 2, 2, 1, 2, 1, 2, 1, 1, 1, 1, 2, 2, 1, 2,\n",
       "       1, 1, 1, 2, 2, 1, 2, 1, 2, 2, 2, 2, 2, 2, 2, 2, 1, 1, 2, 2, 2, 2,\n",
       "       1, 2, 1, 1, 1, 2, 1, 1, 2, 2, 0, 0, 0, 0, 0, 1, 0, 0, 2, 0, 0, 0,\n",
       "       0, 0, 0, 0, 0, 0, 0, 0, 0, 0, 0, 0, 0, 0, 0, 0, 0, 0, 0, 0, 0, 1,\n",
       "       0, 1, 1, 2, 1, 1, 1, 1, 2, 1, 1, 1, 1, 1, 1, 1, 1, 1, 1, 2, 1, 1,\n",
       "       1, 1, 2, 1, 1, 1, 1, 1, 1, 1, 1, 1, 1, 1, 1, 1, 2, 1, 1, 1, 1, 1,\n",
       "       1, 1, 1, 1, 1, 1, 0, 1, 1, 1, 1, 1, 1, 1, 1, 1, 1, 1, 1, 1, 1, 1,\n",
       "       1, 1, 2, 1, 1, 1, 1, 1, 1, 1, 1, 1, 1, 1, 1, 1, 1, 1, 1, 1, 1, 1,\n",
       "       1, 1, 1, 1, 1, 1, 1, 1, 1, 1, 1, 1, 1, 1, 1, 1, 1, 1, 1, 1, 1, 1,\n",
       "       1, 1, 1, 1, 1, 1, 1, 1, 1, 1, 1, 1, 1, 1, 1, 1], dtype=int32)"
      ]
     },
     "execution_count": 2,
     "metadata": {},
     "output_type": "execute_result"
    }
   ],
   "execution_count": 2
  },
  {
   "metadata": {
    "ExecuteTime": {
     "end_time": "2025-06-20T13:43:56.231047Z",
     "start_time": "2025-06-20T13:43:56.107516Z"
    }
   },
   "cell_type": "code",
   "source": [
    "features = FeatureSet(df=df, sample_rate=30)\n",
    "df = features.get_all_features()\n",
    "df = analyser.return_dataset_with_clusters(df[analyser.])  # Add the night cluster labels to the df\n",
    "mean_cols = ['iob mean','cob mean','bg mean']\n",
    "print()"
   ],
   "id": "6dcc6fd0087e12ac",
   "outputs": [
    {
     "name": "stdout",
     "output_type": "stream",
     "text": [
      "Scaling ['iob mean', 'cob mean', 'bg mean', 'iob min', 'cob min', 'bg min', 'iob max', 'cob max', 'bg max', 'day_type_weekday', 'day_type_weekend', 'iob mean_rate_of_change', 'cob mean_rate_of_change', 'bg mean_rate_of_change', 'iob mean hourly_mean', 'cob mean hourly_mean', 'bg mean hourly_mean', 'iob max_peaks_above_mean', 'cob max_peaks_above_mean', 'bg max_peaks_above_mean', 'hour_of_day', 'hour_sin', 'hour_cos'] columns\n"
     ]
    }
   ],
   "execution_count": 3
  },
  {
   "metadata": {
    "collapsed": true,
    "ExecuteTime": {
     "end_time": "2025-06-20T14:03:32.219190Z",
     "start_time": "2025-06-20T14:03:29.317602Z"
    }
   },
   "cell_type": "code",
   "source": [
    "# --- HMM Event Detection ---\n",
    "print(\"\\n--- HMM Event Detection Example ---\")\n",
    "hmm_detector = HMMEventDetector(df, features.get_all_feature_columns(),\n",
    "                                 original_var_cols=mean_cols,)\n",
    "hmm_detector.train_model(n_components=3)\n",
    "\n",
    "# Visualize for a specific individual\n",
    "some_individual_id = df.index.get_level_values('id').unique()[0]\n",
    "print(some_individual_id)\n",
    "hmm_detector.visualize_individual_events(some_individual_id)\n",
    "\n",
    "# Visualize for a specific night cluster (e.g., cluster 0)\n",
    "some_cluster_label = df['cluster_label'].unique()[0]\n",
    "hmm_detector.visualize_cluster_events(some_cluster_label)"
   ],
   "id": "initial_id",
   "outputs": [
    {
     "name": "stdout",
     "output_type": "stream",
     "text": [
      "\n",
      "--- HMM Event Detection Example ---\n",
      "Warning: NaN values found in feature column 'iob mean_rate_of_change'. Filling with 0. Consider proper imputation if required.\n",
      "Warning: NaN values found in feature column 'cob mean_rate_of_change'. Filling with 0. Consider proper imputation if required.\n",
      "Warning: NaN values found in feature column 'bg mean_rate_of_change'. Filling with 0. Consider proper imputation if required.\n",
      "Training HMM with 3 components...\n",
      "[[0.27005727 0.         0.6233895  ... 0.7826087  0.         0.46410162]\n",
      " [0.28513173 0.325      0.60220994 ... 0.7826087  0.         0.46410162]\n",
      " [0.37255441 0.29583333 0.61740331 ... 0.82608696 0.01703709 0.60280232]\n",
      " ...\n",
      " [0.13713631 0.         0.29005525 ... 0.39130435 0.85355339 0.08516423]\n",
      " [0.1347079  0.         0.28176796 ... 0.43478261 0.75       0.        ]\n",
      " [0.12962199 0.         0.23314917 ... 0.43478261 0.75       0.        ]]\n",
      "HMM training complete.\n",
      "Learned Transition Matrix:\n",
      " [[0.75710255 0.20238755 0.04050989]\n",
      " [0.38543127 0.5603491  0.05421963]\n",
      " [0.04104796 0.20336366 0.75558838]]\n",
      "\n",
      "Learned Means of States:\n",
      " [[-0.39559881 -0.49300821 -0.2050724  -0.36591334 -0.39387076 -0.18307524\n",
      "  -0.40979945 -0.53087579 -0.2221468  -0.04920434  0.04920434  0.09959875\n",
      "   0.2186694   0.09887857 -0.32558327 -0.41440257 -0.18123331 -0.3653366\n",
      "  -0.31933761 -0.34325869 -0.16152865  0.30662867 -0.24579985]\n",
      " [-0.09874175 -0.03985154  0.24429463 -0.11360002 -0.13823169  0.22127872\n",
      "  -0.08680692  0.04356733  0.26140073  0.02536896 -0.02536896 -0.23722495\n",
      "  -0.41147909 -0.21597974 -0.15452438 -0.01777693  0.37422892  0.40013557\n",
      "   0.27276861  0.49329896  0.11269198 -0.30801829  0.21548438]\n",
      " [ 1.51712765  1.72415838  0.19503779  1.44785336  1.59040472  0.16773519\n",
      "   1.54060478  1.68349643  0.2177496   0.11334047 -0.11334047  0.14261177\n",
      "   0.09423752  0.10249063  1.39524723  1.41779156 -0.14454505  0.41766503\n",
      "   0.51916933  0.15755506  0.31320928 -0.40622575  0.38854632]]\n",
      "\n",
      "Learned Covariances of States:\n",
      " [[[1.21390456e-01 0.00000000e+00 0.00000000e+00 ... 0.00000000e+00\n",
      "   0.00000000e+00 0.00000000e+00]\n",
      "  [0.00000000e+00 2.46932372e-06 0.00000000e+00 ... 0.00000000e+00\n",
      "   0.00000000e+00 0.00000000e+00]\n",
      "  [0.00000000e+00 0.00000000e+00 7.60580479e-01 ... 0.00000000e+00\n",
      "   0.00000000e+00 0.00000000e+00]\n",
      "  ...\n",
      "  [0.00000000e+00 0.00000000e+00 0.00000000e+00 ... 7.51631244e-01\n",
      "   0.00000000e+00 0.00000000e+00]\n",
      "  [0.00000000e+00 0.00000000e+00 0.00000000e+00 ... 0.00000000e+00\n",
      "   8.78468256e-01 0.00000000e+00]\n",
      "  [0.00000000e+00 0.00000000e+00 0.00000000e+00 ... 0.00000000e+00\n",
      "   0.00000000e+00 1.05496987e+00]]\n",
      "\n",
      " [[1.74673954e-01 0.00000000e+00 0.00000000e+00 ... 0.00000000e+00\n",
      "   0.00000000e+00 0.00000000e+00]\n",
      "  [0.00000000e+00 2.69523804e-01 0.00000000e+00 ... 0.00000000e+00\n",
      "   0.00000000e+00 0.00000000e+00]\n",
      "  [0.00000000e+00 0.00000000e+00 1.08766123e+00 ... 0.00000000e+00\n",
      "   0.00000000e+00 0.00000000e+00]\n",
      "  ...\n",
      "  [0.00000000e+00 0.00000000e+00 0.00000000e+00 ... 1.17089554e+00\n",
      "   0.00000000e+00 0.00000000e+00]\n",
      "  [0.00000000e+00 0.00000000e+00 0.00000000e+00 ... 0.00000000e+00\n",
      "   9.53612474e-01 0.00000000e+00]\n",
      "  [0.00000000e+00 0.00000000e+00 0.00000000e+00 ... 0.00000000e+00\n",
      "   0.00000000e+00 8.34069021e-01]]\n",
      "\n",
      " [[2.73931051e+00 0.00000000e+00 0.00000000e+00 ... 0.00000000e+00\n",
      "   0.00000000e+00 0.00000000e+00]\n",
      "  [0.00000000e+00 2.01092535e+00 0.00000000e+00 ... 0.00000000e+00\n",
      "   0.00000000e+00 0.00000000e+00]\n",
      "  [0.00000000e+00 0.00000000e+00 1.32537154e+00 ... 0.00000000e+00\n",
      "   0.00000000e+00 0.00000000e+00]\n",
      "  ...\n",
      "  [0.00000000e+00 0.00000000e+00 0.00000000e+00 ... 1.27584097e+00\n",
      "   0.00000000e+00 0.00000000e+00]\n",
      "  [0.00000000e+00 0.00000000e+00 0.00000000e+00 ... 0.00000000e+00\n",
      "   8.29714638e-01 0.00000000e+00]\n",
      "  [0.00000000e+00 0.00000000e+00 0.00000000e+00 ... 0.00000000e+00\n",
      "   0.00000000e+00 7.03369374e-01]]]\n",
      "41131654\n"
     ]
    },
    {
     "ename": "KeyError",
     "evalue": "'id'",
     "output_type": "error",
     "traceback": [
      "\u001B[31m---------------------------------------------------------------------------\u001B[39m",
      "\u001B[31mKeyError\u001B[39m                                  Traceback (most recent call last)",
      "\u001B[36mFile \u001B[39m\u001B[32mC:\\.env\\master_project\\Lib\\site-packages\\pandas\\core\\indexes\\base.py:3805\u001B[39m, in \u001B[36mIndex.get_loc\u001B[39m\u001B[34m(self, key)\u001B[39m\n\u001B[32m   3804\u001B[39m \u001B[38;5;28;01mtry\u001B[39;00m:\n\u001B[32m-> \u001B[39m\u001B[32m3805\u001B[39m     \u001B[38;5;28;01mreturn\u001B[39;00m \u001B[38;5;28;43mself\u001B[39;49m\u001B[43m.\u001B[49m\u001B[43m_engine\u001B[49m\u001B[43m.\u001B[49m\u001B[43mget_loc\u001B[49m\u001B[43m(\u001B[49m\u001B[43mcasted_key\u001B[49m\u001B[43m)\u001B[49m\n\u001B[32m   3806\u001B[39m \u001B[38;5;28;01mexcept\u001B[39;00m \u001B[38;5;167;01mKeyError\u001B[39;00m \u001B[38;5;28;01mas\u001B[39;00m err:\n",
      "\u001B[36mFile \u001B[39m\u001B[32mindex.pyx:167\u001B[39m, in \u001B[36mpandas._libs.index.IndexEngine.get_loc\u001B[39m\u001B[34m()\u001B[39m\n",
      "\u001B[36mFile \u001B[39m\u001B[32mindex.pyx:196\u001B[39m, in \u001B[36mpandas._libs.index.IndexEngine.get_loc\u001B[39m\u001B[34m()\u001B[39m\n",
      "\u001B[36mFile \u001B[39m\u001B[32mpandas\\\\_libs\\\\hashtable_class_helper.pxi:7081\u001B[39m, in \u001B[36mpandas._libs.hashtable.PyObjectHashTable.get_item\u001B[39m\u001B[34m()\u001B[39m\n",
      "\u001B[36mFile \u001B[39m\u001B[32mpandas\\\\_libs\\\\hashtable_class_helper.pxi:7089\u001B[39m, in \u001B[36mpandas._libs.hashtable.PyObjectHashTable.get_item\u001B[39m\u001B[34m()\u001B[39m\n",
      "\u001B[31mKeyError\u001B[39m: 'id'",
      "\nThe above exception was the direct cause of the following exception:\n",
      "\u001B[31mKeyError\u001B[39m                                  Traceback (most recent call last)",
      "\u001B[36mCell\u001B[39m\u001B[36m \u001B[39m\u001B[32mIn[9]\u001B[39m\u001B[32m, line 10\u001B[39m\n\u001B[32m      8\u001B[39m some_individual_id = df.index.get_level_values(\u001B[33m'\u001B[39m\u001B[33mid\u001B[39m\u001B[33m'\u001B[39m).unique()[\u001B[32m0\u001B[39m]\n\u001B[32m      9\u001B[39m \u001B[38;5;28mprint\u001B[39m(some_individual_id)\n\u001B[32m---> \u001B[39m\u001B[32m10\u001B[39m \u001B[43mhmm_detector\u001B[49m\u001B[43m.\u001B[49m\u001B[43mvisualize_individual_events\u001B[49m\u001B[43m(\u001B[49m\u001B[43msome_individual_id\u001B[49m\u001B[43m)\u001B[49m\n\u001B[32m     12\u001B[39m \u001B[38;5;66;03m# Visualize for a specific night cluster (e.g., cluster 0)\u001B[39;00m\n\u001B[32m     13\u001B[39m some_cluster_label = df[\u001B[33m'\u001B[39m\u001B[33mcluster_label\u001B[39m\u001B[33m'\u001B[39m].unique()[\u001B[32m0\u001B[39m]\n",
      "\u001B[36mFile \u001B[39m\u001B[32m<string>:11\u001B[39m, in \u001B[36mvisualize_individual_events\u001B[39m\u001B[34m(self, individual_id)\u001B[39m\n",
      "\u001B[36mFile \u001B[39m\u001B[32mC:\\.env\\master_project\\Lib\\site-packages\\pandas\\core\\frame.py:4102\u001B[39m, in \u001B[36mDataFrame.__getitem__\u001B[39m\u001B[34m(self, key)\u001B[39m\n\u001B[32m   4100\u001B[39m \u001B[38;5;28;01mif\u001B[39;00m \u001B[38;5;28mself\u001B[39m.columns.nlevels > \u001B[32m1\u001B[39m:\n\u001B[32m   4101\u001B[39m     \u001B[38;5;28;01mreturn\u001B[39;00m \u001B[38;5;28mself\u001B[39m._getitem_multilevel(key)\n\u001B[32m-> \u001B[39m\u001B[32m4102\u001B[39m indexer = \u001B[38;5;28;43mself\u001B[39;49m\u001B[43m.\u001B[49m\u001B[43mcolumns\u001B[49m\u001B[43m.\u001B[49m\u001B[43mget_loc\u001B[49m\u001B[43m(\u001B[49m\u001B[43mkey\u001B[49m\u001B[43m)\u001B[49m\n\u001B[32m   4103\u001B[39m \u001B[38;5;28;01mif\u001B[39;00m is_integer(indexer):\n\u001B[32m   4104\u001B[39m     indexer = [indexer]\n",
      "\u001B[36mFile \u001B[39m\u001B[32mC:\\.env\\master_project\\Lib\\site-packages\\pandas\\core\\indexes\\base.py:3812\u001B[39m, in \u001B[36mIndex.get_loc\u001B[39m\u001B[34m(self, key)\u001B[39m\n\u001B[32m   3807\u001B[39m     \u001B[38;5;28;01mif\u001B[39;00m \u001B[38;5;28misinstance\u001B[39m(casted_key, \u001B[38;5;28mslice\u001B[39m) \u001B[38;5;129;01mor\u001B[39;00m (\n\u001B[32m   3808\u001B[39m         \u001B[38;5;28misinstance\u001B[39m(casted_key, abc.Iterable)\n\u001B[32m   3809\u001B[39m         \u001B[38;5;129;01mand\u001B[39;00m \u001B[38;5;28many\u001B[39m(\u001B[38;5;28misinstance\u001B[39m(x, \u001B[38;5;28mslice\u001B[39m) \u001B[38;5;28;01mfor\u001B[39;00m x \u001B[38;5;129;01min\u001B[39;00m casted_key)\n\u001B[32m   3810\u001B[39m     ):\n\u001B[32m   3811\u001B[39m         \u001B[38;5;28;01mraise\u001B[39;00m InvalidIndexError(key)\n\u001B[32m-> \u001B[39m\u001B[32m3812\u001B[39m     \u001B[38;5;28;01mraise\u001B[39;00m \u001B[38;5;167;01mKeyError\u001B[39;00m(key) \u001B[38;5;28;01mfrom\u001B[39;00m\u001B[38;5;250m \u001B[39m\u001B[34;01merr\u001B[39;00m\n\u001B[32m   3813\u001B[39m \u001B[38;5;28;01mexcept\u001B[39;00m \u001B[38;5;167;01mTypeError\u001B[39;00m:\n\u001B[32m   3814\u001B[39m     \u001B[38;5;66;03m# If we have a listlike key, _check_indexing_error will raise\u001B[39;00m\n\u001B[32m   3815\u001B[39m     \u001B[38;5;66;03m#  InvalidIndexError. Otherwise we fall through and re-raise\u001B[39;00m\n\u001B[32m   3816\u001B[39m     \u001B[38;5;66;03m#  the TypeError.\u001B[39;00m\n\u001B[32m   3817\u001B[39m     \u001B[38;5;28mself\u001B[39m._check_indexing_error(key)\n",
      "\u001B[31mKeyError\u001B[39m: 'id'"
     ]
    }
   ],
   "execution_count": 9
  },
  {
   "metadata": {},
   "cell_type": "code",
   "outputs": [],
   "execution_count": null,
   "source": "",
   "id": "9b283e562e9269a3"
  }
 ],
 "metadata": {
  "kernelspec": {
   "display_name": "Python 3",
   "language": "python",
   "name": "python3"
  },
  "language_info": {
   "codemirror_mode": {
    "name": "ipython",
    "version": 2
   },
   "file_extension": ".py",
   "mimetype": "text/x-python",
   "name": "python",
   "nbconvert_exporter": "python",
   "pygments_lexer": "ipython2",
   "version": "2.7.6"
  }
 },
 "nbformat": 4,
 "nbformat_minor": 5
}
