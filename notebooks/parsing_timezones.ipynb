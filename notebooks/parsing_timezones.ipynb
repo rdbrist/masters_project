{
 "cells": [
  {
   "metadata": {
    "ExecuteTime": {
     "end_time": "2025-05-16T14:25:26.591740Z",
     "start_time": "2025-05-16T14:25:25.237827Z"
    }
   },
   "cell_type": "code",
   "source": [
    "import pandas as pd\n",
    "\n",
    "data = {\n",
    "    'datetime_col1': pd.to_datetime(['2023-01-01 12:00:00+00:00', '2023-01-02 13:00:00+00:00']),\n",
    "    'datetime_col2': pd.to_datetime(['2023-01-03 14:00:00+02:00', '2023-01-04 15:00:00+02:00'])\n",
    "}\n",
    "df = pd.DataFrame(data)\n"
   ],
   "id": "9825e106b6a6b907",
   "outputs": [
    {
     "data": {
      "text/plain": [
       "              datetime_col1             datetime_col2\n",
       "0 2023-01-01 12:00:00+00:00 2023-01-03 14:00:00+02:00\n",
       "1 2023-01-02 13:00:00+00:00 2023-01-04 15:00:00+02:00"
      ],
      "text/html": [
       "<div>\n",
       "<style scoped>\n",
       "    .dataframe tbody tr th:only-of-type {\n",
       "        vertical-align: middle;\n",
       "    }\n",
       "\n",
       "    .dataframe tbody tr th {\n",
       "        vertical-align: top;\n",
       "    }\n",
       "\n",
       "    .dataframe thead th {\n",
       "        text-align: right;\n",
       "    }\n",
       "</style>\n",
       "<table border=\"1\" class=\"dataframe\">\n",
       "  <thead>\n",
       "    <tr style=\"text-align: right;\">\n",
       "      <th></th>\n",
       "      <th>datetime_col1</th>\n",
       "      <th>datetime_col2</th>\n",
       "    </tr>\n",
       "  </thead>\n",
       "  <tbody>\n",
       "    <tr>\n",
       "      <th>0</th>\n",
       "      <td>2023-01-01 12:00:00+00:00</td>\n",
       "      <td>2023-01-03 14:00:00+02:00</td>\n",
       "    </tr>\n",
       "    <tr>\n",
       "      <th>1</th>\n",
       "      <td>2023-01-02 13:00:00+00:00</td>\n",
       "      <td>2023-01-04 15:00:00+02:00</td>\n",
       "    </tr>\n",
       "  </tbody>\n",
       "</table>\n",
       "</div>"
      ]
     },
     "execution_count": 3,
     "metadata": {},
     "output_type": "execute_result"
    }
   ],
   "execution_count": 3
  },
  {
   "metadata": {
    "ExecuteTime": {
     "end_time": "2025-05-16T14:37:46.640103Z",
     "start_time": "2025-05-16T14:37:46.613618Z"
    }
   },
   "cell_type": "code",
   "source": [
    "# Remove timezones from all datetime columns\n",
    "df_rm = df.copy()\n",
    "print(df_rm.dtypes)\n",
    "for col in df_rm.select_dtypes(include=['datetime']):\n",
    "    #df_rm[col] = df_rm[col].dt.tz_localize(None)\n",
    "    print(col)\n",
    "df_rm\n"
   ],
   "id": "26d7dad915e5cfbc",
   "outputs": [
    {
     "name": "stdout",
     "output_type": "stream",
     "text": [
      "datetime_col1          datetime64[ns, UTC]\n",
      "datetime_col2    datetime64[ns, UTC+02:00]\n",
      "dtype: object\n"
     ]
    },
    {
     "data": {
      "text/plain": [
       "              datetime_col1             datetime_col2\n",
       "0 2023-01-01 12:00:00+00:00 2023-01-03 14:00:00+02:00\n",
       "1 2023-01-02 13:00:00+00:00 2023-01-04 15:00:00+02:00"
      ],
      "text/html": [
       "<div>\n",
       "<style scoped>\n",
       "    .dataframe tbody tr th:only-of-type {\n",
       "        vertical-align: middle;\n",
       "    }\n",
       "\n",
       "    .dataframe tbody tr th {\n",
       "        vertical-align: top;\n",
       "    }\n",
       "\n",
       "    .dataframe thead th {\n",
       "        text-align: right;\n",
       "    }\n",
       "</style>\n",
       "<table border=\"1\" class=\"dataframe\">\n",
       "  <thead>\n",
       "    <tr style=\"text-align: right;\">\n",
       "      <th></th>\n",
       "      <th>datetime_col1</th>\n",
       "      <th>datetime_col2</th>\n",
       "    </tr>\n",
       "  </thead>\n",
       "  <tbody>\n",
       "    <tr>\n",
       "      <th>0</th>\n",
       "      <td>2023-01-01 12:00:00+00:00</td>\n",
       "      <td>2023-01-03 14:00:00+02:00</td>\n",
       "    </tr>\n",
       "    <tr>\n",
       "      <th>1</th>\n",
       "      <td>2023-01-02 13:00:00+00:00</td>\n",
       "      <td>2023-01-04 15:00:00+02:00</td>\n",
       "    </tr>\n",
       "  </tbody>\n",
       "</table>\n",
       "</div>"
      ]
     },
     "execution_count": 11,
     "metadata": {},
     "output_type": "execute_result"
    }
   ],
   "execution_count": 11
  },
  {
   "metadata": {
    "ExecuteTime": {
     "end_time": "2025-05-16T14:38:44.309987Z",
     "start_time": "2025-05-16T14:38:44.289023Z"
    }
   },
   "cell_type": "code",
   "outputs": [
    {
     "data": {
      "text/plain": [
       "0   2023-01-03 14:00:00+02:00\n",
       "1   2023-01-04 15:00:00+02:00\n",
       "Name: datetime_col2, dtype: datetime64[ns, UTC+02:00]"
      ]
     },
     "execution_count": 12,
     "metadata": {},
     "output_type": "execute_result"
    }
   ],
   "execution_count": 12,
   "source": "pd.to_datetime(df_rm['datetime_col2'], utc=False)",
   "id": "efc0d5d30e399f52"
  }
 ],
 "metadata": {
  "kernelspec": {
   "name": "python3",
   "language": "python",
   "display_name": "Python 3 (ipykernel)"
  }
 },
 "nbformat": 5,
 "nbformat_minor": 9
}
