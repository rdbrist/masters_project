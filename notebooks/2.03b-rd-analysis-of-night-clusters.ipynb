{
 "cells": [
  {
   "metadata": {},
   "cell_type": "markdown",
   "source": [
    "# Analysis of night clusters\n",
    "This extends from the creation of night clusters and looks to analyse and compare them. Here we analyse some statistics behind them before delving deeper. Putting focus on cluster 2 and 3 as being quite different in the profile of the variables, lets first start to look at how the profiles are different, from the perspective of their overnight glucose. We can shorten the observed period to between 22:00 and 06:00 which - although arbitrary - is more likely to represent a sleeping period for individuals. Using this, we can then look at the BG profiles and measure at each interval if the BG is statistically different.\n"
   ],
   "id": "390b947464f7109b"
  },
  {
   "metadata": {
    "ExecuteTime": {
     "end_time": "2025-07-03T19:39:33.699104Z",
     "start_time": "2025-07-03T19:39:32.376295Z"
    }
   },
   "cell_type": "code",
   "source": [
    "from matplotlib import pyplot as plt\n",
    "%load_ext autoreload\n",
    "%autoreload 2\n",
    "\n",
    "from src.nights import Nights, consolidate_df_from_nights\n",
    "from datetime import time\n",
    "from src.sample_filter import SampleFilter\n",
    "from src.configurations import ThirtyMinute\n",
    "from src.night_clustering import NightClustering\n",
    "from scipy.stats import ttest_ind, ttest_rel, ttest_1samp\n",
    "import pandas as pd\n"
   ],
   "id": "236f7f22c493aa62",
   "outputs": [
    {
     "name": "stderr",
     "output_type": "stream",
     "text": [
      "\u001B[32m2025-07-03 20:39:32.572\u001B[0m | \u001B[1mINFO    \u001B[0m | \u001B[36msrc.config\u001B[0m:\u001B[36m<module>\u001B[0m:\u001B[36m11\u001B[0m - \u001B[1mPROJ_ROOT path is: C:\\Users\\ross\\OneDrive\\Documents\\Masters\\Project\\masters_project\u001B[0m\n"
     ]
    }
   ],
   "execution_count": 3
  },
  {
   "metadata": {
    "ExecuteTime": {
     "end_time": "2025-07-03T22:06:46.484020Z",
     "start_time": "2025-07-03T22:05:10.677362Z"
    }
   },
   "cell_type": "code",
   "source": [
    "\n",
    "night_start = time(17, 0)\n",
    "morning_end = time(11, 0)\n",
    "sampling = ThirtyMinute()\n",
    "min_nights = 30\n",
    "missed_intervals = 1\n",
    "max_break_run = 1\n",
    "cob_nan_min = 0.2\n",
    "iob_nan_min = 0.05\n",
    "bg_nan_min = 0.2\n",
    "sample = SampleFilter(\n",
    "    night_start=night_start,\n",
    "    morning_end=morning_end,\n",
    "    sampling=sampling,\n",
    "    missed_intervals=missed_intervals,\n",
    "    max_break_run= max_break_run,\n",
    "    min_nights=min_nights,\n",
    "    cob_nan_min=cob_nan_min,\n",
    "    iob_nan_min=iob_nan_min,\n",
    "    bg_nan_min=bg_nan_min\n",
    ")\n",
    "\n",
    "df = sample.get_consolidated_df()\n",
    "df[['cob mean', 'cob min', 'cob max']] = df.groupby('id')[['cob mean', 'cob min', 'cob max']].transform(lambda x: x.interpolate(method='linear'))\n",
    "df_variables = df[['bg mean', 'bg min', 'bg max', 'iob mean', 'iob max', 'cob mean', 'cob max']].copy().astype(float)\n",
    "analyser = NightClustering(df=df_variables, feature_settings='custom', night_start_hour=night_start.hour)\n",
    "analyser.extract_night_level_features()\n",
    "analyser.preprocess_night_features(n_components=2)\n",
    "cluster_range = range(2,8)\n",
    "kwargs = {'perplexity': 10, 'max_iter': 80000}\n",
    "analyser.fit_tsne(**kwargs)\n",
    "analyser.clustering_tsne(n_clusters=4)\n",
    "df_to_compare = analyser.return_dataset_with_clusters()\n"
   ],
   "id": "4219bd07a6b446a8",
   "outputs": [
    {
     "name": "stdout",
     "output_type": "stream",
     "text": [
      "\u001B[32m2025-07-03 23:05:21.054\u001B[0m | \u001B[1mINFO    \u001B[0m | \u001B[36msrc.nights\u001B[0m:\u001B[36m_calculate_overall_stats\u001B[0m:\u001B[36m158\u001B[0m - \u001B[1mNo stats per night have been calculated for 67167655. Returning no output.\u001B[0m\n",
      "Number of nights objects created: 83\n"
     ]
    },
    {
     "name": "stderr",
     "output_type": "stream",
     "text": [
      "Feature Extraction: 100%|██████████| 30/30 [00:43<00:00,  1.47s/it]\n"
     ]
    },
    {
     "name": "stdout",
     "output_type": "stream",
     "text": [
      "Extracted 78 features for 922 nights.\n",
      "Preprocessing night-level features (scaling and PCA)...\n",
      "<class 'numpy.ndarray'>\n",
      "Dropped features from scaling: {'iob max__count_above__t_100', 'cob max__minimum', 'cob mean__minimum'}\n",
      "PCA reduced dimensions from 75 to 2.\n"
     ]
    }
   ],
   "execution_count": 67
  },
  {
   "metadata": {},
   "cell_type": "markdown",
   "source": "Now we take the subset of the timeseries that we deem an 'overnight' period and compare the blood glucose between them.",
   "id": "98ab090b41d16b1"
  },
  {
   "metadata": {
    "ExecuteTime": {
     "end_time": "2025-07-03T22:16:15.892168Z",
     "start_time": "2025-07-03T22:15:59.751564Z"
    }
   },
   "cell_type": "code",
   "source": [
    "night_start = time(22, 0)\n",
    "morning_end = time(6, 0)\n",
    "sample_rate = 30\n",
    "nights_objects = []\n",
    "\n",
    "for zip_id, df_ind in df_to_compare.groupby('id'):\n",
    "    df_ind_reset = df_ind.reset_index(level='id', drop=True)\n",
    "    nights_objects.append(\n",
    "        Nights(df=df_ind_reset, zip_id=zip_id, night_start=night_start,\n",
    "               morning_end=morning_end, sample_rate=sample_rate))\n",
    "from src.dba import get_dba_and_variance\n",
    "\n",
    "df_overnight = consolidate_df_from_nights(nights_objects)\n",
    "\n",
    "variables = ['cob mean', 'iob mean', 'bg mean']\n",
    "cluster_dba_dfs = {}\n",
    "df_long_bg = pd.DataFrame(columns=['cluster', 'time', 'bg mean'])\n",
    "col = ('bg mean', 'dba')\n",
    "for c, df_c in df_overnight.groupby('tsne_cluster_label'):\n",
    "    df_dba = get_dba_and_variance(df_c[variables], night_start.hour, morning_end.hour, rolling_window=3)\n",
    "    cluster_dba_dfs[c] = df_dba\n",
    "    data = {'cluster': c, 'time': df_dba['time'].astype(str), 'bg mean': df_dba[col]}\n",
    "    df_long_bg = pd.concat([df_long_bg, pd.DataFrame(data)])\n",
    "\n",
    "df_long_bg\n"
   ],
   "id": "1823fcd776c2b95e",
   "outputs": [
    {
     "name": "stderr",
     "output_type": "stream",
     "text": [
      "C:\\Users\\ross\\AppData\\Local\\Temp\\ipykernel_2712\\3172771283.py:23: FutureWarning: The behavior of DataFrame concatenation with empty or all-NA entries is deprecated. In a future version, this will no longer exclude empty or all-NA columns when determining the result dtypes. To retain the old behavior, exclude the relevant entries before the concat operation.\n",
      "  df_long_bg = pd.concat([df_long_bg, pd.DataFrame(data)])\n"
     ]
    },
    {
     "data": {
      "text/plain": [
       "   cluster      time     bg mean\n",
       "0        0  22:00:00  240.570157\n",
       "1        0  22:30:00  181.002089\n",
       "2        0  23:00:00  156.418565\n",
       "3        0  23:30:00  133.804761\n",
       "4        0  00:00:00  163.559049\n",
       "..     ...       ...         ...\n",
       "11       3  03:30:00  131.668613\n",
       "12       3  04:00:00  131.590859\n",
       "13       3  04:30:00  131.669934\n",
       "14       3  05:00:00  124.204089\n",
       "15       3  05:30:00  102.070718\n",
       "\n",
       "[64 rows x 3 columns]"
      ],
      "text/html": [
       "<div>\n",
       "<style scoped>\n",
       "    .dataframe tbody tr th:only-of-type {\n",
       "        vertical-align: middle;\n",
       "    }\n",
       "\n",
       "    .dataframe tbody tr th {\n",
       "        vertical-align: top;\n",
       "    }\n",
       "\n",
       "    .dataframe thead th {\n",
       "        text-align: right;\n",
       "    }\n",
       "</style>\n",
       "<table border=\"1\" class=\"dataframe\">\n",
       "  <thead>\n",
       "    <tr style=\"text-align: right;\">\n",
       "      <th></th>\n",
       "      <th>cluster</th>\n",
       "      <th>time</th>\n",
       "      <th>bg mean</th>\n",
       "    </tr>\n",
       "  </thead>\n",
       "  <tbody>\n",
       "    <tr>\n",
       "      <th>0</th>\n",
       "      <td>0</td>\n",
       "      <td>22:00:00</td>\n",
       "      <td>240.570157</td>\n",
       "    </tr>\n",
       "    <tr>\n",
       "      <th>1</th>\n",
       "      <td>0</td>\n",
       "      <td>22:30:00</td>\n",
       "      <td>181.002089</td>\n",
       "    </tr>\n",
       "    <tr>\n",
       "      <th>2</th>\n",
       "      <td>0</td>\n",
       "      <td>23:00:00</td>\n",
       "      <td>156.418565</td>\n",
       "    </tr>\n",
       "    <tr>\n",
       "      <th>3</th>\n",
       "      <td>0</td>\n",
       "      <td>23:30:00</td>\n",
       "      <td>133.804761</td>\n",
       "    </tr>\n",
       "    <tr>\n",
       "      <th>4</th>\n",
       "      <td>0</td>\n",
       "      <td>00:00:00</td>\n",
       "      <td>163.559049</td>\n",
       "    </tr>\n",
       "    <tr>\n",
       "      <th>...</th>\n",
       "      <td>...</td>\n",
       "      <td>...</td>\n",
       "      <td>...</td>\n",
       "    </tr>\n",
       "    <tr>\n",
       "      <th>11</th>\n",
       "      <td>3</td>\n",
       "      <td>03:30:00</td>\n",
       "      <td>131.668613</td>\n",
       "    </tr>\n",
       "    <tr>\n",
       "      <th>12</th>\n",
       "      <td>3</td>\n",
       "      <td>04:00:00</td>\n",
       "      <td>131.590859</td>\n",
       "    </tr>\n",
       "    <tr>\n",
       "      <th>13</th>\n",
       "      <td>3</td>\n",
       "      <td>04:30:00</td>\n",
       "      <td>131.669934</td>\n",
       "    </tr>\n",
       "    <tr>\n",
       "      <th>14</th>\n",
       "      <td>3</td>\n",
       "      <td>05:00:00</td>\n",
       "      <td>124.204089</td>\n",
       "    </tr>\n",
       "    <tr>\n",
       "      <th>15</th>\n",
       "      <td>3</td>\n",
       "      <td>05:30:00</td>\n",
       "      <td>102.070718</td>\n",
       "    </tr>\n",
       "  </tbody>\n",
       "</table>\n",
       "<p>64 rows × 3 columns</p>\n",
       "</div>"
      ]
     },
     "execution_count": 81,
     "metadata": {},
     "output_type": "execute_result"
    }
   ],
   "execution_count": 81
  },
  {
   "metadata": {
    "ExecuteTime": {
     "end_time": "2025-07-03T22:16:16.105879Z",
     "start_time": "2025-07-03T22:16:15.973812Z"
    }
   },
   "cell_type": "code",
   "source": [
    "arr_c2 = df_long_bg[df_long_bg['cluster']==2]['bg mean'].to_list()\n",
    "arr_c3 = df_long_bg[df_long_bg['cluster']==3]['bg mean'].to_list()\n",
    "tstat, pval = ttest_ind(arr_c2, arr_c3)\n",
    "print(f'Cluster 2 vs Cluster 3 t-test, pval: {tstat, pval}')"
   ],
   "id": "621d8a0c4f6baa90",
   "outputs": [
    {
     "name": "stdout",
     "output_type": "stream",
     "text": [
      "Cluster 2 vs Cluster 3 t-test, pval: (np.float64(-3.075481255681117), np.float64(0.004453754679636925))\n"
     ]
    }
   ],
   "execution_count": 82
  },
  {
   "metadata": {
    "ExecuteTime": {
     "end_time": "2025-07-03T22:17:16.541195Z",
     "start_time": "2025-07-03T22:17:16.031417Z"
    }
   },
   "cell_type": "code",
   "source": [
    "import seaborn as sns\n",
    "import matplotlib.pyplot as plt\n",
    "fig, ax = plt.subplots()\n",
    "sns.lineplot(df_long_bg, x='time', y='bg mean', hue='cluster', markers='cluster',  ax=ax)\n",
    "plt.xticks(rotation=45)\n",
    "plt.show()"
   ],
   "id": "b021ed2d0968caf9",
   "outputs": [
    {
     "data": {
      "text/plain": [
       "<Figure size 640x480 with 1 Axes>"
      ],
      "image/png": "[encoded data removed]"
     },
     "metadata": {},
     "output_type": "display_data"
    }
   ],
   "execution_count": 84
  },
  {
   "metadata": {
    "ExecuteTime": {
     "end_time": "2025-07-03T22:18:41.536035Z",
     "start_time": "2025-07-03T22:18:41.000589Z"
    }
   },
   "cell_type": "code",
   "source": [
    "from dtw import dtw\n",
    "def dtw_distance(arr1, arr2):\n",
    "    distance, _, _, _ = dtw(arr1, arr2, dist=lambda x, y: abs(x - y))\n",
    "    return distance\n",
    "\n",
    "for c1, df_c1 in df_long_bg.groupby('cluster'):\n",
    "    for c2, df_c2 in df_long_bg.groupby('cluster'):\n",
    "        if c1 < c2:\n",
    "            arr1 = df_c1['bg mean'].to_list()\n",
    "            arr2 = df_c2['bg mean'].to_list()\n",
    "            distance = dtw_distance(arr1, arr2)\n",
    "            print(f'DTW distance between cluster {c1} and cluster {c2}: {distance}')"
   ],
   "id": "778a048f38677393",
   "outputs": [
    {
     "name": "stdout",
     "output_type": "stream",
     "text": [
      "DTW distance between cluster 0 and cluster 1: 485.6091665791227\n",
      "DTW distance between cluster 0 and cluster 2: 294.5946421593503\n",
      "DTW distance between cluster 0 and cluster 3: 475.84423821239074\n",
      "DTW distance between cluster 1 and cluster 2: 244.59876141059084\n",
      "DTW distance between cluster 1 and cluster 3: 136.77153538870704\n",
      "DTW distance between cluster 2 and cluster 3: 249.648603833683\n"
     ]
    }
   ],
   "execution_count": 85
  },
  {
   "metadata": {
    "ExecuteTime": {
     "end_time": "2025-07-03T21:54:20.243649Z",
     "start_time": "2025-07-03T21:54:20.103879Z"
    }
   },
   "cell_type": "code",
   "source": [
    "data = {'cluster': 2, 'bg mean': arr_c2}\n",
    "pd.DataFrame(data)"
   ],
   "id": "23c6f0691f832283",
   "outputs": [
    {
     "data": {
      "text/plain": [
       "    cluster     bg mean\n",
       "0         2  142.616690\n",
       "1         2  177.450212\n",
       "2         2  138.782366\n",
       "3         2  121.280425\n",
       "4         2  120.077286\n",
       "5         2  109.707604\n",
       "6         2  126.547293\n",
       "7         2  127.105738\n",
       "8         2  128.061135\n",
       "9         2  148.291447\n",
       "10        2  132.924546\n",
       "11        2  132.201414\n",
       "12        2  131.915490\n",
       "13        2  125.354506\n",
       "14        2  101.106503\n",
       "15        2  116.944558"
      ],
      "text/html": [
       "<div>\n",
       "<style scoped>\n",
       "    .dataframe tbody tr th:only-of-type {\n",
       "        vertical-align: middle;\n",
       "    }\n",
       "\n",
       "    .dataframe tbody tr th {\n",
       "        vertical-align: top;\n",
       "    }\n",
       "\n",
       "    .dataframe thead th {\n",
       "        text-align: right;\n",
       "    }\n",
       "</style>\n",
       "<table border=\"1\" class=\"dataframe\">\n",
       "  <thead>\n",
       "    <tr style=\"text-align: right;\">\n",
       "      <th></th>\n",
       "      <th>cluster</th>\n",
       "      <th>bg mean</th>\n",
       "    </tr>\n",
       "  </thead>\n",
       "  <tbody>\n",
       "    <tr>\n",
       "      <th>0</th>\n",
       "      <td>2</td>\n",
       "      <td>142.616690</td>\n",
       "    </tr>\n",
       "    <tr>\n",
       "      <th>1</th>\n",
       "      <td>2</td>\n",
       "      <td>177.450212</td>\n",
       "    </tr>\n",
       "    <tr>\n",
       "      <th>2</th>\n",
       "      <td>2</td>\n",
       "      <td>138.782366</td>\n",
       "    </tr>\n",
       "    <tr>\n",
       "      <th>3</th>\n",
       "      <td>2</td>\n",
       "      <td>121.280425</td>\n",
       "    </tr>\n",
       "    <tr>\n",
       "      <th>4</th>\n",
       "      <td>2</td>\n",
       "      <td>120.077286</td>\n",
       "    </tr>\n",
       "    <tr>\n",
       "      <th>5</th>\n",
       "      <td>2</td>\n",
       "      <td>109.707604</td>\n",
       "    </tr>\n",
       "    <tr>\n",
       "      <th>6</th>\n",
       "      <td>2</td>\n",
       "      <td>126.547293</td>\n",
       "    </tr>\n",
       "    <tr>\n",
       "      <th>7</th>\n",
       "      <td>2</td>\n",
       "      <td>127.105738</td>\n",
       "    </tr>\n",
       "    <tr>\n",
       "      <th>8</th>\n",
       "      <td>2</td>\n",
       "      <td>128.061135</td>\n",
       "    </tr>\n",
       "    <tr>\n",
       "      <th>9</th>\n",
       "      <td>2</td>\n",
       "      <td>148.291447</td>\n",
       "    </tr>\n",
       "    <tr>\n",
       "      <th>10</th>\n",
       "      <td>2</td>\n",
       "      <td>132.924546</td>\n",
       "    </tr>\n",
       "    <tr>\n",
       "      <th>11</th>\n",
       "      <td>2</td>\n",
       "      <td>132.201414</td>\n",
       "    </tr>\n",
       "    <tr>\n",
       "      <th>12</th>\n",
       "      <td>2</td>\n",
       "      <td>131.915490</td>\n",
       "    </tr>\n",
       "    <tr>\n",
       "      <th>13</th>\n",
       "      <td>2</td>\n",
       "      <td>125.354506</td>\n",
       "    </tr>\n",
       "    <tr>\n",
       "      <th>14</th>\n",
       "      <td>2</td>\n",
       "      <td>101.106503</td>\n",
       "    </tr>\n",
       "    <tr>\n",
       "      <th>15</th>\n",
       "      <td>2</td>\n",
       "      <td>116.944558</td>\n",
       "    </tr>\n",
       "  </tbody>\n",
       "</table>\n",
       "</div>"
      ]
     },
     "execution_count": 59,
     "metadata": {},
     "output_type": "execute_result"
    }
   ],
   "execution_count": 59
  },
  {
   "metadata": {
    "ExecuteTime": {
     "end_time": "2025-07-03T22:12:48.577918Z",
     "start_time": "2025-07-03T22:12:48.475527Z"
    }
   },
   "cell_type": "code",
   "source": "df_long_bg[df_long_bg['cluster']==2]['bg mean'].to_list()",
   "id": "f87b2b4eeab0cd1b",
   "outputs": [
    {
     "data": {
      "text/plain": [
       "[165.9173371025243,\n",
       " 122.57235118628894,\n",
       " 104.15746359763739,\n",
       " 105.22060772468303,\n",
       " 99.04747950583187,\n",
       " 108.37866666840345,\n",
       " 106.8611326977215,\n",
       " 106.81905304225145,\n",
       " 106.79206189856065,\n",
       " 107.16639910246197,\n",
       " 103.44217964454934,\n",
       " 81.8820563581653,\n",
       " 98.86567389446756,\n",
       " 101.60208045830161,\n",
       " 111.09665581839425,\n",
       " 142.78035848075098]"
      ]
     },
     "execution_count": 74,
     "metadata": {},
     "output_type": "execute_result"
    }
   ],
   "execution_count": 74
  }
 ],
 "metadata": {
  "kernelspec": {
   "display_name": "Masters Project env",
   "language": "python",
   "name": "master_project"
  },
  "language_info": {
   "codemirror_mode": {
    "name": "ipython",
    "version": 2
   },
   "file_extension": ".py",
   "mimetype": "text/x-python",
   "name": "python",
   "nbconvert_exporter": "python",
   "pygments_lexer": "ipython2",
   "version": "2.7.6"
  }
 },
 "nbformat": 4,
 "nbformat_minor": 5
}
