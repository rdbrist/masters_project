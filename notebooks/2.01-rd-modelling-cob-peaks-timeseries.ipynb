{
 "cells": [
  {
   "metadata": {},
   "cell_type": "markdown",
   "source": [
    "# 2.01 - Modelling COB Peaks Timeseries\n",
    "Using the peaks to assess the distribution of the data is a helpful approach to understand the distribution of meal intake over time. It has made it easier to assess the correctness of the data mapping to a daily pattern, especially given the issues with datetimes not aligning to the timezones that they are in. We'll now use the peaks to identify the COB values we are interested in modelling. The aim is to be able to assess what a standard day looks like and whether it is possible to idenfity where days are not standard, which may be due to errors in the data or due to the individual having a different pattern of meal intake. The peaks will be used to identify the COB values that are relevant for modelling, and then the timeseries will be used to assess the distribution and amplitude of those values over time. We will use the 15-minute resampled data here and focus on one of the candidates with the most defined distributions that shows a 3-meal intake clearly."
   ],
   "id": "94b63cf85ae0a231"
  },
  {
   "cell_type": "code",
   "id": "bad2750fbc6a5004",
   "metadata": {
    "ExecuteTime": {
     "end_time": "2025-05-26T20:37:03.242380Z",
     "start_time": "2025-05-26T20:36:57.716322Z"
    }
   },
   "source": [
    "%load_ext autoreload\n",
    "%autoreload 2\n",
    "import pandas as pd\n",
    "from loguru import logger\n",
    "import matplotlib.pyplot as plt\n",
    "import seaborn as sns\n",
    "\n",
    "from src.cob_analysis import Cob\n",
    "from src.data_processing.read import read_profile_offsets_csv\n",
    "from src.configurations import Configuration\n",
    "from src.time_series_analysis import run_adf, p_q_result, ts_dist_plot, ts_plot, split_ts, ts_plot_cfs"
   ],
   "outputs": [
    {
     "name": "stderr",
     "output_type": "stream",
     "text": [
      "\u001B[32m2025-05-26 21:36:58.382\u001B[0m | \u001B[1mINFO    \u001B[0m | \u001B[36msrc.config\u001B[0m:\u001B[36m<module>\u001B[0m:\u001B[36m11\u001B[0m - \u001B[1mPROJ_ROOT path is: C:\\Users\\ross\\OneDrive\\Documents\\Masters\\Project\\masters_project\u001B[0m\n"
     ]
    }
   ],
   "execution_count": 1
  },
  {
   "metadata": {
    "collapsed": true,
    "ExecuteTime": {
     "end_time": "2025-05-26T21:58:39.920589Z",
     "start_time": "2025-05-26T21:57:58.186231Z"
    }
   },
   "cell_type": "code",
   "source": [
    "logger.remove()\n",
    "\n",
    "candidates = [13029224, 21946407, 27700103, 32407882, 41131654, 42360672, 67208817, 74175219, 79526193, 86025410, 95851255, 96254963, 96805916, 97417885]\n",
    "individual = 41131654\n",
    "args = {'height': 15, 'distance': 5, 'suppress': False}\n",
    "config = Configuration()\n",
    "\n",
    "profile_offsets = read_profile_offsets_csv(config)\n",
    "\n",
    "cob = Cob()\n",
    "cob.read_interim_data(file_name='15min_iob_cob_bg', sampling_rate=15)\n",
    "df_all = cob.process_one_tz_individuals(profile_offsets, args)"
   ],
   "id": "initial_id",
   "outputs": [
    {
     "name": "stdout",
     "output_type": "stream",
     "text": [
      "Number of records: 786757\n",
      "Number of people: 133\n",
      "Systems used: \t['OpenAPS']\n",
      "Categories (1, object): ['OpenAPS']\n",
      "From 120 IDs requested processing, ignored 22 individuals not found in dataset, leaving 98 processed records.\n",
      "The following stats are based on parameters h=15 and d=5:\n",
      "\tNumber of records: 2637045\n",
      "\tNumber of days with peaks: 7923\n",
      "\tNumber of peaks: 19539\n"
     ]
    }
   ],
   "execution_count": 40
  },
  {
   "metadata": {},
   "cell_type": "markdown",
   "source": "The data has a 'cob max' column that we need to transform such that it only holds the values that are relevant for modelling. The peaks will be used to identify the COB values that are used for features. That removes any noise from other values. Note, the imputed values are not used and would be irrelevant anyway, given that we are focussing purely on the values that are peaks only. These would alway be original values.",
   "id": "74433cdf9f17da9e"
  },
  {
   "metadata": {
    "ExecuteTime": {
     "end_time": "2025-05-26T21:58:48.229119Z",
     "start_time": "2025-05-26T21:58:48.114623Z"
    }
   },
   "cell_type": "code",
   "source": [
    "df = df_all.loc[individual].copy()\n",
    "# df2 = df.asfreq('15min')"
   ],
   "id": "716a0a2692d29d9b",
   "outputs": [],
   "execution_count": 41
  },
  {
   "metadata": {
    "ExecuteTime": {
     "end_time": "2025-05-26T21:09:58.746098Z",
     "start_time": "2025-05-26T21:09:57.938976Z"
    }
   },
   "cell_type": "code",
   "source": [
    "# Running a quick ADF test to check if the data is stationary\n",
    "run_adf(df['cob max'])"
   ],
   "id": "58ec65de92fb5971",
   "outputs": [
    {
     "ename": "MissingDataError",
     "evalue": "exog contains inf or nans",
     "output_type": "error",
     "traceback": [
      "\u001B[31m---------------------------------------------------------------------------\u001B[39m",
      "\u001B[31mMissingDataError\u001B[39m                          Traceback (most recent call last)",
      "\u001B[36mCell\u001B[39m\u001B[36m \u001B[39m\u001B[32mIn[24]\u001B[39m\u001B[32m, line 2\u001B[39m\n\u001B[32m      1\u001B[39m \u001B[38;5;66;03m# Running a quick ADF test to check if the data is stationary\u001B[39;00m\n\u001B[32m----> \u001B[39m\u001B[32m2\u001B[39m \u001B[43mrun_adf\u001B[49m\u001B[43m(\u001B[49m\u001B[43mdf\u001B[49m\u001B[43m[\u001B[49m\u001B[33;43m'\u001B[39;49m\u001B[33;43mcob max\u001B[39;49m\u001B[33;43m'\u001B[39;49m\u001B[43m]\u001B[49m\u001B[43m)\u001B[49m\n",
      "\u001B[36mFile \u001B[39m\u001B[32m~\\OneDrive\\Documents\\Masters\\Project\\masters_project\\src\\time_series_analysis.py:133\u001B[39m, in \u001B[36mrun_adf\u001B[39m\u001B[34m(df)\u001B[39m\n\u001B[32m    128\u001B[39m \u001B[38;5;28;01mdef\u001B[39;00m\u001B[38;5;250m \u001B[39m\u001B[34mrun_adf\u001B[39m(df):\n\u001B[32m    129\u001B[39m \u001B[38;5;250m    \u001B[39m\u001B[33;03m\"\"\"\u001B[39;00m\n\u001B[32m    130\u001B[39m \u001B[33;03m    Perform the Augmented Dickey-Fuller (ADF) test to check for stationarity and\u001B[39;00m\n\u001B[32m    131\u001B[39m \u001B[33;03m    formats the results for easy interpretation.\u001B[39;00m\n\u001B[32m    132\u001B[39m \u001B[33;03m    :param df: (pd.DataFrame) Time series data to be tested for stationarity.\u001B[39;00m\n\u001B[32m--> \u001B[39m\u001B[32m133\u001B[39m \u001B[33;03m    \"\"\"\u001B[39;00m\n\u001B[32m    134\u001B[39m     adf_test = adfuller(df, autolag=\u001B[33m'\u001B[39m\u001B[33mAIC\u001B[39m\u001B[33m'\u001B[39m, regression=\u001B[33m'\u001B[39m\u001B[33mct\u001B[39m\u001B[33m'\u001B[39m)\n\u001B[32m    135\u001B[39m     \u001B[38;5;28mprint\u001B[39m(\u001B[33m\"\u001B[39m\u001B[33mADF Test Results\u001B[39m\u001B[33m\"\u001B[39m)\n",
      "\u001B[36mFile \u001B[39m\u001B[32mC:\\.env\\master_project\\Lib\\site-packages\\statsmodels\\tsa\\stattools.py:326\u001B[39m, in \u001B[36madfuller\u001B[39m\u001B[34m(x, maxlag, regression, autolag, store, regresults)\u001B[39m\n\u001B[32m    320\u001B[39m \u001B[38;5;66;03m# 1 for level\u001B[39;00m\n\u001B[32m    321\u001B[39m \u001B[38;5;66;03m# search for lag length with smallest information criteria\u001B[39;00m\n\u001B[32m    322\u001B[39m \u001B[38;5;66;03m# Note: use the same number of observations to have comparable IC\u001B[39;00m\n\u001B[32m    323\u001B[39m \u001B[38;5;66;03m# aic and bic: smaller is better\u001B[39;00m\n\u001B[32m    325\u001B[39m \u001B[38;5;28;01mif\u001B[39;00m \u001B[38;5;129;01mnot\u001B[39;00m regresults:\n\u001B[32m--> \u001B[39m\u001B[32m326\u001B[39m     icbest, bestlag = \u001B[43m_autolag\u001B[49m\u001B[43m(\u001B[49m\n\u001B[32m    327\u001B[39m \u001B[43m        \u001B[49m\u001B[43mOLS\u001B[49m\u001B[43m,\u001B[49m\u001B[43m \u001B[49m\u001B[43mxdshort\u001B[49m\u001B[43m,\u001B[49m\u001B[43m \u001B[49m\u001B[43mfullRHS\u001B[49m\u001B[43m,\u001B[49m\u001B[43m \u001B[49m\u001B[43mstartlag\u001B[49m\u001B[43m,\u001B[49m\u001B[43m \u001B[49m\u001B[43mmaxlag\u001B[49m\u001B[43m,\u001B[49m\u001B[43m \u001B[49m\u001B[43mautolag\u001B[49m\n\u001B[32m    328\u001B[39m \u001B[43m    \u001B[49m\u001B[43m)\u001B[49m\n\u001B[32m    329\u001B[39m \u001B[38;5;28;01melse\u001B[39;00m:\n\u001B[32m    330\u001B[39m     icbest, bestlag, alres = _autolag(\n\u001B[32m    331\u001B[39m         OLS,\n\u001B[32m    332\u001B[39m         xdshort,\n\u001B[32m   (...)\u001B[39m\u001B[32m    337\u001B[39m         regresults=regresults,\n\u001B[32m    338\u001B[39m     )\n",
      "\u001B[36mFile \u001B[39m\u001B[32mC:\\.env\\master_project\\Lib\\site-packages\\statsmodels\\tsa\\stattools.py:132\u001B[39m, in \u001B[36m_autolag\u001B[39m\u001B[34m(mod, endog, exog, startlag, maxlag, method, modargs, fitargs, regresults)\u001B[39m\n\u001B[32m    130\u001B[39m method = method.lower()\n\u001B[32m    131\u001B[39m \u001B[38;5;28;01mfor\u001B[39;00m lag \u001B[38;5;129;01min\u001B[39;00m \u001B[38;5;28mrange\u001B[39m(startlag, startlag + maxlag + \u001B[32m1\u001B[39m):\n\u001B[32m--> \u001B[39m\u001B[32m132\u001B[39m     mod_instance = \u001B[43mmod\u001B[49m\u001B[43m(\u001B[49m\u001B[43mendog\u001B[49m\u001B[43m,\u001B[49m\u001B[43m \u001B[49m\u001B[43mexog\u001B[49m\u001B[43m[\u001B[49m\u001B[43m:\u001B[49m\u001B[43m,\u001B[49m\u001B[43m \u001B[49m\u001B[43m:\u001B[49m\u001B[43mlag\u001B[49m\u001B[43m]\u001B[49m\u001B[43m,\u001B[49m\u001B[43m \u001B[49m\u001B[43m*\u001B[49m\u001B[43mmodargs\u001B[49m\u001B[43m)\u001B[49m\n\u001B[32m    133\u001B[39m     results[lag] = mod_instance.fit()\n\u001B[32m    135\u001B[39m \u001B[38;5;28;01mif\u001B[39;00m method == \u001B[33m\"\u001B[39m\u001B[33maic\u001B[39m\u001B[33m\"\u001B[39m:\n",
      "\u001B[36mFile \u001B[39m\u001B[32mC:\\.env\\master_project\\Lib\\site-packages\\statsmodels\\regression\\linear_model.py:921\u001B[39m, in \u001B[36mOLS.__init__\u001B[39m\u001B[34m(self, endog, exog, missing, hasconst, **kwargs)\u001B[39m\n\u001B[32m    918\u001B[39m     msg = (\u001B[33m\"\u001B[39m\u001B[33mWeights are not supported in OLS and will be ignored\u001B[39m\u001B[33m\"\u001B[39m\n\u001B[32m    919\u001B[39m            \u001B[33m\"\u001B[39m\u001B[33mAn exception will be raised in the next version.\u001B[39m\u001B[33m\"\u001B[39m)\n\u001B[32m    920\u001B[39m     warnings.warn(msg, ValueWarning)\n\u001B[32m--> \u001B[39m\u001B[32m921\u001B[39m \u001B[38;5;28;43msuper\u001B[39;49m\u001B[43m(\u001B[49m\u001B[43m)\u001B[49m\u001B[43m.\u001B[49m\u001B[34;43m__init__\u001B[39;49m\u001B[43m(\u001B[49m\u001B[43mendog\u001B[49m\u001B[43m,\u001B[49m\u001B[43m \u001B[49m\u001B[43mexog\u001B[49m\u001B[43m,\u001B[49m\u001B[43m \u001B[49m\u001B[43mmissing\u001B[49m\u001B[43m=\u001B[49m\u001B[43mmissing\u001B[49m\u001B[43m,\u001B[49m\n\u001B[32m    922\u001B[39m \u001B[43m                          \u001B[49m\u001B[43mhasconst\u001B[49m\u001B[43m=\u001B[49m\u001B[43mhasconst\u001B[49m\u001B[43m,\u001B[49m\u001B[43m \u001B[49m\u001B[43m*\u001B[49m\u001B[43m*\u001B[49m\u001B[43mkwargs\u001B[49m\u001B[43m)\u001B[49m\n\u001B[32m    923\u001B[39m \u001B[38;5;28;01mif\u001B[39;00m \u001B[33m\"\u001B[39m\u001B[33mweights\u001B[39m\u001B[33m\"\u001B[39m \u001B[38;5;129;01min\u001B[39;00m \u001B[38;5;28mself\u001B[39m._init_keys:\n\u001B[32m    924\u001B[39m     \u001B[38;5;28mself\u001B[39m._init_keys.remove(\u001B[33m\"\u001B[39m\u001B[33mweights\u001B[39m\u001B[33m\"\u001B[39m)\n",
      "\u001B[36mFile \u001B[39m\u001B[32mC:\\.env\\master_project\\Lib\\site-packages\\statsmodels\\regression\\linear_model.py:746\u001B[39m, in \u001B[36mWLS.__init__\u001B[39m\u001B[34m(self, endog, exog, weights, missing, hasconst, **kwargs)\u001B[39m\n\u001B[32m    744\u001B[39m \u001B[38;5;28;01melse\u001B[39;00m:\n\u001B[32m    745\u001B[39m     weights = weights.squeeze()\n\u001B[32m--> \u001B[39m\u001B[32m746\u001B[39m \u001B[38;5;28;43msuper\u001B[39;49m\u001B[43m(\u001B[49m\u001B[43m)\u001B[49m\u001B[43m.\u001B[49m\u001B[34;43m__init__\u001B[39;49m\u001B[43m(\u001B[49m\u001B[43mendog\u001B[49m\u001B[43m,\u001B[49m\u001B[43m \u001B[49m\u001B[43mexog\u001B[49m\u001B[43m,\u001B[49m\u001B[43m \u001B[49m\u001B[43mmissing\u001B[49m\u001B[43m=\u001B[49m\u001B[43mmissing\u001B[49m\u001B[43m,\u001B[49m\n\u001B[32m    747\u001B[39m \u001B[43m                          \u001B[49m\u001B[43mweights\u001B[49m\u001B[43m=\u001B[49m\u001B[43mweights\u001B[49m\u001B[43m,\u001B[49m\u001B[43m \u001B[49m\u001B[43mhasconst\u001B[49m\u001B[43m=\u001B[49m\u001B[43mhasconst\u001B[49m\u001B[43m,\u001B[49m\u001B[43m \u001B[49m\u001B[43m*\u001B[49m\u001B[43m*\u001B[49m\u001B[43mkwargs\u001B[49m\u001B[43m)\u001B[49m\n\u001B[32m    748\u001B[39m nobs = \u001B[38;5;28mself\u001B[39m.exog.shape[\u001B[32m0\u001B[39m]\n\u001B[32m    749\u001B[39m weights = \u001B[38;5;28mself\u001B[39m.weights\n",
      "\u001B[36mFile \u001B[39m\u001B[32mC:\\.env\\master_project\\Lib\\site-packages\\statsmodels\\regression\\linear_model.py:200\u001B[39m, in \u001B[36mRegressionModel.__init__\u001B[39m\u001B[34m(self, endog, exog, **kwargs)\u001B[39m\n\u001B[32m    199\u001B[39m \u001B[38;5;28;01mdef\u001B[39;00m\u001B[38;5;250m \u001B[39m\u001B[34m__init__\u001B[39m(\u001B[38;5;28mself\u001B[39m, endog, exog, **kwargs):\n\u001B[32m--> \u001B[39m\u001B[32m200\u001B[39m     \u001B[38;5;28;43msuper\u001B[39;49m\u001B[43m(\u001B[49m\u001B[43m)\u001B[49m\u001B[43m.\u001B[49m\u001B[34;43m__init__\u001B[39;49m\u001B[43m(\u001B[49m\u001B[43mendog\u001B[49m\u001B[43m,\u001B[49m\u001B[43m \u001B[49m\u001B[43mexog\u001B[49m\u001B[43m,\u001B[49m\u001B[43m \u001B[49m\u001B[43m*\u001B[49m\u001B[43m*\u001B[49m\u001B[43mkwargs\u001B[49m\u001B[43m)\u001B[49m\n\u001B[32m    201\u001B[39m     \u001B[38;5;28mself\u001B[39m.pinv_wexog: Float64Array | \u001B[38;5;28;01mNone\u001B[39;00m = \u001B[38;5;28;01mNone\u001B[39;00m\n\u001B[32m    202\u001B[39m     \u001B[38;5;28mself\u001B[39m._data_attr.extend([\u001B[33m'\u001B[39m\u001B[33mpinv_wexog\u001B[39m\u001B[33m'\u001B[39m, \u001B[33m'\u001B[39m\u001B[33mwendog\u001B[39m\u001B[33m'\u001B[39m, \u001B[33m'\u001B[39m\u001B[33mwexog\u001B[39m\u001B[33m'\u001B[39m, \u001B[33m'\u001B[39m\u001B[33mweights\u001B[39m\u001B[33m'\u001B[39m])\n",
      "\u001B[36mFile \u001B[39m\u001B[32mC:\\.env\\master_project\\Lib\\site-packages\\statsmodels\\base\\model.py:270\u001B[39m, in \u001B[36mLikelihoodModel.__init__\u001B[39m\u001B[34m(self, endog, exog, **kwargs)\u001B[39m\n\u001B[32m    269\u001B[39m \u001B[38;5;28;01mdef\u001B[39;00m\u001B[38;5;250m \u001B[39m\u001B[34m__init__\u001B[39m(\u001B[38;5;28mself\u001B[39m, endog, exog=\u001B[38;5;28;01mNone\u001B[39;00m, **kwargs):\n\u001B[32m--> \u001B[39m\u001B[32m270\u001B[39m     \u001B[38;5;28;43msuper\u001B[39;49m\u001B[43m(\u001B[49m\u001B[43m)\u001B[49m\u001B[43m.\u001B[49m\u001B[34;43m__init__\u001B[39;49m\u001B[43m(\u001B[49m\u001B[43mendog\u001B[49m\u001B[43m,\u001B[49m\u001B[43m \u001B[49m\u001B[43mexog\u001B[49m\u001B[43m,\u001B[49m\u001B[43m \u001B[49m\u001B[43m*\u001B[49m\u001B[43m*\u001B[49m\u001B[43mkwargs\u001B[49m\u001B[43m)\u001B[49m\n\u001B[32m    271\u001B[39m     \u001B[38;5;28mself\u001B[39m.initialize()\n",
      "\u001B[36mFile \u001B[39m\u001B[32mC:\\.env\\master_project\\Lib\\site-packages\\statsmodels\\base\\model.py:95\u001B[39m, in \u001B[36mModel.__init__\u001B[39m\u001B[34m(self, endog, exog, **kwargs)\u001B[39m\n\u001B[32m     93\u001B[39m missing = kwargs.pop(\u001B[33m'\u001B[39m\u001B[33mmissing\u001B[39m\u001B[33m'\u001B[39m, \u001B[33m'\u001B[39m\u001B[33mnone\u001B[39m\u001B[33m'\u001B[39m)\n\u001B[32m     94\u001B[39m hasconst = kwargs.pop(\u001B[33m'\u001B[39m\u001B[33mhasconst\u001B[39m\u001B[33m'\u001B[39m, \u001B[38;5;28;01mNone\u001B[39;00m)\n\u001B[32m---> \u001B[39m\u001B[32m95\u001B[39m \u001B[38;5;28mself\u001B[39m.data = \u001B[38;5;28;43mself\u001B[39;49m\u001B[43m.\u001B[49m\u001B[43m_handle_data\u001B[49m\u001B[43m(\u001B[49m\u001B[43mendog\u001B[49m\u001B[43m,\u001B[49m\u001B[43m \u001B[49m\u001B[43mexog\u001B[49m\u001B[43m,\u001B[49m\u001B[43m \u001B[49m\u001B[43mmissing\u001B[49m\u001B[43m,\u001B[49m\u001B[43m \u001B[49m\u001B[43mhasconst\u001B[49m\u001B[43m,\u001B[49m\n\u001B[32m     96\u001B[39m \u001B[43m                              \u001B[49m\u001B[43m*\u001B[49m\u001B[43m*\u001B[49m\u001B[43mkwargs\u001B[49m\u001B[43m)\u001B[49m\n\u001B[32m     97\u001B[39m \u001B[38;5;28mself\u001B[39m.k_constant = \u001B[38;5;28mself\u001B[39m.data.k_constant\n\u001B[32m     98\u001B[39m \u001B[38;5;28mself\u001B[39m.exog = \u001B[38;5;28mself\u001B[39m.data.exog\n",
      "\u001B[36mFile \u001B[39m\u001B[32mC:\\.env\\master_project\\Lib\\site-packages\\statsmodels\\base\\model.py:135\u001B[39m, in \u001B[36mModel._handle_data\u001B[39m\u001B[34m(self, endog, exog, missing, hasconst, **kwargs)\u001B[39m\n\u001B[32m    134\u001B[39m \u001B[38;5;28;01mdef\u001B[39;00m\u001B[38;5;250m \u001B[39m\u001B[34m_handle_data\u001B[39m(\u001B[38;5;28mself\u001B[39m, endog, exog, missing, hasconst, **kwargs):\n\u001B[32m--> \u001B[39m\u001B[32m135\u001B[39m     data = \u001B[43mhandle_data\u001B[49m\u001B[43m(\u001B[49m\u001B[43mendog\u001B[49m\u001B[43m,\u001B[49m\u001B[43m \u001B[49m\u001B[43mexog\u001B[49m\u001B[43m,\u001B[49m\u001B[43m \u001B[49m\u001B[43mmissing\u001B[49m\u001B[43m,\u001B[49m\u001B[43m \u001B[49m\u001B[43mhasconst\u001B[49m\u001B[43m,\u001B[49m\u001B[43m \u001B[49m\u001B[43m*\u001B[49m\u001B[43m*\u001B[49m\u001B[43mkwargs\u001B[49m\u001B[43m)\u001B[49m\n\u001B[32m    136\u001B[39m     \u001B[38;5;66;03m# kwargs arrays could have changed, easier to just attach here\u001B[39;00m\n\u001B[32m    137\u001B[39m     \u001B[38;5;28;01mfor\u001B[39;00m key \u001B[38;5;129;01min\u001B[39;00m kwargs:\n",
      "\u001B[36mFile \u001B[39m\u001B[32mC:\\.env\\master_project\\Lib\\site-packages\\statsmodels\\base\\data.py:675\u001B[39m, in \u001B[36mhandle_data\u001B[39m\u001B[34m(endog, exog, missing, hasconst, **kwargs)\u001B[39m\n\u001B[32m    672\u001B[39m     exog = np.asarray(exog)\n\u001B[32m    674\u001B[39m klass = handle_data_class_factory(endog, exog)\n\u001B[32m--> \u001B[39m\u001B[32m675\u001B[39m \u001B[38;5;28;01mreturn\u001B[39;00m \u001B[43mklass\u001B[49m\u001B[43m(\u001B[49m\u001B[43mendog\u001B[49m\u001B[43m,\u001B[49m\u001B[43m \u001B[49m\u001B[43mexog\u001B[49m\u001B[43m=\u001B[49m\u001B[43mexog\u001B[49m\u001B[43m,\u001B[49m\u001B[43m \u001B[49m\u001B[43mmissing\u001B[49m\u001B[43m=\u001B[49m\u001B[43mmissing\u001B[49m\u001B[43m,\u001B[49m\u001B[43m \u001B[49m\u001B[43mhasconst\u001B[49m\u001B[43m=\u001B[49m\u001B[43mhasconst\u001B[49m\u001B[43m,\u001B[49m\n\u001B[32m    676\u001B[39m \u001B[43m             \u001B[49m\u001B[43m*\u001B[49m\u001B[43m*\u001B[49m\u001B[43mkwargs\u001B[49m\u001B[43m)\u001B[49m\n",
      "\u001B[36mFile \u001B[39m\u001B[32mC:\\.env\\master_project\\Lib\\site-packages\\statsmodels\\base\\data.py:88\u001B[39m, in \u001B[36mModelData.__init__\u001B[39m\u001B[34m(self, endog, exog, missing, hasconst, **kwargs)\u001B[39m\n\u001B[32m     86\u001B[39m \u001B[38;5;28mself\u001B[39m.const_idx = \u001B[38;5;28;01mNone\u001B[39;00m\n\u001B[32m     87\u001B[39m \u001B[38;5;28mself\u001B[39m.k_constant = \u001B[32m0\u001B[39m\n\u001B[32m---> \u001B[39m\u001B[32m88\u001B[39m \u001B[38;5;28;43mself\u001B[39;49m\u001B[43m.\u001B[49m\u001B[43m_handle_constant\u001B[49m\u001B[43m(\u001B[49m\u001B[43mhasconst\u001B[49m\u001B[43m)\u001B[49m\n\u001B[32m     89\u001B[39m \u001B[38;5;28mself\u001B[39m._check_integrity()\n\u001B[32m     90\u001B[39m \u001B[38;5;28mself\u001B[39m._cache = {}\n",
      "\u001B[36mFile \u001B[39m\u001B[32mC:\\.env\\master_project\\Lib\\site-packages\\statsmodels\\base\\data.py:134\u001B[39m, in \u001B[36mModelData._handle_constant\u001B[39m\u001B[34m(self, hasconst)\u001B[39m\n\u001B[32m    132\u001B[39m exog_max = np.max(\u001B[38;5;28mself\u001B[39m.exog, axis=\u001B[32m0\u001B[39m)\n\u001B[32m    133\u001B[39m \u001B[38;5;28;01mif\u001B[39;00m \u001B[38;5;129;01mnot\u001B[39;00m np.isfinite(exog_max).all():\n\u001B[32m--> \u001B[39m\u001B[32m134\u001B[39m     \u001B[38;5;28;01mraise\u001B[39;00m MissingDataError(\u001B[33m'\u001B[39m\u001B[33mexog contains inf or nans\u001B[39m\u001B[33m'\u001B[39m)\n\u001B[32m    135\u001B[39m exog_min = np.min(\u001B[38;5;28mself\u001B[39m.exog, axis=\u001B[32m0\u001B[39m)\n\u001B[32m    136\u001B[39m const_idx = np.where(exog_max == exog_min)[\u001B[32m0\u001B[39m].squeeze()\n",
      "\u001B[31mMissingDataError\u001B[39m: exog contains inf or nans"
     ]
    }
   ],
   "execution_count": 24
  },
  {
   "metadata": {
    "ExecuteTime": {
     "end_time": "2025-05-26T20:46:33.664475Z",
     "start_time": "2025-05-26T20:46:26.372358Z"
    }
   },
   "cell_type": "code",
   "source": "ts_plot_cfs(df['cob max'])",
   "id": "83a0a258aa0e1a98",
   "outputs": [
    {
     "data": {
      "text/plain": [
       "<Figure size 640x480 with 1 Axes>"
      ],
      "image/png": "[encoded data removed]"
     },
     "metadata": {},
     "output_type": "display_data"
    },
    {
     "data": {
      "text/plain": [
       "<Figure size 640x480 with 1 Axes>"
      ],
      "image/png": "[encoded data removed]"
     },
     "metadata": {},
     "output_type": "display_data"
    }
   ],
   "execution_count": 9
  },
  {
   "metadata": {
    "ExecuteTime": {
     "end_time": "2025-05-26T22:08:21.038871Z",
     "start_time": "2025-05-26T21:58:55.095072Z"
    }
   },
   "cell_type": "code",
   "source": [
    "p_q_args = {'pmax': 10, 'qmax': 10, 'pstep': 2, 'qstep': 2}\n",
    "p_q_result(**p_q_args, ytrain=df['cob max'])\n"
   ],
   "id": "1957268c3002e63a",
   "outputs": [
    {
     "name": "stderr",
     "output_type": "stream",
     "text": [
      "C:\\.env\\master_project\\Lib\\site-packages\\statsmodels\\tsa\\base\\tsa_model.py:473: ValueWarning: No frequency information was provided, so inferred frequency 15min will be used.\n",
      "  self._init_dates(dates, freq)\n",
      "C:\\.env\\master_project\\Lib\\site-packages\\statsmodels\\tsa\\base\\tsa_model.py:473: ValueWarning: No frequency information was provided, so inferred frequency 15min will be used.\n",
      "  self._init_dates(dates, freq)\n",
      "C:\\.env\\master_project\\Lib\\site-packages\\statsmodels\\tsa\\base\\tsa_model.py:473: ValueWarning: No frequency information was provided, so inferred frequency 15min will be used.\n",
      "  self._init_dates(dates, freq)\n",
      "<string>:28: FutureWarning: The behavior of DataFrame concatenation with empty or all-NA entries is deprecated. In a future version, this will no longer exclude empty or all-NA columns when determining the result dtypes. To retain the old behavior, exclude the relevant entries before the concat operation.\n",
      "C:\\.env\\master_project\\Lib\\site-packages\\statsmodels\\tsa\\base\\tsa_model.py:473: ValueWarning: No frequency information was provided, so inferred frequency 15min will be used.\n",
      "  self._init_dates(dates, freq)\n",
      "C:\\.env\\master_project\\Lib\\site-packages\\statsmodels\\tsa\\base\\tsa_model.py:473: ValueWarning: No frequency information was provided, so inferred frequency 15min will be used.\n",
      "  self._init_dates(dates, freq)\n",
      "C:\\.env\\master_project\\Lib\\site-packages\\statsmodels\\tsa\\base\\tsa_model.py:473: ValueWarning: No frequency information was provided, so inferred frequency 15min will be used.\n",
      "  self._init_dates(dates, freq)\n"
     ]
    },
    {
     "name": "stdout",
     "output_type": "stream",
     "text": [
      "Trained ARIMA (0, 0, 0) in 2.09 seconds.\n",
      "0 null values in predictions\n",
      "Trained ARIMA (0, 0, 2) in 2.24 seconds.\n",
      "0 null values in predictions\n"
     ]
    },
    {
     "name": "stderr",
     "output_type": "stream",
     "text": [
      "C:\\.env\\master_project\\Lib\\site-packages\\statsmodels\\tsa\\base\\tsa_model.py:473: ValueWarning: No frequency information was provided, so inferred frequency 15min will be used.\n",
      "  self._init_dates(dates, freq)\n",
      "C:\\.env\\master_project\\Lib\\site-packages\\statsmodels\\tsa\\base\\tsa_model.py:473: ValueWarning: No frequency information was provided, so inferred frequency 15min will be used.\n",
      "  self._init_dates(dates, freq)\n",
      "C:\\.env\\master_project\\Lib\\site-packages\\statsmodels\\tsa\\base\\tsa_model.py:473: ValueWarning: No frequency information was provided, so inferred frequency 15min will be used.\n",
      "  self._init_dates(dates, freq)\n"
     ]
    },
    {
     "name": "stdout",
     "output_type": "stream",
     "text": [
      "Trained ARIMA (0, 0, 4) in 5.15 seconds.\n",
      "0 null values in predictions\n"
     ]
    },
    {
     "name": "stderr",
     "output_type": "stream",
     "text": [
      "C:\\.env\\master_project\\Lib\\site-packages\\statsmodels\\tsa\\base\\tsa_model.py:473: ValueWarning: No frequency information was provided, so inferred frequency 15min will be used.\n",
      "  self._init_dates(dates, freq)\n",
      "C:\\.env\\master_project\\Lib\\site-packages\\statsmodels\\tsa\\base\\tsa_model.py:473: ValueWarning: No frequency information was provided, so inferred frequency 15min will be used.\n",
      "  self._init_dates(dates, freq)\n",
      "C:\\.env\\master_project\\Lib\\site-packages\\statsmodels\\tsa\\base\\tsa_model.py:473: ValueWarning: No frequency information was provided, so inferred frequency 15min will be used.\n",
      "  self._init_dates(dates, freq)\n"
     ]
    },
    {
     "name": "stdout",
     "output_type": "stream",
     "text": [
      "Trained ARIMA (0, 0, 6) in 7.47 seconds.\n",
      "0 null values in predictions\n"
     ]
    },
    {
     "name": "stderr",
     "output_type": "stream",
     "text": [
      "C:\\.env\\master_project\\Lib\\site-packages\\statsmodels\\tsa\\base\\tsa_model.py:473: ValueWarning: No frequency information was provided, so inferred frequency 15min will be used.\n",
      "  self._init_dates(dates, freq)\n",
      "C:\\.env\\master_project\\Lib\\site-packages\\statsmodels\\tsa\\base\\tsa_model.py:473: ValueWarning: No frequency information was provided, so inferred frequency 15min will be used.\n",
      "  self._init_dates(dates, freq)\n",
      "C:\\.env\\master_project\\Lib\\site-packages\\statsmodels\\tsa\\base\\tsa_model.py:473: ValueWarning: No frequency information was provided, so inferred frequency 15min will be used.\n",
      "  self._init_dates(dates, freq)\n"
     ]
    },
    {
     "name": "stdout",
     "output_type": "stream",
     "text": [
      "Trained ARIMA (0, 0, 8) in 9.84 seconds.\n",
      "0 null values in predictions\n"
     ]
    },
    {
     "name": "stderr",
     "output_type": "stream",
     "text": [
      "C:\\.env\\master_project\\Lib\\site-packages\\statsmodels\\tsa\\base\\tsa_model.py:473: ValueWarning: No frequency information was provided, so inferred frequency 15min will be used.\n",
      "  self._init_dates(dates, freq)\n",
      "C:\\.env\\master_project\\Lib\\site-packages\\statsmodels\\tsa\\base\\tsa_model.py:473: ValueWarning: No frequency information was provided, so inferred frequency 15min will be used.\n",
      "  self._init_dates(dates, freq)\n",
      "C:\\.env\\master_project\\Lib\\site-packages\\statsmodels\\tsa\\base\\tsa_model.py:473: ValueWarning: No frequency information was provided, so inferred frequency 15min will be used.\n",
      "  self._init_dates(dates, freq)\n"
     ]
    },
    {
     "name": "stdout",
     "output_type": "stream",
     "text": [
      "Trained ARIMA (2, 0, 0) in 0.48 seconds.\n",
      "0 null values in predictions\n"
     ]
    },
    {
     "name": "stderr",
     "output_type": "stream",
     "text": [
      "C:\\.env\\master_project\\Lib\\site-packages\\statsmodels\\tsa\\base\\tsa_model.py:473: ValueWarning: No frequency information was provided, so inferred frequency 15min will be used.\n",
      "  self._init_dates(dates, freq)\n",
      "C:\\.env\\master_project\\Lib\\site-packages\\statsmodels\\tsa\\base\\tsa_model.py:473: ValueWarning: No frequency information was provided, so inferred frequency 15min will be used.\n",
      "  self._init_dates(dates, freq)\n",
      "C:\\.env\\master_project\\Lib\\site-packages\\statsmodels\\tsa\\base\\tsa_model.py:473: ValueWarning: No frequency information was provided, so inferred frequency 15min will be used.\n",
      "  self._init_dates(dates, freq)\n"
     ]
    },
    {
     "name": "stdout",
     "output_type": "stream",
     "text": [
      "Trained ARIMA (2, 0, 2) in 2.58 seconds.\n",
      "0 null values in predictions\n"
     ]
    },
    {
     "name": "stderr",
     "output_type": "stream",
     "text": [
      "C:\\.env\\master_project\\Lib\\site-packages\\statsmodels\\tsa\\base\\tsa_model.py:473: ValueWarning: No frequency information was provided, so inferred frequency 15min will be used.\n",
      "  self._init_dates(dates, freq)\n",
      "C:\\.env\\master_project\\Lib\\site-packages\\statsmodels\\tsa\\base\\tsa_model.py:473: ValueWarning: No frequency information was provided, so inferred frequency 15min will be used.\n",
      "  self._init_dates(dates, freq)\n",
      "C:\\.env\\master_project\\Lib\\site-packages\\statsmodels\\tsa\\base\\tsa_model.py:473: ValueWarning: No frequency information was provided, so inferred frequency 15min will be used.\n",
      "  self._init_dates(dates, freq)\n"
     ]
    },
    {
     "name": "stdout",
     "output_type": "stream",
     "text": [
      "Trained ARIMA (2, 0, 4) in 14.3 seconds.\n",
      "0 null values in predictions\n"
     ]
    },
    {
     "name": "stderr",
     "output_type": "stream",
     "text": [
      "C:\\.env\\master_project\\Lib\\site-packages\\statsmodels\\tsa\\base\\tsa_model.py:473: ValueWarning: No frequency information was provided, so inferred frequency 15min will be used.\n",
      "  self._init_dates(dates, freq)\n",
      "C:\\.env\\master_project\\Lib\\site-packages\\statsmodels\\tsa\\base\\tsa_model.py:473: ValueWarning: No frequency information was provided, so inferred frequency 15min will be used.\n",
      "  self._init_dates(dates, freq)\n",
      "C:\\.env\\master_project\\Lib\\site-packages\\statsmodels\\tsa\\base\\tsa_model.py:473: ValueWarning: No frequency information was provided, so inferred frequency 15min will be used.\n",
      "  self._init_dates(dates, freq)\n"
     ]
    },
    {
     "name": "stdout",
     "output_type": "stream",
     "text": [
      "Trained ARIMA (2, 0, 6) in 8.54 seconds.\n",
      "0 null values in predictions\n"
     ]
    },
    {
     "name": "stderr",
     "output_type": "stream",
     "text": [
      "C:\\.env\\master_project\\Lib\\site-packages\\statsmodels\\tsa\\base\\tsa_model.py:473: ValueWarning: No frequency information was provided, so inferred frequency 15min will be used.\n",
      "  self._init_dates(dates, freq)\n",
      "C:\\.env\\master_project\\Lib\\site-packages\\statsmodels\\tsa\\base\\tsa_model.py:473: ValueWarning: No frequency information was provided, so inferred frequency 15min will be used.\n",
      "  self._init_dates(dates, freq)\n",
      "C:\\.env\\master_project\\Lib\\site-packages\\statsmodels\\tsa\\base\\tsa_model.py:473: ValueWarning: No frequency information was provided, so inferred frequency 15min will be used.\n",
      "  self._init_dates(dates, freq)\n"
     ]
    },
    {
     "name": "stdout",
     "output_type": "stream",
     "text": [
      "Trained ARIMA (2, 0, 8) in 30.48 seconds.\n",
      "0 null values in predictions\n"
     ]
    },
    {
     "name": "stderr",
     "output_type": "stream",
     "text": [
      "C:\\.env\\master_project\\Lib\\site-packages\\statsmodels\\tsa\\base\\tsa_model.py:473: ValueWarning: No frequency information was provided, so inferred frequency 15min will be used.\n",
      "  self._init_dates(dates, freq)\n",
      "C:\\.env\\master_project\\Lib\\site-packages\\statsmodels\\tsa\\base\\tsa_model.py:473: ValueWarning: No frequency information was provided, so inferred frequency 15min will be used.\n",
      "  self._init_dates(dates, freq)\n",
      "C:\\.env\\master_project\\Lib\\site-packages\\statsmodels\\tsa\\base\\tsa_model.py:473: ValueWarning: No frequency information was provided, so inferred frequency 15min will be used.\n",
      "  self._init_dates(dates, freq)\n"
     ]
    },
    {
     "name": "stdout",
     "output_type": "stream",
     "text": [
      "Trained ARIMA (4, 0, 0) in 0.84 seconds.\n",
      "0 null values in predictions\n"
     ]
    },
    {
     "name": "stderr",
     "output_type": "stream",
     "text": [
      "C:\\.env\\master_project\\Lib\\site-packages\\statsmodels\\tsa\\base\\tsa_model.py:473: ValueWarning: No frequency information was provided, so inferred frequency 15min will be used.\n",
      "  self._init_dates(dates, freq)\n",
      "C:\\.env\\master_project\\Lib\\site-packages\\statsmodels\\tsa\\base\\tsa_model.py:473: ValueWarning: No frequency information was provided, so inferred frequency 15min will be used.\n",
      "  self._init_dates(dates, freq)\n",
      "C:\\.env\\master_project\\Lib\\site-packages\\statsmodels\\tsa\\base\\tsa_model.py:473: ValueWarning: No frequency information was provided, so inferred frequency 15min will be used.\n",
      "  self._init_dates(dates, freq)\n",
      "C:\\.env\\master_project\\Lib\\site-packages\\statsmodels\\tsa\\statespace\\sarimax.py:966: UserWarning: Non-stationary starting autoregressive parameters found. Using zeros as starting parameters.\n",
      "  warn('Non-stationary starting autoregressive parameters'\n",
      "C:\\.env\\master_project\\Lib\\site-packages\\statsmodels\\tsa\\statespace\\sarimax.py:978: UserWarning: Non-invertible starting MA parameters found. Using zeros as starting parameters.\n",
      "  warn('Non-invertible starting MA parameters found.'\n",
      "C:\\.env\\master_project\\Lib\\site-packages\\statsmodels\\base\\model.py:607: ConvergenceWarning: Maximum Likelihood optimization failed to converge. Check mle_retvals\n",
      "  warnings.warn(\"Maximum Likelihood optimization failed to \"\n"
     ]
    },
    {
     "name": "stdout",
     "output_type": "stream",
     "text": [
      "Trained ARIMA (4, 0, 2) in 22.52 seconds.\n",
      "0 null values in predictions\n"
     ]
    },
    {
     "name": "stderr",
     "output_type": "stream",
     "text": [
      "C:\\.env\\master_project\\Lib\\site-packages\\statsmodels\\tsa\\base\\tsa_model.py:473: ValueWarning: No frequency information was provided, so inferred frequency 15min will be used.\n",
      "  self._init_dates(dates, freq)\n",
      "C:\\.env\\master_project\\Lib\\site-packages\\statsmodels\\tsa\\base\\tsa_model.py:473: ValueWarning: No frequency information was provided, so inferred frequency 15min will be used.\n",
      "  self._init_dates(dates, freq)\n",
      "C:\\.env\\master_project\\Lib\\site-packages\\statsmodels\\tsa\\base\\tsa_model.py:473: ValueWarning: No frequency information was provided, so inferred frequency 15min will be used.\n",
      "  self._init_dates(dates, freq)\n"
     ]
    },
    {
     "name": "stdout",
     "output_type": "stream",
     "text": [
      "Trained ARIMA (4, 0, 4) in 21.68 seconds.\n",
      "0 null values in predictions\n"
     ]
    },
    {
     "name": "stderr",
     "output_type": "stream",
     "text": [
      "C:\\.env\\master_project\\Lib\\site-packages\\statsmodels\\tsa\\base\\tsa_model.py:473: ValueWarning: No frequency information was provided, so inferred frequency 15min will be used.\n",
      "  self._init_dates(dates, freq)\n",
      "C:\\.env\\master_project\\Lib\\site-packages\\statsmodels\\tsa\\base\\tsa_model.py:473: ValueWarning: No frequency information was provided, so inferred frequency 15min will be used.\n",
      "  self._init_dates(dates, freq)\n",
      "C:\\.env\\master_project\\Lib\\site-packages\\statsmodels\\tsa\\base\\tsa_model.py:473: ValueWarning: No frequency information was provided, so inferred frequency 15min will be used.\n",
      "  self._init_dates(dates, freq)\n",
      "C:\\.env\\master_project\\Lib\\site-packages\\statsmodels\\base\\model.py:607: ConvergenceWarning: Maximum Likelihood optimization failed to converge. Check mle_retvals\n",
      "  warnings.warn(\"Maximum Likelihood optimization failed to \"\n"
     ]
    },
    {
     "name": "stdout",
     "output_type": "stream",
     "text": [
      "Trained ARIMA (4, 0, 6) in 39.39 seconds.\n",
      "0 null values in predictions\n"
     ]
    },
    {
     "name": "stderr",
     "output_type": "stream",
     "text": [
      "C:\\.env\\master_project\\Lib\\site-packages\\statsmodels\\tsa\\base\\tsa_model.py:473: ValueWarning: No frequency information was provided, so inferred frequency 15min will be used.\n",
      "  self._init_dates(dates, freq)\n",
      "C:\\.env\\master_project\\Lib\\site-packages\\statsmodels\\tsa\\base\\tsa_model.py:473: ValueWarning: No frequency information was provided, so inferred frequency 15min will be used.\n",
      "  self._init_dates(dates, freq)\n",
      "C:\\.env\\master_project\\Lib\\site-packages\\statsmodels\\tsa\\base\\tsa_model.py:473: ValueWarning: No frequency information was provided, so inferred frequency 15min will be used.\n",
      "  self._init_dates(dates, freq)\n"
     ]
    },
    {
     "name": "stdout",
     "output_type": "stream",
     "text": [
      "Trained ARIMA (4, 0, 8) in 31.84 seconds.\n",
      "0 null values in predictions\n"
     ]
    },
    {
     "name": "stderr",
     "output_type": "stream",
     "text": [
      "C:\\.env\\master_project\\Lib\\site-packages\\statsmodels\\tsa\\base\\tsa_model.py:473: ValueWarning: No frequency information was provided, so inferred frequency 15min will be used.\n",
      "  self._init_dates(dates, freq)\n",
      "C:\\.env\\master_project\\Lib\\site-packages\\statsmodels\\tsa\\base\\tsa_model.py:473: ValueWarning: No frequency information was provided, so inferred frequency 15min will be used.\n",
      "  self._init_dates(dates, freq)\n",
      "C:\\.env\\master_project\\Lib\\site-packages\\statsmodels\\tsa\\base\\tsa_model.py:473: ValueWarning: No frequency information was provided, so inferred frequency 15min will be used.\n",
      "  self._init_dates(dates, freq)\n"
     ]
    },
    {
     "name": "stdout",
     "output_type": "stream",
     "text": [
      "Trained ARIMA (6, 0, 0) in 1.94 seconds.\n",
      "0 null values in predictions\n"
     ]
    },
    {
     "name": "stderr",
     "output_type": "stream",
     "text": [
      "C:\\.env\\master_project\\Lib\\site-packages\\statsmodels\\tsa\\base\\tsa_model.py:473: ValueWarning: No frequency information was provided, so inferred frequency 15min will be used.\n",
      "  self._init_dates(dates, freq)\n",
      "C:\\.env\\master_project\\Lib\\site-packages\\statsmodels\\tsa\\base\\tsa_model.py:473: ValueWarning: No frequency information was provided, so inferred frequency 15min will be used.\n",
      "  self._init_dates(dates, freq)\n",
      "C:\\.env\\master_project\\Lib\\site-packages\\statsmodels\\tsa\\base\\tsa_model.py:473: ValueWarning: No frequency information was provided, so inferred frequency 15min will be used.\n",
      "  self._init_dates(dates, freq)\n",
      "C:\\.env\\master_project\\Lib\\site-packages\\statsmodels\\tsa\\statespace\\sarimax.py:966: UserWarning: Non-stationary starting autoregressive parameters found. Using zeros as starting parameters.\n",
      "  warn('Non-stationary starting autoregressive parameters'\n",
      "C:\\.env\\master_project\\Lib\\site-packages\\statsmodels\\tsa\\statespace\\sarimax.py:978: UserWarning: Non-invertible starting MA parameters found. Using zeros as starting parameters.\n",
      "  warn('Non-invertible starting MA parameters found.'\n"
     ]
    },
    {
     "name": "stdout",
     "output_type": "stream",
     "text": [
      "Trained ARIMA (6, 0, 2) in 19.17 seconds.\n",
      "0 null values in predictions\n"
     ]
    },
    {
     "name": "stderr",
     "output_type": "stream",
     "text": [
      "C:\\.env\\master_project\\Lib\\site-packages\\statsmodels\\tsa\\base\\tsa_model.py:473: ValueWarning: No frequency information was provided, so inferred frequency 15min will be used.\n",
      "  self._init_dates(dates, freq)\n",
      "C:\\.env\\master_project\\Lib\\site-packages\\statsmodels\\tsa\\base\\tsa_model.py:473: ValueWarning: No frequency information was provided, so inferred frequency 15min will be used.\n",
      "  self._init_dates(dates, freq)\n",
      "C:\\.env\\master_project\\Lib\\site-packages\\statsmodels\\tsa\\base\\tsa_model.py:473: ValueWarning: No frequency information was provided, so inferred frequency 15min will be used.\n",
      "  self._init_dates(dates, freq)\n",
      "C:\\.env\\master_project\\Lib\\site-packages\\statsmodels\\tsa\\statespace\\sarimax.py:966: UserWarning: Non-stationary starting autoregressive parameters found. Using zeros as starting parameters.\n",
      "  warn('Non-stationary starting autoregressive parameters'\n",
      "C:\\.env\\master_project\\Lib\\site-packages\\statsmodels\\tsa\\statespace\\sarimax.py:978: UserWarning: Non-invertible starting MA parameters found. Using zeros as starting parameters.\n",
      "  warn('Non-invertible starting MA parameters found.'\n",
      "C:\\.env\\master_project\\Lib\\site-packages\\statsmodels\\base\\model.py:607: ConvergenceWarning: Maximum Likelihood optimization failed to converge. Check mle_retvals\n",
      "  warnings.warn(\"Maximum Likelihood optimization failed to \"\n"
     ]
    },
    {
     "name": "stdout",
     "output_type": "stream",
     "text": [
      "Trained ARIMA (6, 0, 4) in 35.33 seconds.\n",
      "0 null values in predictions\n"
     ]
    },
    {
     "name": "stderr",
     "output_type": "stream",
     "text": [
      "C:\\.env\\master_project\\Lib\\site-packages\\statsmodels\\tsa\\base\\tsa_model.py:473: ValueWarning: No frequency information was provided, so inferred frequency 15min will be used.\n",
      "  self._init_dates(dates, freq)\n",
      "C:\\.env\\master_project\\Lib\\site-packages\\statsmodels\\tsa\\base\\tsa_model.py:473: ValueWarning: No frequency information was provided, so inferred frequency 15min will be used.\n",
      "  self._init_dates(dates, freq)\n",
      "C:\\.env\\master_project\\Lib\\site-packages\\statsmodels\\tsa\\base\\tsa_model.py:473: ValueWarning: No frequency information was provided, so inferred frequency 15min will be used.\n",
      "  self._init_dates(dates, freq)\n"
     ]
    },
    {
     "name": "stdout",
     "output_type": "stream",
     "text": [
      "Trained ARIMA (6, 0, 6) in 44.43 seconds.\n",
      "0 null values in predictions\n"
     ]
    },
    {
     "name": "stderr",
     "output_type": "stream",
     "text": [
      "C:\\.env\\master_project\\Lib\\site-packages\\statsmodels\\tsa\\base\\tsa_model.py:473: ValueWarning: No frequency information was provided, so inferred frequency 15min will be used.\n",
      "  self._init_dates(dates, freq)\n",
      "C:\\.env\\master_project\\Lib\\site-packages\\statsmodels\\tsa\\base\\tsa_model.py:473: ValueWarning: No frequency information was provided, so inferred frequency 15min will be used.\n",
      "  self._init_dates(dates, freq)\n",
      "C:\\.env\\master_project\\Lib\\site-packages\\statsmodels\\tsa\\base\\tsa_model.py:473: ValueWarning: No frequency information was provided, so inferred frequency 15min will be used.\n",
      "  self._init_dates(dates, freq)\n",
      "C:\\.env\\master_project\\Lib\\site-packages\\statsmodels\\base\\model.py:607: ConvergenceWarning: Maximum Likelihood optimization failed to converge. Check mle_retvals\n",
      "  warnings.warn(\"Maximum Likelihood optimization failed to \"\n"
     ]
    },
    {
     "name": "stdout",
     "output_type": "stream",
     "text": [
      "Trained ARIMA (6, 0, 8) in 78.07 seconds.\n",
      "0 null values in predictions\n"
     ]
    },
    {
     "name": "stderr",
     "output_type": "stream",
     "text": [
      "C:\\.env\\master_project\\Lib\\site-packages\\statsmodels\\tsa\\base\\tsa_model.py:473: ValueWarning: No frequency information was provided, so inferred frequency 15min will be used.\n",
      "  self._init_dates(dates, freq)\n",
      "C:\\.env\\master_project\\Lib\\site-packages\\statsmodels\\tsa\\base\\tsa_model.py:473: ValueWarning: No frequency information was provided, so inferred frequency 15min will be used.\n",
      "  self._init_dates(dates, freq)\n",
      "C:\\.env\\master_project\\Lib\\site-packages\\statsmodels\\tsa\\base\\tsa_model.py:473: ValueWarning: No frequency information was provided, so inferred frequency 15min will be used.\n",
      "  self._init_dates(dates, freq)\n"
     ]
    },
    {
     "name": "stdout",
     "output_type": "stream",
     "text": [
      "Trained ARIMA (8, 0, 0) in 3.5 seconds.\n",
      "0 null values in predictions\n"
     ]
    },
    {
     "name": "stderr",
     "output_type": "stream",
     "text": [
      "C:\\.env\\master_project\\Lib\\site-packages\\statsmodels\\tsa\\base\\tsa_model.py:473: ValueWarning: No frequency information was provided, so inferred frequency 15min will be used.\n",
      "  self._init_dates(dates, freq)\n",
      "C:\\.env\\master_project\\Lib\\site-packages\\statsmodels\\tsa\\base\\tsa_model.py:473: ValueWarning: No frequency information was provided, so inferred frequency 15min will be used.\n",
      "  self._init_dates(dates, freq)\n",
      "C:\\.env\\master_project\\Lib\\site-packages\\statsmodels\\tsa\\base\\tsa_model.py:473: ValueWarning: No frequency information was provided, so inferred frequency 15min will be used.\n",
      "  self._init_dates(dates, freq)\n",
      "C:\\.env\\master_project\\Lib\\site-packages\\statsmodels\\tsa\\statespace\\sarimax.py:966: UserWarning: Non-stationary starting autoregressive parameters found. Using zeros as starting parameters.\n",
      "  warn('Non-stationary starting autoregressive parameters'\n",
      "C:\\.env\\master_project\\Lib\\site-packages\\statsmodels\\tsa\\statespace\\sarimax.py:978: UserWarning: Non-invertible starting MA parameters found. Using zeros as starting parameters.\n",
      "  warn('Non-invertible starting MA parameters found.'\n",
      "C:\\.env\\master_project\\Lib\\site-packages\\statsmodels\\base\\model.py:607: ConvergenceWarning: Maximum Likelihood optimization failed to converge. Check mle_retvals\n",
      "  warnings.warn(\"Maximum Likelihood optimization failed to \"\n"
     ]
    },
    {
     "name": "stdout",
     "output_type": "stream",
     "text": [
      "Trained ARIMA (8, 0, 2) in 43.52 seconds.\n",
      "0 null values in predictions\n"
     ]
    },
    {
     "name": "stderr",
     "output_type": "stream",
     "text": [
      "C:\\.env\\master_project\\Lib\\site-packages\\statsmodels\\tsa\\base\\tsa_model.py:473: ValueWarning: No frequency information was provided, so inferred frequency 15min will be used.\n",
      "  self._init_dates(dates, freq)\n",
      "C:\\.env\\master_project\\Lib\\site-packages\\statsmodels\\tsa\\base\\tsa_model.py:473: ValueWarning: No frequency information was provided, so inferred frequency 15min will be used.\n",
      "  self._init_dates(dates, freq)\n",
      "C:\\.env\\master_project\\Lib\\site-packages\\statsmodels\\tsa\\base\\tsa_model.py:473: ValueWarning: No frequency information was provided, so inferred frequency 15min will be used.\n",
      "  self._init_dates(dates, freq)\n",
      "C:\\.env\\master_project\\Lib\\site-packages\\statsmodels\\tsa\\statespace\\sarimax.py:966: UserWarning: Non-stationary starting autoregressive parameters found. Using zeros as starting parameters.\n",
      "  warn('Non-stationary starting autoregressive parameters'\n",
      "C:\\.env\\master_project\\Lib\\site-packages\\statsmodels\\tsa\\statespace\\sarimax.py:978: UserWarning: Non-invertible starting MA parameters found. Using zeros as starting parameters.\n",
      "  warn('Non-invertible starting MA parameters found.'\n",
      "C:\\.env\\master_project\\Lib\\site-packages\\statsmodels\\base\\model.py:607: ConvergenceWarning: Maximum Likelihood optimization failed to converge. Check mle_retvals\n",
      "  warnings.warn(\"Maximum Likelihood optimization failed to \"\n"
     ]
    },
    {
     "name": "stdout",
     "output_type": "stream",
     "text": [
      "Trained ARIMA (8, 0, 4) in 38.97 seconds.\n",
      "0 null values in predictions\n"
     ]
    },
    {
     "name": "stderr",
     "output_type": "stream",
     "text": [
      "C:\\.env\\master_project\\Lib\\site-packages\\statsmodels\\tsa\\base\\tsa_model.py:473: ValueWarning: No frequency information was provided, so inferred frequency 15min will be used.\n",
      "  self._init_dates(dates, freq)\n",
      "C:\\.env\\master_project\\Lib\\site-packages\\statsmodels\\tsa\\base\\tsa_model.py:473: ValueWarning: No frequency information was provided, so inferred frequency 15min will be used.\n",
      "  self._init_dates(dates, freq)\n",
      "C:\\.env\\master_project\\Lib\\site-packages\\statsmodels\\tsa\\base\\tsa_model.py:473: ValueWarning: No frequency information was provided, so inferred frequency 15min will be used.\n",
      "  self._init_dates(dates, freq)\n",
      "C:\\.env\\master_project\\Lib\\site-packages\\statsmodels\\base\\model.py:607: ConvergenceWarning: Maximum Likelihood optimization failed to converge. Check mle_retvals\n",
      "  warnings.warn(\"Maximum Likelihood optimization failed to \"\n"
     ]
    },
    {
     "name": "stdout",
     "output_type": "stream",
     "text": [
      "Trained ARIMA (8, 0, 6) in 41.86 seconds.\n",
      "0 null values in predictions\n"
     ]
    },
    {
     "name": "stderr",
     "output_type": "stream",
     "text": [
      "C:\\.env\\master_project\\Lib\\site-packages\\statsmodels\\tsa\\base\\tsa_model.py:473: ValueWarning: No frequency information was provided, so inferred frequency 15min will be used.\n",
      "  self._init_dates(dates, freq)\n",
      "C:\\.env\\master_project\\Lib\\site-packages\\statsmodels\\tsa\\base\\tsa_model.py:473: ValueWarning: No frequency information was provided, so inferred frequency 15min will be used.\n",
      "  self._init_dates(dates, freq)\n",
      "C:\\.env\\master_project\\Lib\\site-packages\\statsmodels\\tsa\\base\\tsa_model.py:473: ValueWarning: No frequency information was provided, so inferred frequency 15min will be used.\n",
      "  self._init_dates(dates, freq)\n",
      "C:\\.env\\master_project\\Lib\\site-packages\\statsmodels\\base\\model.py:607: ConvergenceWarning: Maximum Likelihood optimization failed to converge. Check mle_retvals\n",
      "  warnings.warn(\"Maximum Likelihood optimization failed to \"\n"
     ]
    },
    {
     "name": "stdout",
     "output_type": "stream",
     "text": [
      "Trained ARIMA (8, 0, 8) in 59.44 seconds.\n",
      "0 null values in predictions\n",
      "All permutations completed in 565.72 seconds.\n",
      "        2       4       6       8\n",
      "0  4.4993  4.4998  4.4977  4.4979\n",
      "1  4.4990  4.4989  4.4978  4.4981\n",
      "2  4.4972  4.4979  4.4981  4.4956\n",
      "3  4.4973  4.4970  4.4971  4.4971\n",
      "4  4.4970  4.4973  4.4964  4.5052\n"
     ]
    },
    {
     "data": {
      "text/plain": [
       "(          2         4         6         8\n",
       " 0  4.499292  4.499784  4.497694  4.497877\n",
       " 1  4.499035  4.498891  4.497755  4.498051\n",
       " 2  4.497184  4.497900  4.498068  4.495632\n",
       " 3  4.497310  4.496991  4.497138  4.497087\n",
       " 4  4.496988  4.497266  4.496431  4.505166,\n",
       "         Order            AIC            BIC\n",
       " 0   (0, 0, 0)  304359.730474  304376.736056\n",
       " 1   (0, 0, 2)  280976.164118  281010.175282\n",
       " 2   (0, 0, 4)  277325.044276  277376.061022\n",
       " 3   (0, 0, 6)  276687.764843  276755.787171\n",
       " 4   (0, 0, 8)  276469.140691  276554.168601\n",
       " 5   (2, 0, 0)  276342.956237  276376.967401\n",
       " 6   (2, 0, 2)  276347.506854  276398.523599\n",
       " 7   (2, 0, 4)  276333.419426  276401.441754\n",
       " 8   (2, 0, 6)  276333.534790  276418.562700\n",
       " 9   (2, 0, 8)  276326.622101  276428.655593\n",
       " 10  (4, 0, 0)  276342.405361  276393.422107\n",
       " 11  (4, 0, 2)  276328.889437  276396.911765\n",
       " 12  (4, 0, 4)  276335.119529  276420.147438\n",
       " 13  (4, 0, 6)  276324.611193  276426.644685\n",
       " 14  (4, 0, 8)  276326.087758  276445.126832\n",
       " 15  (6, 0, 0)  276331.001650  276399.023978\n",
       " 16  (6, 0, 2)  276333.982563  276419.010472\n",
       " 17  (6, 0, 4)  276329.726696  276431.760188\n",
       " 18  (6, 0, 6)  276329.832263  276448.871337\n",
       " 19  (6, 0, 8)  276316.342487  276452.387142\n",
       " 20  (8, 0, 0)  276331.249320  276416.277230\n",
       " 21  (8, 0, 2)  276323.934395  276425.967887\n",
       " 22  (8, 0, 4)  276321.855839  276440.894913\n",
       " 23  (8, 0, 6)  276320.765692  276456.810347\n",
       " 24  (8, 0, 8)  276280.601231  276433.651469)"
      ]
     },
     "execution_count": 42,
     "metadata": {},
     "output_type": "execute_result"
    },
    {
     "data": {
      "text/plain": [
       "<Figure size 640x480 with 2 Axes>"
      ],
      "image/png": "[encoded data removed]"
     },
     "metadata": {},
     "output_type": "display_data"
    }
   ],
   "execution_count": 42
  },
  {
   "metadata": {
    "ExecuteTime": {
     "end_time": "2025-05-26T20:48:41.625766Z",
     "start_time": "2025-05-26T20:48:41.470339Z"
    }
   },
   "cell_type": "code",
   "source": [
    "# After\n",
    "df = df.asfreq('15min')\n",
    "df['cob max'] = df['cob max'].fillna(0)"
   ],
   "id": "c1d0fa59a26e8c3",
   "outputs": [],
   "execution_count": 14
  }
 ],
 "metadata": {
  "kernelspec": {
   "display_name": "Python 3",
   "language": "python",
   "name": "python3"
  },
  "language_info": {
   "codemirror_mode": {
    "name": "ipython",
    "version": 2
   },
   "file_extension": ".py",
   "mimetype": "text/x-python",
   "name": "python",
   "nbconvert_exporter": "python",
   "pygments_lexer": "ipython2",
   "version": "2.7.6"
  }
 },
 "nbformat": 4,
 "nbformat_minor": 5
}
